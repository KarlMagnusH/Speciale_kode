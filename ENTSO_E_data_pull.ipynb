{
 "cells": [
  {
   "cell_type": "code",
   "execution_count": 1,
   "metadata": {},
   "outputs": [],
   "source": [
    "import pandas as pd\n",
    "import time\n",
    "from entsoe import EntsoePandasClient\n",
    "from tqdm import tqdm\n",
    "import warnings\n",
    "warnings.filterwarnings(\"ignore\")\n",
    "\n",
    "# Initialize the EntsoePandasClient\n",
    "client = EntsoePandasClient(api_key='') #INSERT TOKEN FROM ENTSO-E INDSIDE ''\n",
    "\n",
    "all_data_dict = {}"
   ]
  },
  {
   "cell_type": "markdown",
   "metadata": {},
   "source": [
    "client.query_load_and_forecast(country_code, start=start, end=end)\n",
    "\n",
    "client.query_wind_and_solar_forecast(country_code, start=start,end=end, psr_type=None)\n",
    "\n",
    "client.query_generation_import(country_code, start, end)\n",
    "\n",
    "client.query_day_ahead_prices(country_code, start=start,end=end)"
   ]
  },
  {
   "cell_type": "markdown",
   "metadata": {},
   "source": [
    "    DK =            '10Y1001A1001A65H', 'Denmark',                                      'Europe/Copenhagen',\n",
    "    DK_1 =          '10YDK-1--------W', 'DK1 BZ / MBA',                                 'Europe/Copenhagen',\n",
    "    DK_1_NO_1 =     '46Y000000000007M', 'DK1 NO1 BZ',                                   'Europe/Copenhagen',\n",
    "    DK_2 =          '10YDK-2--------M', 'DK2 BZ / MBA',                                 'Europe/Copenhagen',\n",
    "    DK_CA =         '10Y1001A1001A796', 'Denmark, Energinet CA',                        'Europe/Copenhagen',"
   ]
  },
  {
   "cell_type": "code",
   "execution_count": 3,
   "metadata": {},
   "outputs": [],
   "source": [
    "data_path = ''"
   ]
  },
  {
   "cell_type": "markdown",
   "metadata": {},
   "source": [
    "load and forecast"
   ]
  },
  {
   "cell_type": "code",
   "execution_count": 8,
   "metadata": {},
   "outputs": [
    {
     "name": "stderr",
     "output_type": "stream",
     "text": [
      "Years:   0%|          | 0/10 [00:00<?, ?it/s]"
     ]
    },
    {
     "name": "stdout",
     "output_type": "stream",
     "text": [
      "DK_1 2014-12-01 00:00:00+01:00 2015-01-01 00:00:00+01:00\n"
     ]
    },
    {
     "name": "stderr",
     "output_type": "stream",
     "text": [
      "Years:  10%|█         | 1/10 [2:06:59<19:02:53, 7619.28s/it]"
     ]
    },
    {
     "name": "stdout",
     "output_type": "stream",
     "text": [
      "DK_1 2015-01-01 00:00:00+01:00 2015-02-01 00:00:00+01:00\n"
     ]
    },
    {
     "name": "stderr",
     "output_type": "stream",
     "text": []
    },
    {
     "name": "stdout",
     "output_type": "stream",
     "text": [
      "DK_1 2015-02-01 00:00:00+01:00 2015-03-01 00:00:00+01:00\n"
     ]
    },
    {
     "name": "stderr",
     "output_type": "stream",
     "text": []
    },
    {
     "name": "stdout",
     "output_type": "stream",
     "text": [
      "DK_1 2015-03-01 00:00:00+01:00 2015-04-01 00:00:00+02:00\n"
     ]
    },
    {
     "name": "stderr",
     "output_type": "stream",
     "text": []
    },
    {
     "name": "stdout",
     "output_type": "stream",
     "text": [
      "DK_1 2015-04-01 00:00:00+02:00 2015-05-01 00:00:00+02:00\n"
     ]
    },
    {
     "name": "stderr",
     "output_type": "stream",
     "text": []
    },
    {
     "name": "stdout",
     "output_type": "stream",
     "text": [
      "DK_1 2015-05-01 00:00:00+02:00 2015-06-01 00:00:00+02:00\n"
     ]
    },
    {
     "name": "stderr",
     "output_type": "stream",
     "text": []
    },
    {
     "name": "stdout",
     "output_type": "stream",
     "text": [
      "DK_1 2015-06-01 00:00:00+02:00 2015-07-01 00:00:00+02:00\n"
     ]
    },
    {
     "name": "stderr",
     "output_type": "stream",
     "text": []
    },
    {
     "name": "stdout",
     "output_type": "stream",
     "text": [
      "DK_1 2015-07-01 00:00:00+02:00 2015-08-01 00:00:00+02:00\n"
     ]
    },
    {
     "name": "stderr",
     "output_type": "stream",
     "text": []
    },
    {
     "name": "stdout",
     "output_type": "stream",
     "text": [
      "DK_1 2015-08-01 00:00:00+02:00 2015-09-01 00:00:00+02:00\n"
     ]
    },
    {
     "name": "stderr",
     "output_type": "stream",
     "text": []
    },
    {
     "name": "stdout",
     "output_type": "stream",
     "text": [
      "DK_1 2015-09-01 00:00:00+02:00 2015-10-01 00:00:00+02:00\n"
     ]
    },
    {
     "name": "stderr",
     "output_type": "stream",
     "text": []
    },
    {
     "name": "stdout",
     "output_type": "stream",
     "text": [
      "DK_1 2015-10-01 00:00:00+02:00 2015-11-01 00:00:00+01:00\n"
     ]
    },
    {
     "name": "stderr",
     "output_type": "stream",
     "text": []
    },
    {
     "name": "stdout",
     "output_type": "stream",
     "text": [
      "DK_1 2015-11-01 00:00:00+01:00 2015-12-01 00:00:00+01:00\n"
     ]
    },
    {
     "name": "stderr",
     "output_type": "stream",
     "text": []
    },
    {
     "name": "stdout",
     "output_type": "stream",
     "text": [
      "DK_1 2015-12-01 00:00:00+01:00 2016-01-01 00:00:00+01:00\n"
     ]
    },
    {
     "name": "stderr",
     "output_type": "stream",
     "text": [
      "Years:  20%|██        | 2/10 [3:13:39<12:12:03, 5490.50s/it]"
     ]
    },
    {
     "name": "stdout",
     "output_type": "stream",
     "text": [
      "DK_1 2016-01-01 00:00:00+01:00 2016-02-01 00:00:00+01:00\n"
     ]
    },
    {
     "name": "stderr",
     "output_type": "stream",
     "text": []
    },
    {
     "name": "stdout",
     "output_type": "stream",
     "text": [
      "DK_1 2016-02-01 00:00:00+01:00 2016-03-01 00:00:00+01:00\n"
     ]
    },
    {
     "name": "stderr",
     "output_type": "stream",
     "text": []
    },
    {
     "name": "stdout",
     "output_type": "stream",
     "text": [
      "DK_1 2016-03-01 00:00:00+01:00 2016-04-01 00:00:00+02:00\n"
     ]
    },
    {
     "name": "stderr",
     "output_type": "stream",
     "text": []
    },
    {
     "name": "stdout",
     "output_type": "stream",
     "text": [
      "DK_1 2016-04-01 00:00:00+02:00 2016-05-01 00:00:00+02:00\n"
     ]
    },
    {
     "name": "stderr",
     "output_type": "stream",
     "text": []
    },
    {
     "name": "stdout",
     "output_type": "stream",
     "text": [
      "DK_1 2016-05-01 00:00:00+02:00 2016-06-01 00:00:00+02:00\n"
     ]
    },
    {
     "name": "stderr",
     "output_type": "stream",
     "text": []
    },
    {
     "name": "stdout",
     "output_type": "stream",
     "text": [
      "DK_1 2016-06-01 00:00:00+02:00 2016-07-01 00:00:00+02:00\n"
     ]
    },
    {
     "name": "stderr",
     "output_type": "stream",
     "text": []
    },
    {
     "name": "stdout",
     "output_type": "stream",
     "text": [
      "DK_1 2016-07-01 00:00:00+02:00 2016-08-01 00:00:00+02:00\n"
     ]
    },
    {
     "name": "stderr",
     "output_type": "stream",
     "text": []
    },
    {
     "name": "stdout",
     "output_type": "stream",
     "text": [
      "DK_1 2016-08-01 00:00:00+02:00 2016-09-01 00:00:00+02:00\n"
     ]
    },
    {
     "name": "stderr",
     "output_type": "stream",
     "text": []
    },
    {
     "name": "stdout",
     "output_type": "stream",
     "text": [
      "DK_1 2016-09-01 00:00:00+02:00 2016-10-01 00:00:00+02:00\n"
     ]
    },
    {
     "name": "stderr",
     "output_type": "stream",
     "text": []
    },
    {
     "name": "stdout",
     "output_type": "stream",
     "text": [
      "DK_1 2016-10-01 00:00:00+02:00 2016-11-01 00:00:00+01:00\n"
     ]
    },
    {
     "name": "stderr",
     "output_type": "stream",
     "text": []
    },
    {
     "name": "stdout",
     "output_type": "stream",
     "text": [
      "DK_1 2016-11-01 00:00:00+01:00 2016-12-01 00:00:00+01:00\n"
     ]
    },
    {
     "name": "stderr",
     "output_type": "stream",
     "text": []
    },
    {
     "name": "stdout",
     "output_type": "stream",
     "text": [
      "DK_1 2016-12-01 00:00:00+01:00 2017-01-01 00:00:00+01:00\n"
     ]
    },
    {
     "name": "stderr",
     "output_type": "stream",
     "text": [
      "Years:  30%|███       | 3/10 [4:20:17<9:21:03, 4809.01s/it] "
     ]
    },
    {
     "name": "stdout",
     "output_type": "stream",
     "text": [
      "DK_1 2017-01-01 00:00:00+01:00 2017-02-01 00:00:00+01:00\n"
     ]
    },
    {
     "name": "stderr",
     "output_type": "stream",
     "text": []
    },
    {
     "name": "stdout",
     "output_type": "stream",
     "text": [
      "DK_1 2017-02-01 00:00:00+01:00 2017-03-01 00:00:00+01:00\n"
     ]
    },
    {
     "name": "stderr",
     "output_type": "stream",
     "text": []
    },
    {
     "name": "stdout",
     "output_type": "stream",
     "text": [
      "DK_1 2017-03-01 00:00:00+01:00 2017-04-01 00:00:00+02:00\n"
     ]
    },
    {
     "name": "stderr",
     "output_type": "stream",
     "text": []
    },
    {
     "name": "stdout",
     "output_type": "stream",
     "text": [
      "DK_1 2017-04-01 00:00:00+02:00 2017-05-01 00:00:00+02:00\n"
     ]
    },
    {
     "name": "stderr",
     "output_type": "stream",
     "text": []
    },
    {
     "name": "stdout",
     "output_type": "stream",
     "text": [
      "DK_1 2017-05-01 00:00:00+02:00 2017-06-01 00:00:00+02:00\n"
     ]
    },
    {
     "name": "stderr",
     "output_type": "stream",
     "text": []
    },
    {
     "name": "stdout",
     "output_type": "stream",
     "text": [
      "DK_1 2017-06-01 00:00:00+02:00 2017-07-01 00:00:00+02:00\n"
     ]
    },
    {
     "name": "stderr",
     "output_type": "stream",
     "text": []
    },
    {
     "name": "stdout",
     "output_type": "stream",
     "text": [
      "DK_1 2017-07-01 00:00:00+02:00 2017-08-01 00:00:00+02:00\n"
     ]
    },
    {
     "name": "stderr",
     "output_type": "stream",
     "text": []
    },
    {
     "name": "stdout",
     "output_type": "stream",
     "text": [
      "DK_1 2017-08-01 00:00:00+02:00 2017-09-01 00:00:00+02:00\n"
     ]
    },
    {
     "name": "stderr",
     "output_type": "stream",
     "text": []
    },
    {
     "name": "stdout",
     "output_type": "stream",
     "text": [
      "DK_1 2017-09-01 00:00:00+02:00 2017-10-01 00:00:00+02:00\n"
     ]
    },
    {
     "name": "stderr",
     "output_type": "stream",
     "text": []
    },
    {
     "name": "stdout",
     "output_type": "stream",
     "text": [
      "DK_1 2017-10-01 00:00:00+02:00 2017-11-01 00:00:00+01:00\n"
     ]
    },
    {
     "name": "stderr",
     "output_type": "stream",
     "text": []
    },
    {
     "name": "stdout",
     "output_type": "stream",
     "text": [
      "DK_1 2017-11-01 00:00:00+01:00 2017-12-01 00:00:00+01:00\n"
     ]
    },
    {
     "name": "stderr",
     "output_type": "stream",
     "text": []
    },
    {
     "name": "stdout",
     "output_type": "stream",
     "text": [
      "DK_1 2017-12-01 00:00:00+01:00 2018-01-01 00:00:00+01:00\n"
     ]
    },
    {
     "name": "stderr",
     "output_type": "stream",
     "text": [
      "Years:  40%|████      | 4/10 [5:27:00<7:29:05, 4490.89s/it]"
     ]
    },
    {
     "name": "stdout",
     "output_type": "stream",
     "text": [
      "DK_1 2018-01-01 00:00:00+01:00 2018-02-01 00:00:00+01:00\n"
     ]
    },
    {
     "name": "stderr",
     "output_type": "stream",
     "text": []
    },
    {
     "name": "stdout",
     "output_type": "stream",
     "text": [
      "DK_1 2018-02-01 00:00:00+01:00 2018-03-01 00:00:00+01:00\n"
     ]
    },
    {
     "name": "stderr",
     "output_type": "stream",
     "text": []
    },
    {
     "name": "stdout",
     "output_type": "stream",
     "text": [
      "DK_1 2018-03-01 00:00:00+01:00 2018-04-01 00:00:00+02:00\n"
     ]
    },
    {
     "name": "stderr",
     "output_type": "stream",
     "text": []
    },
    {
     "name": "stdout",
     "output_type": "stream",
     "text": [
      "DK_1 2018-04-01 00:00:00+02:00 2018-05-01 00:00:00+02:00\n"
     ]
    },
    {
     "name": "stderr",
     "output_type": "stream",
     "text": []
    },
    {
     "name": "stdout",
     "output_type": "stream",
     "text": [
      "DK_1 2018-05-01 00:00:00+02:00 2018-06-01 00:00:00+02:00\n"
     ]
    },
    {
     "name": "stderr",
     "output_type": "stream",
     "text": []
    },
    {
     "name": "stdout",
     "output_type": "stream",
     "text": [
      "DK_1 2018-06-01 00:00:00+02:00 2018-07-01 00:00:00+02:00\n"
     ]
    },
    {
     "name": "stderr",
     "output_type": "stream",
     "text": []
    },
    {
     "name": "stdout",
     "output_type": "stream",
     "text": [
      "DK_1 2018-07-01 00:00:00+02:00 2018-08-01 00:00:00+02:00\n"
     ]
    },
    {
     "name": "stderr",
     "output_type": "stream",
     "text": []
    },
    {
     "name": "stdout",
     "output_type": "stream",
     "text": [
      "DK_1 2018-08-01 00:00:00+02:00 2018-09-01 00:00:00+02:00\n"
     ]
    },
    {
     "name": "stderr",
     "output_type": "stream",
     "text": []
    },
    {
     "name": "stdout",
     "output_type": "stream",
     "text": [
      "DK_1 2018-09-01 00:00:00+02:00 2018-10-01 00:00:00+02:00\n"
     ]
    },
    {
     "name": "stderr",
     "output_type": "stream",
     "text": []
    },
    {
     "name": "stdout",
     "output_type": "stream",
     "text": [
      "DK_1 2018-10-01 00:00:00+02:00 2018-11-01 00:00:00+01:00\n"
     ]
    },
    {
     "name": "stderr",
     "output_type": "stream",
     "text": []
    },
    {
     "name": "stdout",
     "output_type": "stream",
     "text": [
      "DK_1 2018-11-01 00:00:00+01:00 2018-12-01 00:00:00+01:00\n"
     ]
    },
    {
     "name": "stderr",
     "output_type": "stream",
     "text": []
    },
    {
     "name": "stdout",
     "output_type": "stream",
     "text": [
      "DK_1 2018-12-01 00:00:00+01:00 2019-01-01 00:00:00+01:00\n"
     ]
    },
    {
     "name": "stderr",
     "output_type": "stream",
     "text": [
      "Years:  50%|█████     | 5/10 [6:33:46<5:59:39, 4315.98s/it]"
     ]
    },
    {
     "name": "stdout",
     "output_type": "stream",
     "text": [
      "DK_1 2019-01-01 00:00:00+01:00 2019-02-01 00:00:00+01:00\n"
     ]
    },
    {
     "name": "stderr",
     "output_type": "stream",
     "text": []
    },
    {
     "name": "stdout",
     "output_type": "stream",
     "text": [
      "DK_1 2019-02-01 00:00:00+01:00 2019-03-01 00:00:00+01:00\n"
     ]
    },
    {
     "name": "stderr",
     "output_type": "stream",
     "text": []
    },
    {
     "name": "stdout",
     "output_type": "stream",
     "text": [
      "DK_1 2019-03-01 00:00:00+01:00 2019-04-01 00:00:00+02:00\n"
     ]
    },
    {
     "name": "stderr",
     "output_type": "stream",
     "text": []
    },
    {
     "name": "stdout",
     "output_type": "stream",
     "text": [
      "DK_1 2019-04-01 00:00:00+02:00 2019-05-01 00:00:00+02:00\n"
     ]
    },
    {
     "name": "stderr",
     "output_type": "stream",
     "text": []
    },
    {
     "name": "stdout",
     "output_type": "stream",
     "text": [
      "DK_1 2019-05-01 00:00:00+02:00 2019-06-01 00:00:00+02:00\n"
     ]
    },
    {
     "name": "stderr",
     "output_type": "stream",
     "text": []
    },
    {
     "name": "stdout",
     "output_type": "stream",
     "text": [
      "DK_1 2019-06-01 00:00:00+02:00 2019-07-01 00:00:00+02:00\n"
     ]
    },
    {
     "name": "stderr",
     "output_type": "stream",
     "text": []
    },
    {
     "name": "stdout",
     "output_type": "stream",
     "text": [
      "DK_1 2019-07-01 00:00:00+02:00 2019-08-01 00:00:00+02:00\n"
     ]
    },
    {
     "name": "stderr",
     "output_type": "stream",
     "text": []
    },
    {
     "name": "stdout",
     "output_type": "stream",
     "text": [
      "DK_1 2019-08-01 00:00:00+02:00 2019-09-01 00:00:00+02:00\n"
     ]
    },
    {
     "name": "stderr",
     "output_type": "stream",
     "text": []
    },
    {
     "name": "stdout",
     "output_type": "stream",
     "text": [
      "DK_1 2019-09-01 00:00:00+02:00 2019-10-01 00:00:00+02:00\n"
     ]
    },
    {
     "name": "stderr",
     "output_type": "stream",
     "text": []
    },
    {
     "name": "stdout",
     "output_type": "stream",
     "text": [
      "DK_1 2019-10-01 00:00:00+02:00 2019-11-01 00:00:00+01:00\n"
     ]
    },
    {
     "name": "stderr",
     "output_type": "stream",
     "text": []
    },
    {
     "name": "stdout",
     "output_type": "stream",
     "text": [
      "DK_1 2019-11-01 00:00:00+01:00 2019-12-01 00:00:00+01:00\n"
     ]
    },
    {
     "name": "stderr",
     "output_type": "stream",
     "text": []
    },
    {
     "name": "stdout",
     "output_type": "stream",
     "text": [
      "DK_1 2019-12-01 00:00:00+01:00 2020-01-01 00:00:00+01:00\n"
     ]
    },
    {
     "name": "stderr",
     "output_type": "stream",
     "text": [
      "Years:  60%|██████    | 6/10 [7:40:35<4:40:46, 4211.54s/it]"
     ]
    },
    {
     "name": "stdout",
     "output_type": "stream",
     "text": [
      "DK_1 2020-01-01 00:00:00+01:00 2020-02-01 00:00:00+01:00\n"
     ]
    },
    {
     "name": "stderr",
     "output_type": "stream",
     "text": []
    },
    {
     "name": "stdout",
     "output_type": "stream",
     "text": [
      "DK_1 2020-02-01 00:00:00+01:00 2020-03-01 00:00:00+01:00\n"
     ]
    },
    {
     "name": "stderr",
     "output_type": "stream",
     "text": []
    },
    {
     "name": "stdout",
     "output_type": "stream",
     "text": [
      "DK_1 2020-03-01 00:00:00+01:00 2020-04-01 00:00:00+02:00\n"
     ]
    },
    {
     "name": "stderr",
     "output_type": "stream",
     "text": []
    },
    {
     "name": "stdout",
     "output_type": "stream",
     "text": [
      "DK_1 2020-04-01 00:00:00+02:00 2020-05-01 00:00:00+02:00\n"
     ]
    },
    {
     "name": "stderr",
     "output_type": "stream",
     "text": []
    },
    {
     "name": "stdout",
     "output_type": "stream",
     "text": [
      "DK_1 2020-05-01 00:00:00+02:00 2020-06-01 00:00:00+02:00\n"
     ]
    },
    {
     "name": "stderr",
     "output_type": "stream",
     "text": []
    },
    {
     "name": "stdout",
     "output_type": "stream",
     "text": [
      "DK_1 2020-06-01 00:00:00+02:00 2020-07-01 00:00:00+02:00\n"
     ]
    },
    {
     "name": "stderr",
     "output_type": "stream",
     "text": []
    },
    {
     "name": "stdout",
     "output_type": "stream",
     "text": [
      "DK_1 2020-07-01 00:00:00+02:00 2020-08-01 00:00:00+02:00\n"
     ]
    },
    {
     "name": "stderr",
     "output_type": "stream",
     "text": []
    },
    {
     "name": "stdout",
     "output_type": "stream",
     "text": [
      "DK_1 2020-08-01 00:00:00+02:00 2020-09-01 00:00:00+02:00\n"
     ]
    },
    {
     "name": "stderr",
     "output_type": "stream",
     "text": []
    },
    {
     "name": "stdout",
     "output_type": "stream",
     "text": [
      "DK_1 2020-09-01 00:00:00+02:00 2020-10-01 00:00:00+02:00\n"
     ]
    },
    {
     "name": "stderr",
     "output_type": "stream",
     "text": []
    },
    {
     "name": "stdout",
     "output_type": "stream",
     "text": [
      "DK_1 2020-10-01 00:00:00+02:00 2020-11-01 00:00:00+01:00\n"
     ]
    },
    {
     "name": "stderr",
     "output_type": "stream",
     "text": []
    },
    {
     "name": "stdout",
     "output_type": "stream",
     "text": [
      "DK_1 2020-11-01 00:00:00+01:00 2020-12-01 00:00:00+01:00\n"
     ]
    },
    {
     "name": "stderr",
     "output_type": "stream",
     "text": []
    },
    {
     "name": "stdout",
     "output_type": "stream",
     "text": [
      "DK_1 2020-12-01 00:00:00+01:00 2021-01-01 00:00:00+01:00\n"
     ]
    },
    {
     "name": "stderr",
     "output_type": "stream",
     "text": [
      "Years:  70%|███████   | 7/10 [8:48:19<3:28:09, 4163.17s/it]"
     ]
    },
    {
     "name": "stdout",
     "output_type": "stream",
     "text": [
      "DK_1 2021-01-01 00:00:00+01:00 2021-02-01 00:00:00+01:00\n"
     ]
    },
    {
     "name": "stderr",
     "output_type": "stream",
     "text": []
    },
    {
     "name": "stdout",
     "output_type": "stream",
     "text": [
      "DK_1 2021-02-01 00:00:00+01:00 2021-03-01 00:00:00+01:00\n"
     ]
    },
    {
     "name": "stderr",
     "output_type": "stream",
     "text": [
      "Connection Error, retrying in 0 seconds\n",
      "Connection Error, retrying in 0 seconds\n"
     ]
    },
    {
     "name": "stdout",
     "output_type": "stream",
     "text": [
      "DK_1 2021-03-01 00:00:00+01:00 2021-04-01 00:00:00+02:00\n"
     ]
    },
    {
     "name": "stderr",
     "output_type": "stream",
     "text": []
    },
    {
     "name": "stdout",
     "output_type": "stream",
     "text": [
      "DK_1 2021-04-01 00:00:00+02:00 2021-05-01 00:00:00+02:00\n"
     ]
    },
    {
     "name": "stderr",
     "output_type": "stream",
     "text": []
    },
    {
     "name": "stdout",
     "output_type": "stream",
     "text": [
      "DK_1 2021-05-01 00:00:00+02:00 2021-06-01 00:00:00+02:00\n"
     ]
    },
    {
     "name": "stderr",
     "output_type": "stream",
     "text": []
    },
    {
     "name": "stdout",
     "output_type": "stream",
     "text": [
      "DK_1 2021-06-01 00:00:00+02:00 2021-07-01 00:00:00+02:00\n"
     ]
    },
    {
     "name": "stderr",
     "output_type": "stream",
     "text": []
    },
    {
     "name": "stdout",
     "output_type": "stream",
     "text": [
      "DK_1 2021-07-01 00:00:00+02:00 2021-08-01 00:00:00+02:00\n"
     ]
    },
    {
     "name": "stderr",
     "output_type": "stream",
     "text": []
    },
    {
     "name": "stdout",
     "output_type": "stream",
     "text": [
      "DK_1 2021-08-01 00:00:00+02:00 2021-09-01 00:00:00+02:00\n"
     ]
    },
    {
     "name": "stderr",
     "output_type": "stream",
     "text": []
    },
    {
     "name": "stdout",
     "output_type": "stream",
     "text": [
      "DK_1 2021-09-01 00:00:00+02:00 2021-10-01 00:00:00+02:00\n"
     ]
    },
    {
     "name": "stderr",
     "output_type": "stream",
     "text": []
    },
    {
     "name": "stdout",
     "output_type": "stream",
     "text": [
      "DK_1 2021-10-01 00:00:00+02:00 2021-11-01 00:00:00+01:00\n"
     ]
    },
    {
     "name": "stderr",
     "output_type": "stream",
     "text": [
      "Connection Error, retrying in 0 seconds\n"
     ]
    },
    {
     "name": "stdout",
     "output_type": "stream",
     "text": [
      "DK_1 2021-11-01 00:00:00+01:00 2021-12-01 00:00:00+01:00\n"
     ]
    },
    {
     "name": "stderr",
     "output_type": "stream",
     "text": []
    },
    {
     "name": "stdout",
     "output_type": "stream",
     "text": [
      "DK_1 2021-12-01 00:00:00+01:00 2022-01-01 00:00:00+01:00\n"
     ]
    },
    {
     "name": "stderr",
     "output_type": "stream",
     "text": [
      "Years:  80%|████████  | 8/10 [10:13:44<2:28:58, 4469.42s/it]Connection Error, retrying in 0 seconds\n"
     ]
    },
    {
     "name": "stdout",
     "output_type": "stream",
     "text": [
      "DK_1 2022-01-01 00:00:00+01:00 2022-02-01 00:00:00+01:00\n"
     ]
    },
    {
     "name": "stderr",
     "output_type": "stream",
     "text": []
    },
    {
     "name": "stdout",
     "output_type": "stream",
     "text": [
      "DK_1 2022-02-01 00:00:00+01:00 2022-03-01 00:00:00+01:00\n"
     ]
    },
    {
     "name": "stderr",
     "output_type": "stream",
     "text": []
    },
    {
     "name": "stdout",
     "output_type": "stream",
     "text": [
      "DK_1 2022-03-01 00:00:00+01:00 2022-04-01 00:00:00+02:00\n"
     ]
    },
    {
     "name": "stderr",
     "output_type": "stream",
     "text": []
    },
    {
     "name": "stdout",
     "output_type": "stream",
     "text": [
      "DK_1 2022-04-01 00:00:00+02:00 2022-05-01 00:00:00+02:00\n"
     ]
    },
    {
     "name": "stderr",
     "output_type": "stream",
     "text": []
    },
    {
     "name": "stdout",
     "output_type": "stream",
     "text": [
      "DK_1 2022-05-01 00:00:00+02:00 2022-06-01 00:00:00+02:00\n"
     ]
    },
    {
     "name": "stderr",
     "output_type": "stream",
     "text": []
    },
    {
     "name": "stdout",
     "output_type": "stream",
     "text": [
      "DK_1 2022-06-01 00:00:00+02:00 2022-07-01 00:00:00+02:00\n"
     ]
    },
    {
     "name": "stderr",
     "output_type": "stream",
     "text": []
    },
    {
     "name": "stdout",
     "output_type": "stream",
     "text": [
      "DK_1 2022-07-01 00:00:00+02:00 2022-08-01 00:00:00+02:00\n"
     ]
    },
    {
     "name": "stderr",
     "output_type": "stream",
     "text": []
    },
    {
     "name": "stdout",
     "output_type": "stream",
     "text": [
      "DK_1 2022-08-01 00:00:00+02:00 2022-09-01 00:00:00+02:00\n"
     ]
    },
    {
     "name": "stderr",
     "output_type": "stream",
     "text": []
    },
    {
     "name": "stdout",
     "output_type": "stream",
     "text": [
      "DK_1 2022-09-01 00:00:00+02:00 2022-10-01 00:00:00+02:00\n"
     ]
    },
    {
     "name": "stderr",
     "output_type": "stream",
     "text": []
    },
    {
     "name": "stdout",
     "output_type": "stream",
     "text": [
      "DK_1 2022-10-01 00:00:00+02:00 2022-11-01 00:00:00+01:00\n"
     ]
    },
    {
     "name": "stderr",
     "output_type": "stream",
     "text": []
    },
    {
     "name": "stdout",
     "output_type": "stream",
     "text": [
      "DK_1 2022-11-01 00:00:00+01:00 2022-12-01 00:00:00+01:00\n"
     ]
    },
    {
     "name": "stderr",
     "output_type": "stream",
     "text": []
    },
    {
     "name": "stdout",
     "output_type": "stream",
     "text": [
      "DK_1 2022-12-01 00:00:00+01:00 2023-01-01 00:00:00+01:00\n"
     ]
    },
    {
     "name": "stderr",
     "output_type": "stream",
     "text": [
      "Years:  90%|█████████ | 9/10 [11:27:02<1:14:07, 4447.06s/it]"
     ]
    },
    {
     "name": "stdout",
     "output_type": "stream",
     "text": [
      "DK_1 2023-01-01 00:00:00+01:00 2023-02-01 00:00:00+01:00\n"
     ]
    },
    {
     "name": "stderr",
     "output_type": "stream",
     "text": []
    },
    {
     "name": "stdout",
     "output_type": "stream",
     "text": [
      "DK_1 2023-02-01 00:00:00+01:00 2023-03-01 00:00:00+01:00\n"
     ]
    },
    {
     "name": "stderr",
     "output_type": "stream",
     "text": []
    },
    {
     "name": "stdout",
     "output_type": "stream",
     "text": [
      "DK_1 2023-03-01 00:00:00+01:00 2023-04-01 00:00:00+02:00\n"
     ]
    },
    {
     "name": "stderr",
     "output_type": "stream",
     "text": []
    },
    {
     "name": "stdout",
     "output_type": "stream",
     "text": [
      "DK_1 2023-04-01 00:00:00+02:00 2023-05-01 00:00:00+02:00\n"
     ]
    },
    {
     "name": "stderr",
     "output_type": "stream",
     "text": []
    },
    {
     "name": "stdout",
     "output_type": "stream",
     "text": [
      "DK_1 2023-05-01 00:00:00+02:00 2023-06-01 00:00:00+02:00\n"
     ]
    },
    {
     "name": "stderr",
     "output_type": "stream",
     "text": []
    },
    {
     "name": "stdout",
     "output_type": "stream",
     "text": [
      "DK_1 2023-06-01 00:00:00+02:00 2023-07-01 00:00:00+02:00\n"
     ]
    },
    {
     "name": "stderr",
     "output_type": "stream",
     "text": []
    },
    {
     "name": "stdout",
     "output_type": "stream",
     "text": [
      "DK_1 2023-07-01 00:00:00+02:00 2023-08-01 00:00:00+02:00\n"
     ]
    },
    {
     "name": "stderr",
     "output_type": "stream",
     "text": []
    },
    {
     "name": "stdout",
     "output_type": "stream",
     "text": [
      "DK_1 2023-08-01 00:00:00+02:00 2023-09-01 00:00:00+02:00\n"
     ]
    },
    {
     "name": "stderr",
     "output_type": "stream",
     "text": []
    },
    {
     "name": "stdout",
     "output_type": "stream",
     "text": [
      "DK_1 2023-09-01 00:00:00+02:00 2023-10-01 00:00:00+02:00\n"
     ]
    },
    {
     "name": "stderr",
     "output_type": "stream",
     "text": [
      "Years: 100%|██████████| 10/10 [12:17:15<00:00, 4423.55s/it] \n",
      "Years:   0%|          | 0/10 [00:00<?, ?it/s]"
     ]
    },
    {
     "name": "stdout",
     "output_type": "stream",
     "text": [
      "DK_2 2014-12-01 00:00:00+01:00 2015-01-01 00:00:00+01:00\n"
     ]
    },
    {
     "name": "stderr",
     "output_type": "stream",
     "text": [
      "Years:  10%|█         | 1/10 [2:07:42<19:09:23, 7662.57s/it]"
     ]
    },
    {
     "name": "stdout",
     "output_type": "stream",
     "text": [
      "DK_2 2015-01-01 00:00:00+01:00 2015-02-01 00:00:00+01:00\n"
     ]
    },
    {
     "name": "stderr",
     "output_type": "stream",
     "text": []
    },
    {
     "name": "stdout",
     "output_type": "stream",
     "text": [
      "DK_2 2015-02-01 00:00:00+01:00 2015-03-01 00:00:00+01:00\n"
     ]
    },
    {
     "name": "stderr",
     "output_type": "stream",
     "text": []
    },
    {
     "name": "stdout",
     "output_type": "stream",
     "text": [
      "DK_2 2015-03-01 00:00:00+01:00 2015-04-01 00:00:00+02:00\n"
     ]
    },
    {
     "name": "stderr",
     "output_type": "stream",
     "text": []
    },
    {
     "name": "stdout",
     "output_type": "stream",
     "text": [
      "DK_2 2015-04-01 00:00:00+02:00 2015-05-01 00:00:00+02:00\n"
     ]
    },
    {
     "name": "stderr",
     "output_type": "stream",
     "text": []
    },
    {
     "name": "stdout",
     "output_type": "stream",
     "text": [
      "DK_2 2015-05-01 00:00:00+02:00 2015-06-01 00:00:00+02:00\n"
     ]
    },
    {
     "name": "stderr",
     "output_type": "stream",
     "text": []
    },
    {
     "name": "stdout",
     "output_type": "stream",
     "text": [
      "DK_2 2015-06-01 00:00:00+02:00 2015-07-01 00:00:00+02:00\n"
     ]
    },
    {
     "name": "stderr",
     "output_type": "stream",
     "text": []
    },
    {
     "name": "stdout",
     "output_type": "stream",
     "text": [
      "DK_2 2015-07-01 00:00:00+02:00 2015-08-01 00:00:00+02:00\n"
     ]
    },
    {
     "name": "stderr",
     "output_type": "stream",
     "text": []
    },
    {
     "name": "stdout",
     "output_type": "stream",
     "text": [
      "DK_2 2015-08-01 00:00:00+02:00 2015-09-01 00:00:00+02:00\n"
     ]
    },
    {
     "name": "stderr",
     "output_type": "stream",
     "text": []
    },
    {
     "name": "stdout",
     "output_type": "stream",
     "text": [
      "DK_2 2015-09-01 00:00:00+02:00 2015-10-01 00:00:00+02:00\n"
     ]
    },
    {
     "name": "stderr",
     "output_type": "stream",
     "text": []
    },
    {
     "name": "stdout",
     "output_type": "stream",
     "text": [
      "DK_2 2015-10-01 00:00:00+02:00 2015-11-01 00:00:00+01:00\n"
     ]
    },
    {
     "name": "stderr",
     "output_type": "stream",
     "text": []
    },
    {
     "name": "stdout",
     "output_type": "stream",
     "text": [
      "DK_2 2015-11-01 00:00:00+01:00 2015-12-01 00:00:00+01:00\n"
     ]
    },
    {
     "name": "stderr",
     "output_type": "stream",
     "text": []
    },
    {
     "name": "stdout",
     "output_type": "stream",
     "text": [
      "DK_2 2015-12-01 00:00:00+01:00 2016-01-01 00:00:00+01:00\n"
     ]
    },
    {
     "name": "stderr",
     "output_type": "stream",
     "text": [
      "Years:  20%|██        | 2/10 [3:14:51<12:16:41, 5525.16s/it]"
     ]
    },
    {
     "name": "stdout",
     "output_type": "stream",
     "text": [
      "DK_2 2016-01-01 00:00:00+01:00 2016-02-01 00:00:00+01:00\n"
     ]
    },
    {
     "name": "stderr",
     "output_type": "stream",
     "text": []
    },
    {
     "name": "stdout",
     "output_type": "stream",
     "text": [
      "DK_2 2016-02-01 00:00:00+01:00 2016-03-01 00:00:00+01:00\n"
     ]
    },
    {
     "name": "stderr",
     "output_type": "stream",
     "text": []
    },
    {
     "name": "stdout",
     "output_type": "stream",
     "text": [
      "DK_2 2016-03-01 00:00:00+01:00 2016-04-01 00:00:00+02:00\n"
     ]
    },
    {
     "name": "stderr",
     "output_type": "stream",
     "text": []
    },
    {
     "name": "stdout",
     "output_type": "stream",
     "text": [
      "DK_2 2016-04-01 00:00:00+02:00 2016-05-01 00:00:00+02:00\n"
     ]
    },
    {
     "name": "stderr",
     "output_type": "stream",
     "text": []
    },
    {
     "name": "stdout",
     "output_type": "stream",
     "text": [
      "DK_2 2016-05-01 00:00:00+02:00 2016-06-01 00:00:00+02:00\n"
     ]
    },
    {
     "name": "stderr",
     "output_type": "stream",
     "text": []
    },
    {
     "name": "stdout",
     "output_type": "stream",
     "text": [
      "DK_2 2016-06-01 00:00:00+02:00 2016-07-01 00:00:00+02:00\n"
     ]
    },
    {
     "name": "stderr",
     "output_type": "stream",
     "text": []
    },
    {
     "name": "stdout",
     "output_type": "stream",
     "text": [
      "DK_2 2016-07-01 00:00:00+02:00 2016-08-01 00:00:00+02:00\n"
     ]
    },
    {
     "name": "stderr",
     "output_type": "stream",
     "text": []
    },
    {
     "name": "stdout",
     "output_type": "stream",
     "text": [
      "DK_2 2016-08-01 00:00:00+02:00 2016-09-01 00:00:00+02:00\n"
     ]
    },
    {
     "name": "stderr",
     "output_type": "stream",
     "text": []
    },
    {
     "name": "stdout",
     "output_type": "stream",
     "text": [
      "DK_2 2016-09-01 00:00:00+02:00 2016-10-01 00:00:00+02:00\n"
     ]
    },
    {
     "name": "stderr",
     "output_type": "stream",
     "text": []
    },
    {
     "name": "stdout",
     "output_type": "stream",
     "text": [
      "DK_2 2016-10-01 00:00:00+02:00 2016-11-01 00:00:00+01:00\n"
     ]
    },
    {
     "name": "stderr",
     "output_type": "stream",
     "text": []
    },
    {
     "name": "stdout",
     "output_type": "stream",
     "text": [
      "DK_2 2016-11-01 00:00:00+01:00 2016-12-01 00:00:00+01:00\n"
     ]
    },
    {
     "name": "stderr",
     "output_type": "stream",
     "text": []
    },
    {
     "name": "stdout",
     "output_type": "stream",
     "text": [
      "DK_2 2016-12-01 00:00:00+01:00 2017-01-01 00:00:00+01:00\n"
     ]
    },
    {
     "name": "stderr",
     "output_type": "stream",
     "text": [
      "Years:  30%|███       | 3/10 [4:22:12<9:25:32, 4847.55s/it] "
     ]
    },
    {
     "name": "stdout",
     "output_type": "stream",
     "text": [
      "DK_2 2017-01-01 00:00:00+01:00 2017-02-01 00:00:00+01:00\n"
     ]
    },
    {
     "name": "stderr",
     "output_type": "stream",
     "text": []
    },
    {
     "name": "stdout",
     "output_type": "stream",
     "text": [
      "DK_2 2017-02-01 00:00:00+01:00 2017-03-01 00:00:00+01:00\n"
     ]
    },
    {
     "name": "stderr",
     "output_type": "stream",
     "text": []
    },
    {
     "name": "stdout",
     "output_type": "stream",
     "text": [
      "DK_2 2017-03-01 00:00:00+01:00 2017-04-01 00:00:00+02:00\n"
     ]
    },
    {
     "name": "stderr",
     "output_type": "stream",
     "text": []
    },
    {
     "name": "stdout",
     "output_type": "stream",
     "text": [
      "DK_2 2017-04-01 00:00:00+02:00 2017-05-01 00:00:00+02:00\n"
     ]
    },
    {
     "name": "stderr",
     "output_type": "stream",
     "text": []
    },
    {
     "name": "stdout",
     "output_type": "stream",
     "text": [
      "DK_2 2017-05-01 00:00:00+02:00 2017-06-01 00:00:00+02:00\n"
     ]
    },
    {
     "name": "stderr",
     "output_type": "stream",
     "text": []
    },
    {
     "name": "stdout",
     "output_type": "stream",
     "text": [
      "DK_2 2017-06-01 00:00:00+02:00 2017-07-01 00:00:00+02:00\n"
     ]
    },
    {
     "name": "stderr",
     "output_type": "stream",
     "text": []
    },
    {
     "name": "stdout",
     "output_type": "stream",
     "text": [
      "DK_2 2017-07-01 00:00:00+02:00 2017-08-01 00:00:00+02:00\n"
     ]
    },
    {
     "name": "stderr",
     "output_type": "stream",
     "text": []
    },
    {
     "name": "stdout",
     "output_type": "stream",
     "text": [
      "DK_2 2017-08-01 00:00:00+02:00 2017-09-01 00:00:00+02:00\n"
     ]
    },
    {
     "name": "stderr",
     "output_type": "stream",
     "text": []
    },
    {
     "name": "stdout",
     "output_type": "stream",
     "text": [
      "DK_2 2017-09-01 00:00:00+02:00 2017-10-01 00:00:00+02:00\n"
     ]
    },
    {
     "name": "stderr",
     "output_type": "stream",
     "text": []
    },
    {
     "name": "stdout",
     "output_type": "stream",
     "text": [
      "DK_2 2017-10-01 00:00:00+02:00 2017-11-01 00:00:00+01:00\n"
     ]
    },
    {
     "name": "stderr",
     "output_type": "stream",
     "text": []
    },
    {
     "name": "stdout",
     "output_type": "stream",
     "text": [
      "DK_2 2017-11-01 00:00:00+01:00 2017-12-01 00:00:00+01:00\n"
     ]
    },
    {
     "name": "stderr",
     "output_type": "stream",
     "text": []
    },
    {
     "name": "stdout",
     "output_type": "stream",
     "text": [
      "DK_2 2017-12-01 00:00:00+01:00 2018-01-01 00:00:00+01:00\n"
     ]
    },
    {
     "name": "stderr",
     "output_type": "stream",
     "text": [
      "Years:  40%|████      | 4/10 [5:29:14<7:32:08, 4521.41s/it]"
     ]
    },
    {
     "name": "stdout",
     "output_type": "stream",
     "text": [
      "DK_2 2018-01-01 00:00:00+01:00 2018-02-01 00:00:00+01:00\n"
     ]
    },
    {
     "name": "stderr",
     "output_type": "stream",
     "text": []
    },
    {
     "name": "stdout",
     "output_type": "stream",
     "text": [
      "DK_2 2018-02-01 00:00:00+01:00 2018-03-01 00:00:00+01:00\n"
     ]
    },
    {
     "name": "stderr",
     "output_type": "stream",
     "text": []
    },
    {
     "name": "stdout",
     "output_type": "stream",
     "text": [
      "DK_2 2018-03-01 00:00:00+01:00 2018-04-01 00:00:00+02:00\n"
     ]
    },
    {
     "name": "stderr",
     "output_type": "stream",
     "text": []
    },
    {
     "name": "stdout",
     "output_type": "stream",
     "text": [
      "DK_2 2018-04-01 00:00:00+02:00 2018-05-01 00:00:00+02:00\n"
     ]
    },
    {
     "name": "stderr",
     "output_type": "stream",
     "text": []
    },
    {
     "name": "stdout",
     "output_type": "stream",
     "text": [
      "DK_2 2018-05-01 00:00:00+02:00 2018-06-01 00:00:00+02:00\n"
     ]
    },
    {
     "name": "stderr",
     "output_type": "stream",
     "text": []
    },
    {
     "name": "stdout",
     "output_type": "stream",
     "text": [
      "DK_2 2018-06-01 00:00:00+02:00 2018-07-01 00:00:00+02:00\n"
     ]
    },
    {
     "name": "stderr",
     "output_type": "stream",
     "text": []
    },
    {
     "name": "stdout",
     "output_type": "stream",
     "text": [
      "DK_2 2018-07-01 00:00:00+02:00 2018-08-01 00:00:00+02:00\n"
     ]
    },
    {
     "name": "stderr",
     "output_type": "stream",
     "text": []
    },
    {
     "name": "stdout",
     "output_type": "stream",
     "text": [
      "DK_2 2018-08-01 00:00:00+02:00 2018-09-01 00:00:00+02:00\n"
     ]
    },
    {
     "name": "stderr",
     "output_type": "stream",
     "text": []
    },
    {
     "name": "stdout",
     "output_type": "stream",
     "text": [
      "DK_2 2018-09-01 00:00:00+02:00 2018-10-01 00:00:00+02:00\n"
     ]
    },
    {
     "name": "stderr",
     "output_type": "stream",
     "text": []
    },
    {
     "name": "stdout",
     "output_type": "stream",
     "text": [
      "DK_2 2018-10-01 00:00:00+02:00 2018-11-01 00:00:00+01:00\n"
     ]
    },
    {
     "name": "stderr",
     "output_type": "stream",
     "text": []
    },
    {
     "name": "stdout",
     "output_type": "stream",
     "text": [
      "DK_2 2018-11-01 00:00:00+01:00 2018-12-01 00:00:00+01:00\n"
     ]
    },
    {
     "name": "stderr",
     "output_type": "stream",
     "text": []
    },
    {
     "name": "stdout",
     "output_type": "stream",
     "text": [
      "DK_2 2018-12-01 00:00:00+01:00 2019-01-01 00:00:00+01:00\n"
     ]
    },
    {
     "name": "stderr",
     "output_type": "stream",
     "text": [
      "Years:  50%|█████     | 5/10 [6:36:02<6:01:21, 4336.25s/it]"
     ]
    },
    {
     "name": "stdout",
     "output_type": "stream",
     "text": [
      "DK_2 2019-01-01 00:00:00+01:00 2019-02-01 00:00:00+01:00\n"
     ]
    },
    {
     "name": "stderr",
     "output_type": "stream",
     "text": []
    },
    {
     "name": "stdout",
     "output_type": "stream",
     "text": [
      "DK_2 2019-02-01 00:00:00+01:00 2019-03-01 00:00:00+01:00\n"
     ]
    },
    {
     "name": "stderr",
     "output_type": "stream",
     "text": []
    },
    {
     "name": "stdout",
     "output_type": "stream",
     "text": [
      "DK_2 2019-03-01 00:00:00+01:00 2019-04-01 00:00:00+02:00\n"
     ]
    },
    {
     "name": "stderr",
     "output_type": "stream",
     "text": []
    },
    {
     "name": "stdout",
     "output_type": "stream",
     "text": [
      "DK_2 2019-04-01 00:00:00+02:00 2019-05-01 00:00:00+02:00\n"
     ]
    },
    {
     "name": "stderr",
     "output_type": "stream",
     "text": []
    },
    {
     "name": "stdout",
     "output_type": "stream",
     "text": [
      "DK_2 2019-05-01 00:00:00+02:00 2019-06-01 00:00:00+02:00\n"
     ]
    },
    {
     "name": "stderr",
     "output_type": "stream",
     "text": []
    },
    {
     "name": "stdout",
     "output_type": "stream",
     "text": [
      "DK_2 2019-06-01 00:00:00+02:00 2019-07-01 00:00:00+02:00\n"
     ]
    },
    {
     "name": "stderr",
     "output_type": "stream",
     "text": []
    },
    {
     "name": "stdout",
     "output_type": "stream",
     "text": [
      "DK_2 2019-07-01 00:00:00+02:00 2019-08-01 00:00:00+02:00\n"
     ]
    },
    {
     "name": "stderr",
     "output_type": "stream",
     "text": []
    },
    {
     "name": "stdout",
     "output_type": "stream",
     "text": [
      "DK_2 2019-08-01 00:00:00+02:00 2019-09-01 00:00:00+02:00\n"
     ]
    },
    {
     "name": "stderr",
     "output_type": "stream",
     "text": []
    },
    {
     "name": "stdout",
     "output_type": "stream",
     "text": [
      "DK_2 2019-09-01 00:00:00+02:00 2019-10-01 00:00:00+02:00\n"
     ]
    },
    {
     "name": "stderr",
     "output_type": "stream",
     "text": []
    },
    {
     "name": "stdout",
     "output_type": "stream",
     "text": [
      "DK_2 2019-10-01 00:00:00+02:00 2019-11-01 00:00:00+01:00\n"
     ]
    },
    {
     "name": "stderr",
     "output_type": "stream",
     "text": []
    },
    {
     "name": "stdout",
     "output_type": "stream",
     "text": [
      "DK_2 2019-11-01 00:00:00+01:00 2019-12-01 00:00:00+01:00\n"
     ]
    },
    {
     "name": "stderr",
     "output_type": "stream",
     "text": []
    },
    {
     "name": "stdout",
     "output_type": "stream",
     "text": [
      "DK_2 2019-12-01 00:00:00+01:00 2020-01-01 00:00:00+01:00\n"
     ]
    },
    {
     "name": "stderr",
     "output_type": "stream",
     "text": [
      "Years:  60%|██████    | 6/10 [7:42:40<4:41:25, 4221.45s/it]"
     ]
    },
    {
     "name": "stdout",
     "output_type": "stream",
     "text": [
      "DK_2 2020-01-01 00:00:00+01:00 2020-02-01 00:00:00+01:00\n"
     ]
    },
    {
     "name": "stderr",
     "output_type": "stream",
     "text": []
    },
    {
     "name": "stdout",
     "output_type": "stream",
     "text": [
      "DK_2 2020-02-01 00:00:00+01:00 2020-03-01 00:00:00+01:00\n"
     ]
    },
    {
     "name": "stderr",
     "output_type": "stream",
     "text": []
    },
    {
     "name": "stdout",
     "output_type": "stream",
     "text": [
      "DK_2 2020-03-01 00:00:00+01:00 2020-04-01 00:00:00+02:00\n"
     ]
    },
    {
     "name": "stderr",
     "output_type": "stream",
     "text": []
    },
    {
     "name": "stdout",
     "output_type": "stream",
     "text": [
      "DK_2 2020-04-01 00:00:00+02:00 2020-05-01 00:00:00+02:00\n"
     ]
    },
    {
     "name": "stderr",
     "output_type": "stream",
     "text": []
    },
    {
     "name": "stdout",
     "output_type": "stream",
     "text": [
      "DK_2 2020-05-01 00:00:00+02:00 2020-06-01 00:00:00+02:00\n"
     ]
    },
    {
     "name": "stderr",
     "output_type": "stream",
     "text": []
    },
    {
     "name": "stdout",
     "output_type": "stream",
     "text": [
      "DK_2 2020-06-01 00:00:00+02:00 2020-07-01 00:00:00+02:00\n"
     ]
    },
    {
     "name": "stderr",
     "output_type": "stream",
     "text": []
    },
    {
     "name": "stdout",
     "output_type": "stream",
     "text": [
      "DK_2 2020-07-01 00:00:00+02:00 2020-08-01 00:00:00+02:00\n"
     ]
    },
    {
     "name": "stderr",
     "output_type": "stream",
     "text": []
    },
    {
     "name": "stdout",
     "output_type": "stream",
     "text": [
      "DK_2 2020-08-01 00:00:00+02:00 2020-09-01 00:00:00+02:00\n"
     ]
    },
    {
     "name": "stderr",
     "output_type": "stream",
     "text": []
    },
    {
     "name": "stdout",
     "output_type": "stream",
     "text": [
      "DK_2 2020-09-01 00:00:00+02:00 2020-10-01 00:00:00+02:00\n"
     ]
    },
    {
     "name": "stderr",
     "output_type": "stream",
     "text": []
    },
    {
     "name": "stdout",
     "output_type": "stream",
     "text": [
      "DK_2 2020-10-01 00:00:00+02:00 2020-11-01 00:00:00+01:00\n"
     ]
    },
    {
     "name": "stderr",
     "output_type": "stream",
     "text": []
    },
    {
     "name": "stdout",
     "output_type": "stream",
     "text": [
      "DK_2 2020-11-01 00:00:00+01:00 2020-12-01 00:00:00+01:00\n"
     ]
    },
    {
     "name": "stderr",
     "output_type": "stream",
     "text": []
    },
    {
     "name": "stdout",
     "output_type": "stream",
     "text": [
      "DK_2 2020-12-01 00:00:00+01:00 2021-01-01 00:00:00+01:00\n"
     ]
    },
    {
     "name": "stderr",
     "output_type": "stream",
     "text": [
      "Years:  70%|███████   | 7/10 [8:49:23<3:27:29, 4149.91s/it]"
     ]
    },
    {
     "name": "stdout",
     "output_type": "stream",
     "text": [
      "DK_2 2021-01-01 00:00:00+01:00 2021-02-01 00:00:00+01:00\n"
     ]
    },
    {
     "name": "stderr",
     "output_type": "stream",
     "text": []
    },
    {
     "name": "stdout",
     "output_type": "stream",
     "text": [
      "DK_2 2021-02-01 00:00:00+01:00 2021-03-01 00:00:00+01:00\n"
     ]
    },
    {
     "name": "stderr",
     "output_type": "stream",
     "text": []
    },
    {
     "name": "stdout",
     "output_type": "stream",
     "text": [
      "DK_2 2021-03-01 00:00:00+01:00 2021-04-01 00:00:00+02:00\n"
     ]
    },
    {
     "name": "stderr",
     "output_type": "stream",
     "text": []
    },
    {
     "name": "stdout",
     "output_type": "stream",
     "text": [
      "DK_2 2021-04-01 00:00:00+02:00 2021-05-01 00:00:00+02:00\n"
     ]
    },
    {
     "name": "stderr",
     "output_type": "stream",
     "text": []
    },
    {
     "name": "stdout",
     "output_type": "stream",
     "text": [
      "DK_2 2021-05-01 00:00:00+02:00 2021-06-01 00:00:00+02:00\n"
     ]
    },
    {
     "name": "stderr",
     "output_type": "stream",
     "text": []
    },
    {
     "name": "stdout",
     "output_type": "stream",
     "text": [
      "DK_2 2021-06-01 00:00:00+02:00 2021-07-01 00:00:00+02:00\n"
     ]
    },
    {
     "name": "stderr",
     "output_type": "stream",
     "text": []
    },
    {
     "name": "stdout",
     "output_type": "stream",
     "text": [
      "DK_2 2021-07-01 00:00:00+02:00 2021-08-01 00:00:00+02:00\n"
     ]
    },
    {
     "name": "stderr",
     "output_type": "stream",
     "text": []
    },
    {
     "name": "stdout",
     "output_type": "stream",
     "text": [
      "DK_2 2021-08-01 00:00:00+02:00 2021-09-01 00:00:00+02:00\n"
     ]
    },
    {
     "name": "stderr",
     "output_type": "stream",
     "text": []
    },
    {
     "name": "stdout",
     "output_type": "stream",
     "text": [
      "DK_2 2021-09-01 00:00:00+02:00 2021-10-01 00:00:00+02:00\n"
     ]
    },
    {
     "name": "stderr",
     "output_type": "stream",
     "text": []
    },
    {
     "name": "stdout",
     "output_type": "stream",
     "text": [
      "DK_2 2021-10-01 00:00:00+02:00 2021-11-01 00:00:00+01:00\n"
     ]
    },
    {
     "name": "stderr",
     "output_type": "stream",
     "text": []
    },
    {
     "name": "stdout",
     "output_type": "stream",
     "text": [
      "DK_2 2021-11-01 00:00:00+01:00 2021-12-01 00:00:00+01:00\n"
     ]
    },
    {
     "name": "stderr",
     "output_type": "stream",
     "text": []
    },
    {
     "name": "stdout",
     "output_type": "stream",
     "text": [
      "DK_2 2021-12-01 00:00:00+01:00 2022-01-01 00:00:00+01:00\n"
     ]
    },
    {
     "name": "stderr",
     "output_type": "stream",
     "text": [
      "Years:  80%|████████  | 8/10 [9:56:03<2:16:44, 4102.29s/it]"
     ]
    },
    {
     "name": "stdout",
     "output_type": "stream",
     "text": [
      "DK_2 2022-01-01 00:00:00+01:00 2022-02-01 00:00:00+01:00\n"
     ]
    },
    {
     "name": "stderr",
     "output_type": "stream",
     "text": []
    },
    {
     "name": "stdout",
     "output_type": "stream",
     "text": [
      "DK_2 2022-02-01 00:00:00+01:00 2022-03-01 00:00:00+01:00\n"
     ]
    },
    {
     "name": "stderr",
     "output_type": "stream",
     "text": []
    },
    {
     "name": "stdout",
     "output_type": "stream",
     "text": [
      "DK_2 2022-03-01 00:00:00+01:00 2022-04-01 00:00:00+02:00\n"
     ]
    },
    {
     "name": "stderr",
     "output_type": "stream",
     "text": []
    },
    {
     "name": "stdout",
     "output_type": "stream",
     "text": [
      "DK_2 2022-04-01 00:00:00+02:00 2022-05-01 00:00:00+02:00\n"
     ]
    },
    {
     "name": "stderr",
     "output_type": "stream",
     "text": []
    },
    {
     "name": "stdout",
     "output_type": "stream",
     "text": [
      "DK_2 2022-05-01 00:00:00+02:00 2022-06-01 00:00:00+02:00\n"
     ]
    },
    {
     "name": "stderr",
     "output_type": "stream",
     "text": []
    },
    {
     "name": "stdout",
     "output_type": "stream",
     "text": [
      "DK_2 2022-06-01 00:00:00+02:00 2022-07-01 00:00:00+02:00\n"
     ]
    },
    {
     "name": "stderr",
     "output_type": "stream",
     "text": []
    },
    {
     "name": "stdout",
     "output_type": "stream",
     "text": [
      "DK_2 2022-07-01 00:00:00+02:00 2022-08-01 00:00:00+02:00\n"
     ]
    },
    {
     "name": "stderr",
     "output_type": "stream",
     "text": []
    },
    {
     "name": "stdout",
     "output_type": "stream",
     "text": [
      "DK_2 2022-08-01 00:00:00+02:00 2022-09-01 00:00:00+02:00\n"
     ]
    },
    {
     "name": "stderr",
     "output_type": "stream",
     "text": []
    },
    {
     "name": "stdout",
     "output_type": "stream",
     "text": [
      "DK_2 2022-09-01 00:00:00+02:00 2022-10-01 00:00:00+02:00\n"
     ]
    },
    {
     "name": "stderr",
     "output_type": "stream",
     "text": []
    },
    {
     "name": "stdout",
     "output_type": "stream",
     "text": [
      "DK_2 2022-10-01 00:00:00+02:00 2022-11-01 00:00:00+01:00\n"
     ]
    },
    {
     "name": "stderr",
     "output_type": "stream",
     "text": []
    },
    {
     "name": "stdout",
     "output_type": "stream",
     "text": [
      "DK_2 2022-11-01 00:00:00+01:00 2022-12-01 00:00:00+01:00\n"
     ]
    },
    {
     "name": "stderr",
     "output_type": "stream",
     "text": []
    },
    {
     "name": "stdout",
     "output_type": "stream",
     "text": [
      "DK_2 2022-12-01 00:00:00+01:00 2023-01-01 00:00:00+01:00\n"
     ]
    },
    {
     "name": "stderr",
     "output_type": "stream",
     "text": [
      "Years:  90%|█████████ | 9/10 [11:02:40<1:07:49, 4069.44s/it]"
     ]
    },
    {
     "name": "stdout",
     "output_type": "stream",
     "text": [
      "DK_2 2023-01-01 00:00:00+01:00 2023-02-01 00:00:00+01:00\n"
     ]
    },
    {
     "name": "stderr",
     "output_type": "stream",
     "text": []
    },
    {
     "name": "stdout",
     "output_type": "stream",
     "text": [
      "DK_2 2023-02-01 00:00:00+01:00 2023-03-01 00:00:00+01:00\n"
     ]
    },
    {
     "name": "stderr",
     "output_type": "stream",
     "text": []
    },
    {
     "name": "stdout",
     "output_type": "stream",
     "text": [
      "DK_2 2023-03-01 00:00:00+01:00 2023-04-01 00:00:00+02:00\n"
     ]
    },
    {
     "name": "stderr",
     "output_type": "stream",
     "text": []
    },
    {
     "name": "stdout",
     "output_type": "stream",
     "text": [
      "DK_2 2023-04-01 00:00:00+02:00 2023-05-01 00:00:00+02:00\n"
     ]
    },
    {
     "name": "stderr",
     "output_type": "stream",
     "text": []
    },
    {
     "name": "stdout",
     "output_type": "stream",
     "text": [
      "DK_2 2023-05-01 00:00:00+02:00 2023-06-01 00:00:00+02:00\n"
     ]
    },
    {
     "name": "stderr",
     "output_type": "stream",
     "text": []
    },
    {
     "name": "stdout",
     "output_type": "stream",
     "text": [
      "DK_2 2023-06-01 00:00:00+02:00 2023-07-01 00:00:00+02:00\n"
     ]
    },
    {
     "name": "stderr",
     "output_type": "stream",
     "text": []
    },
    {
     "name": "stdout",
     "output_type": "stream",
     "text": [
      "DK_2 2023-07-01 00:00:00+02:00 2023-08-01 00:00:00+02:00\n"
     ]
    },
    {
     "name": "stderr",
     "output_type": "stream",
     "text": []
    },
    {
     "name": "stdout",
     "output_type": "stream",
     "text": [
      "DK_2 2023-08-01 00:00:00+02:00 2023-09-01 00:00:00+02:00\n"
     ]
    },
    {
     "name": "stderr",
     "output_type": "stream",
     "text": []
    },
    {
     "name": "stdout",
     "output_type": "stream",
     "text": [
      "DK_2 2023-09-01 00:00:00+02:00 2023-10-01 00:00:00+02:00\n"
     ]
    },
    {
     "name": "stderr",
     "output_type": "stream",
     "text": [
      "Years: 100%|██████████| 10/10 [11:52:33<00:00, 4275.31s/it] \n"
     ]
    }
   ],
   "source": [
    "# Initialize an empty list to store the individual data frames\n",
    "for region in [\"DK_1\", \"DK_2\"]:\n",
    "    stop_loop = False\n",
    "    all_data = []\n",
    "    # Wrap your range with tqdm to create a progress bar\n",
    "    for start_year in tqdm(range(14, 24), desc=\"Years\"):\n",
    "        for start_month in tqdm(range(1, 13), desc=\"Months\", leave=False):  # leave=False will remove inner bar when done\n",
    "            if start_year == 23 and start_month == 10:\n",
    "                stop_loop = True  # Set the flag to True\n",
    "                break  # Break the inner loop\n",
    "\n",
    "            for attempt in range(3):\n",
    "                try:\n",
    "                    if start_month == 12:  # correction if start month is December\n",
    "                        end_month = 1\n",
    "                        end_year = start_year + 1\n",
    "                    else:\n",
    "                        end_month = start_month + 1\n",
    "                        end_year = start_year\n",
    "\n",
    "                    start_month_str = str(start_month).zfill(2)\n",
    "                    end_month_str = str(end_month).zfill(2)\n",
    "\n",
    "                    start_year_str = str(start_year).zfill(2)\n",
    "                    end_year_str = str(end_year).zfill(2)\n",
    "\n",
    "                    start = pd.Timestamp(f'20{start_year_str}{start_month_str}01', tz='Europe/Brussels')\n",
    "                    end = pd.Timestamp(f'20{end_year_str}{end_month_str}01', tz='Europe/Brussels')\n",
    "\n",
    "                    # Query and store the response\n",
    "                    response = client.query_load_and_forecast(region, start=start, end=end)\n",
    "                    \n",
    "                    # Append the response DataFrame to all_data list\n",
    "                    all_data.append(response)\n",
    "                    print(region, start, end)\n",
    "                    # Sleep for 300 seconds (5 minutes) to avoid API rate limits\n",
    "                    time.sleep(330)\n",
    "                    break\n",
    "                except: \n",
    "                    if attempt < 2:\n",
    "                        time.sleep(330)\n",
    "\n",
    "            if stop_loop:  # Check the flag after the inner loop\n",
    "                break  # Break the outer loop if the flag is True\n",
    "            \n",
    "    # Concatenate all the data frames in the list into one long data frame\n",
    "    all_data_dict[f\"load_and_forecast_{region}\"] = pd.concat(all_data)\n",
    "    all_data_dict[f\"load_and_forecast_{region}\"].to_csv(f'{data_path}/ENTSO-E_load_and_forecast_{region}.csv')"
   ]
  },
  {
   "cell_type": "markdown",
   "metadata": {},
   "source": [
    "wind solar forecast"
   ]
  },
  {
   "cell_type": "code",
   "execution_count": 7,
   "metadata": {},
   "outputs": [
    {
     "name": "stderr",
     "output_type": "stream",
     "text": [
      "Years:   0%|          | 0/10 [00:00<?, ?it/s]"
     ]
    },
    {
     "name": "stderr",
     "output_type": "stream",
     "text": [
      "Connection Error, retrying in 0 seconds\n"
     ]
    },
    {
     "name": "stdout",
     "output_type": "stream",
     "text": [
      "DK_1 2014-12-01 00:00:00+01:00 2015-01-01 00:00:00+01:00\n"
     ]
    },
    {
     "name": "stderr",
     "output_type": "stream",
     "text": [
      "Years:  10%|█         | 1/10 [2:14:51<20:13:45, 8091.68s/it]"
     ]
    },
    {
     "name": "stdout",
     "output_type": "stream",
     "text": [
      "DK_1 2015-01-01 00:00:00+01:00 2015-02-01 00:00:00+01:00\n"
     ]
    },
    {
     "name": "stderr",
     "output_type": "stream",
     "text": []
    },
    {
     "name": "stdout",
     "output_type": "stream",
     "text": [
      "DK_1 2015-02-01 00:00:00+01:00 2015-03-01 00:00:00+01:00\n"
     ]
    },
    {
     "name": "stderr",
     "output_type": "stream",
     "text": []
    },
    {
     "name": "stdout",
     "output_type": "stream",
     "text": [
      "DK_1 2015-03-01 00:00:00+01:00 2015-04-01 00:00:00+02:00\n"
     ]
    },
    {
     "name": "stderr",
     "output_type": "stream",
     "text": []
    },
    {
     "name": "stdout",
     "output_type": "stream",
     "text": [
      "DK_1 2015-04-01 00:00:00+02:00 2015-05-01 00:00:00+02:00\n"
     ]
    },
    {
     "name": "stderr",
     "output_type": "stream",
     "text": []
    },
    {
     "name": "stdout",
     "output_type": "stream",
     "text": [
      "DK_1 2015-05-01 00:00:00+02:00 2015-06-01 00:00:00+02:00\n"
     ]
    },
    {
     "name": "stderr",
     "output_type": "stream",
     "text": []
    },
    {
     "name": "stdout",
     "output_type": "stream",
     "text": [
      "DK_1 2015-06-01 00:00:00+02:00 2015-07-01 00:00:00+02:00\n"
     ]
    },
    {
     "name": "stderr",
     "output_type": "stream",
     "text": []
    },
    {
     "name": "stdout",
     "output_type": "stream",
     "text": [
      "DK_1 2015-07-01 00:00:00+02:00 2015-08-01 00:00:00+02:00\n"
     ]
    },
    {
     "name": "stderr",
     "output_type": "stream",
     "text": []
    },
    {
     "name": "stdout",
     "output_type": "stream",
     "text": [
      "DK_1 2015-08-01 00:00:00+02:00 2015-09-01 00:00:00+02:00\n"
     ]
    },
    {
     "name": "stderr",
     "output_type": "stream",
     "text": []
    },
    {
     "name": "stdout",
     "output_type": "stream",
     "text": [
      "DK_1 2015-09-01 00:00:00+02:00 2015-10-01 00:00:00+02:00\n"
     ]
    },
    {
     "name": "stderr",
     "output_type": "stream",
     "text": []
    },
    {
     "name": "stdout",
     "output_type": "stream",
     "text": [
      "DK_1 2015-10-01 00:00:00+02:00 2015-11-01 00:00:00+01:00\n"
     ]
    },
    {
     "name": "stderr",
     "output_type": "stream",
     "text": []
    },
    {
     "name": "stdout",
     "output_type": "stream",
     "text": [
      "DK_1 2015-11-01 00:00:00+01:00 2015-12-01 00:00:00+01:00\n"
     ]
    },
    {
     "name": "stderr",
     "output_type": "stream",
     "text": []
    },
    {
     "name": "stdout",
     "output_type": "stream",
     "text": [
      "DK_1 2015-12-01 00:00:00+01:00 2016-01-01 00:00:00+01:00\n"
     ]
    },
    {
     "name": "stderr",
     "output_type": "stream",
     "text": [
      "Years:  20%|██        | 2/10 [3:25:36<12:57:10, 5828.80s/it]"
     ]
    },
    {
     "name": "stdout",
     "output_type": "stream",
     "text": [
      "DK_1 2016-01-01 00:00:00+01:00 2016-02-01 00:00:00+01:00\n"
     ]
    },
    {
     "name": "stderr",
     "output_type": "stream",
     "text": []
    },
    {
     "name": "stdout",
     "output_type": "stream",
     "text": [
      "DK_1 2016-02-01 00:00:00+01:00 2016-03-01 00:00:00+01:00\n"
     ]
    },
    {
     "name": "stderr",
     "output_type": "stream",
     "text": []
    },
    {
     "name": "stdout",
     "output_type": "stream",
     "text": [
      "DK_1 2016-03-01 00:00:00+01:00 2016-04-01 00:00:00+02:00\n"
     ]
    },
    {
     "name": "stderr",
     "output_type": "stream",
     "text": []
    },
    {
     "name": "stdout",
     "output_type": "stream",
     "text": [
      "DK_1 2016-04-01 00:00:00+02:00 2016-05-01 00:00:00+02:00\n"
     ]
    },
    {
     "name": "stderr",
     "output_type": "stream",
     "text": []
    },
    {
     "name": "stdout",
     "output_type": "stream",
     "text": [
      "DK_1 2016-05-01 00:00:00+02:00 2016-06-01 00:00:00+02:00\n"
     ]
    },
    {
     "name": "stderr",
     "output_type": "stream",
     "text": []
    },
    {
     "name": "stdout",
     "output_type": "stream",
     "text": [
      "DK_1 2016-06-01 00:00:00+02:00 2016-07-01 00:00:00+02:00\n"
     ]
    },
    {
     "name": "stderr",
     "output_type": "stream",
     "text": []
    },
    {
     "name": "stdout",
     "output_type": "stream",
     "text": [
      "DK_1 2016-07-01 00:00:00+02:00 2016-08-01 00:00:00+02:00\n"
     ]
    },
    {
     "name": "stderr",
     "output_type": "stream",
     "text": []
    },
    {
     "name": "stdout",
     "output_type": "stream",
     "text": [
      "DK_1 2016-08-01 00:00:00+02:00 2016-09-01 00:00:00+02:00\n"
     ]
    },
    {
     "name": "stderr",
     "output_type": "stream",
     "text": []
    },
    {
     "name": "stdout",
     "output_type": "stream",
     "text": [
      "DK_1 2016-09-01 00:00:00+02:00 2016-10-01 00:00:00+02:00\n"
     ]
    },
    {
     "name": "stderr",
     "output_type": "stream",
     "text": []
    },
    {
     "name": "stdout",
     "output_type": "stream",
     "text": [
      "DK_1 2016-10-01 00:00:00+02:00 2016-11-01 00:00:00+01:00\n"
     ]
    },
    {
     "name": "stderr",
     "output_type": "stream",
     "text": []
    },
    {
     "name": "stdout",
     "output_type": "stream",
     "text": [
      "DK_1 2016-11-01 00:00:00+01:00 2016-12-01 00:00:00+01:00\n"
     ]
    },
    {
     "name": "stderr",
     "output_type": "stream",
     "text": []
    },
    {
     "name": "stdout",
     "output_type": "stream",
     "text": [
      "DK_1 2016-12-01 00:00:00+01:00 2017-01-01 00:00:00+01:00\n"
     ]
    },
    {
     "name": "stderr",
     "output_type": "stream",
     "text": [
      "Years:  30%|███       | 3/10 [4:36:20<9:55:37, 5105.32s/it] "
     ]
    },
    {
     "name": "stdout",
     "output_type": "stream",
     "text": [
      "DK_1 2017-01-01 00:00:00+01:00 2017-02-01 00:00:00+01:00\n"
     ]
    },
    {
     "name": "stderr",
     "output_type": "stream",
     "text": []
    },
    {
     "name": "stdout",
     "output_type": "stream",
     "text": [
      "DK_1 2017-02-01 00:00:00+01:00 2017-03-01 00:00:00+01:00\n"
     ]
    },
    {
     "name": "stderr",
     "output_type": "stream",
     "text": []
    },
    {
     "name": "stdout",
     "output_type": "stream",
     "text": [
      "DK_1 2017-03-01 00:00:00+01:00 2017-04-01 00:00:00+02:00\n"
     ]
    },
    {
     "name": "stderr",
     "output_type": "stream",
     "text": []
    },
    {
     "name": "stdout",
     "output_type": "stream",
     "text": [
      "DK_1 2017-04-01 00:00:00+02:00 2017-05-01 00:00:00+02:00\n"
     ]
    },
    {
     "name": "stderr",
     "output_type": "stream",
     "text": []
    },
    {
     "name": "stdout",
     "output_type": "stream",
     "text": [
      "DK_1 2017-05-01 00:00:00+02:00 2017-06-01 00:00:00+02:00\n"
     ]
    },
    {
     "name": "stderr",
     "output_type": "stream",
     "text": []
    },
    {
     "name": "stdout",
     "output_type": "stream",
     "text": [
      "DK_1 2017-06-01 00:00:00+02:00 2017-07-01 00:00:00+02:00\n"
     ]
    },
    {
     "name": "stderr",
     "output_type": "stream",
     "text": []
    },
    {
     "name": "stdout",
     "output_type": "stream",
     "text": [
      "DK_1 2017-07-01 00:00:00+02:00 2017-08-01 00:00:00+02:00\n"
     ]
    },
    {
     "name": "stderr",
     "output_type": "stream",
     "text": []
    },
    {
     "name": "stdout",
     "output_type": "stream",
     "text": [
      "DK_1 2017-08-01 00:00:00+02:00 2017-09-01 00:00:00+02:00\n"
     ]
    },
    {
     "name": "stderr",
     "output_type": "stream",
     "text": []
    },
    {
     "name": "stdout",
     "output_type": "stream",
     "text": [
      "DK_1 2017-09-01 00:00:00+02:00 2017-10-01 00:00:00+02:00\n"
     ]
    },
    {
     "name": "stderr",
     "output_type": "stream",
     "text": []
    },
    {
     "name": "stdout",
     "output_type": "stream",
     "text": [
      "DK_1 2017-10-01 00:00:00+02:00 2017-11-01 00:00:00+01:00\n"
     ]
    },
    {
     "name": "stderr",
     "output_type": "stream",
     "text": []
    },
    {
     "name": "stdout",
     "output_type": "stream",
     "text": [
      "DK_1 2017-11-01 00:00:00+01:00 2017-12-01 00:00:00+01:00\n"
     ]
    },
    {
     "name": "stderr",
     "output_type": "stream",
     "text": []
    },
    {
     "name": "stdout",
     "output_type": "stream",
     "text": [
      "DK_1 2017-12-01 00:00:00+01:00 2018-01-01 00:00:00+01:00\n"
     ]
    },
    {
     "name": "stderr",
     "output_type": "stream",
     "text": [
      "Years:  40%|████      | 4/10 [5:47:02<7:56:25, 4764.29s/it]"
     ]
    },
    {
     "name": "stdout",
     "output_type": "stream",
     "text": [
      "DK_1 2018-01-01 00:00:00+01:00 2018-02-01 00:00:00+01:00\n"
     ]
    },
    {
     "name": "stderr",
     "output_type": "stream",
     "text": []
    },
    {
     "name": "stdout",
     "output_type": "stream",
     "text": [
      "DK_1 2018-02-01 00:00:00+01:00 2018-03-01 00:00:00+01:00\n"
     ]
    },
    {
     "name": "stderr",
     "output_type": "stream",
     "text": []
    },
    {
     "name": "stdout",
     "output_type": "stream",
     "text": [
      "DK_1 2018-03-01 00:00:00+01:00 2018-04-01 00:00:00+02:00\n"
     ]
    },
    {
     "name": "stderr",
     "output_type": "stream",
     "text": []
    },
    {
     "name": "stdout",
     "output_type": "stream",
     "text": [
      "DK_1 2018-04-01 00:00:00+02:00 2018-05-01 00:00:00+02:00\n"
     ]
    },
    {
     "name": "stderr",
     "output_type": "stream",
     "text": []
    },
    {
     "name": "stdout",
     "output_type": "stream",
     "text": [
      "DK_1 2018-05-01 00:00:00+02:00 2018-06-01 00:00:00+02:00\n"
     ]
    },
    {
     "name": "stderr",
     "output_type": "stream",
     "text": []
    },
    {
     "name": "stdout",
     "output_type": "stream",
     "text": [
      "DK_1 2018-06-01 00:00:00+02:00 2018-07-01 00:00:00+02:00\n"
     ]
    },
    {
     "name": "stderr",
     "output_type": "stream",
     "text": []
    },
    {
     "name": "stdout",
     "output_type": "stream",
     "text": [
      "DK_1 2018-07-01 00:00:00+02:00 2018-08-01 00:00:00+02:00\n"
     ]
    },
    {
     "name": "stderr",
     "output_type": "stream",
     "text": []
    },
    {
     "name": "stdout",
     "output_type": "stream",
     "text": [
      "DK_1 2018-08-01 00:00:00+02:00 2018-09-01 00:00:00+02:00\n"
     ]
    },
    {
     "name": "stderr",
     "output_type": "stream",
     "text": []
    },
    {
     "name": "stdout",
     "output_type": "stream",
     "text": [
      "DK_1 2018-09-01 00:00:00+02:00 2018-10-01 00:00:00+02:00\n"
     ]
    },
    {
     "name": "stderr",
     "output_type": "stream",
     "text": []
    },
    {
     "name": "stdout",
     "output_type": "stream",
     "text": [
      "DK_1 2018-10-01 00:00:00+02:00 2018-11-01 00:00:00+01:00\n"
     ]
    },
    {
     "name": "stderr",
     "output_type": "stream",
     "text": []
    },
    {
     "name": "stdout",
     "output_type": "stream",
     "text": [
      "DK_1 2018-11-01 00:00:00+01:00 2018-12-01 00:00:00+01:00\n"
     ]
    },
    {
     "name": "stderr",
     "output_type": "stream",
     "text": []
    },
    {
     "name": "stdout",
     "output_type": "stream",
     "text": [
      "DK_1 2018-12-01 00:00:00+01:00 2019-01-01 00:00:00+01:00\n"
     ]
    },
    {
     "name": "stderr",
     "output_type": "stream",
     "text": [
      "Years:  50%|█████     | 5/10 [6:57:41<6:21:13, 4574.78s/it]"
     ]
    },
    {
     "name": "stdout",
     "output_type": "stream",
     "text": [
      "DK_1 2019-01-01 00:00:00+01:00 2019-02-01 00:00:00+01:00\n"
     ]
    },
    {
     "name": "stderr",
     "output_type": "stream",
     "text": []
    },
    {
     "name": "stdout",
     "output_type": "stream",
     "text": [
      "DK_1 2019-02-01 00:00:00+01:00 2019-03-01 00:00:00+01:00\n"
     ]
    },
    {
     "name": "stderr",
     "output_type": "stream",
     "text": []
    },
    {
     "name": "stdout",
     "output_type": "stream",
     "text": [
      "DK_1 2019-03-01 00:00:00+01:00 2019-04-01 00:00:00+02:00\n"
     ]
    },
    {
     "name": "stderr",
     "output_type": "stream",
     "text": []
    },
    {
     "name": "stdout",
     "output_type": "stream",
     "text": [
      "DK_1 2019-04-01 00:00:00+02:00 2019-05-01 00:00:00+02:00\n"
     ]
    },
    {
     "name": "stderr",
     "output_type": "stream",
     "text": []
    },
    {
     "name": "stdout",
     "output_type": "stream",
     "text": [
      "DK_1 2019-05-01 00:00:00+02:00 2019-06-01 00:00:00+02:00\n"
     ]
    },
    {
     "name": "stderr",
     "output_type": "stream",
     "text": []
    },
    {
     "name": "stdout",
     "output_type": "stream",
     "text": [
      "DK_1 2019-06-01 00:00:00+02:00 2019-07-01 00:00:00+02:00\n"
     ]
    },
    {
     "name": "stderr",
     "output_type": "stream",
     "text": []
    },
    {
     "name": "stdout",
     "output_type": "stream",
     "text": [
      "DK_1 2019-07-01 00:00:00+02:00 2019-08-01 00:00:00+02:00\n"
     ]
    },
    {
     "name": "stderr",
     "output_type": "stream",
     "text": []
    },
    {
     "name": "stdout",
     "output_type": "stream",
     "text": [
      "DK_1 2019-08-01 00:00:00+02:00 2019-09-01 00:00:00+02:00\n"
     ]
    },
    {
     "name": "stderr",
     "output_type": "stream",
     "text": []
    },
    {
     "name": "stdout",
     "output_type": "stream",
     "text": [
      "DK_1 2019-09-01 00:00:00+02:00 2019-10-01 00:00:00+02:00\n"
     ]
    },
    {
     "name": "stderr",
     "output_type": "stream",
     "text": []
    },
    {
     "name": "stdout",
     "output_type": "stream",
     "text": [
      "DK_1 2019-10-01 00:00:00+02:00 2019-11-01 00:00:00+01:00\n"
     ]
    },
    {
     "name": "stderr",
     "output_type": "stream",
     "text": []
    },
    {
     "name": "stdout",
     "output_type": "stream",
     "text": [
      "DK_1 2019-11-01 00:00:00+01:00 2019-12-01 00:00:00+01:00\n"
     ]
    },
    {
     "name": "stderr",
     "output_type": "stream",
     "text": []
    },
    {
     "name": "stdout",
     "output_type": "stream",
     "text": [
      "DK_1 2019-12-01 00:00:00+01:00 2020-01-01 00:00:00+01:00\n"
     ]
    },
    {
     "name": "stderr",
     "output_type": "stream",
     "text": [
      "Years:  60%|██████    | 6/10 [8:08:21<4:57:24, 4461.23s/it]"
     ]
    },
    {
     "name": "stdout",
     "output_type": "stream",
     "text": [
      "DK_1 2020-01-01 00:00:00+01:00 2020-02-01 00:00:00+01:00\n"
     ]
    },
    {
     "name": "stderr",
     "output_type": "stream",
     "text": []
    },
    {
     "name": "stdout",
     "output_type": "stream",
     "text": [
      "DK_1 2020-02-01 00:00:00+01:00 2020-03-01 00:00:00+01:00\n"
     ]
    },
    {
     "name": "stderr",
     "output_type": "stream",
     "text": []
    },
    {
     "name": "stdout",
     "output_type": "stream",
     "text": [
      "DK_1 2020-03-01 00:00:00+01:00 2020-04-01 00:00:00+02:00\n"
     ]
    },
    {
     "name": "stderr",
     "output_type": "stream",
     "text": []
    },
    {
     "name": "stdout",
     "output_type": "stream",
     "text": [
      "DK_1 2020-04-01 00:00:00+02:00 2020-05-01 00:00:00+02:00\n"
     ]
    },
    {
     "name": "stderr",
     "output_type": "stream",
     "text": []
    },
    {
     "name": "stdout",
     "output_type": "stream",
     "text": [
      "DK_1 2020-05-01 00:00:00+02:00 2020-06-01 00:00:00+02:00\n"
     ]
    },
    {
     "name": "stderr",
     "output_type": "stream",
     "text": []
    },
    {
     "name": "stdout",
     "output_type": "stream",
     "text": [
      "DK_1 2020-06-01 00:00:00+02:00 2020-07-01 00:00:00+02:00\n"
     ]
    },
    {
     "name": "stderr",
     "output_type": "stream",
     "text": []
    },
    {
     "name": "stdout",
     "output_type": "stream",
     "text": [
      "DK_1 2020-07-01 00:00:00+02:00 2020-08-01 00:00:00+02:00\n"
     ]
    },
    {
     "name": "stderr",
     "output_type": "stream",
     "text": []
    },
    {
     "name": "stdout",
     "output_type": "stream",
     "text": [
      "DK_1 2020-08-01 00:00:00+02:00 2020-09-01 00:00:00+02:00\n"
     ]
    },
    {
     "name": "stderr",
     "output_type": "stream",
     "text": []
    },
    {
     "name": "stdout",
     "output_type": "stream",
     "text": [
      "DK_1 2020-09-01 00:00:00+02:00 2020-10-01 00:00:00+02:00\n"
     ]
    },
    {
     "name": "stderr",
     "output_type": "stream",
     "text": []
    },
    {
     "name": "stdout",
     "output_type": "stream",
     "text": [
      "DK_1 2020-10-01 00:00:00+02:00 2020-11-01 00:00:00+01:00\n"
     ]
    },
    {
     "name": "stderr",
     "output_type": "stream",
     "text": []
    },
    {
     "name": "stdout",
     "output_type": "stream",
     "text": [
      "DK_1 2020-11-01 00:00:00+01:00 2020-12-01 00:00:00+01:00\n"
     ]
    },
    {
     "name": "stderr",
     "output_type": "stream",
     "text": []
    },
    {
     "name": "stdout",
     "output_type": "stream",
     "text": [
      "DK_1 2020-12-01 00:00:00+01:00 2021-01-01 00:00:00+01:00\n"
     ]
    },
    {
     "name": "stderr",
     "output_type": "stream",
     "text": [
      "Years:  70%|███████   | 7/10 [9:19:10<3:39:34, 4391.63s/it]"
     ]
    },
    {
     "name": "stdout",
     "output_type": "stream",
     "text": [
      "DK_1 2021-01-01 00:00:00+01:00 2021-02-01 00:00:00+01:00\n"
     ]
    },
    {
     "name": "stderr",
     "output_type": "stream",
     "text": []
    },
    {
     "name": "stdout",
     "output_type": "stream",
     "text": [
      "DK_1 2021-02-01 00:00:00+01:00 2021-03-01 00:00:00+01:00\n"
     ]
    },
    {
     "name": "stderr",
     "output_type": "stream",
     "text": []
    },
    {
     "name": "stdout",
     "output_type": "stream",
     "text": [
      "DK_1 2021-03-01 00:00:00+01:00 2021-04-01 00:00:00+02:00\n"
     ]
    },
    {
     "name": "stderr",
     "output_type": "stream",
     "text": []
    },
    {
     "name": "stdout",
     "output_type": "stream",
     "text": [
      "DK_1 2021-04-01 00:00:00+02:00 2021-05-01 00:00:00+02:00\n"
     ]
    },
    {
     "name": "stderr",
     "output_type": "stream",
     "text": []
    },
    {
     "name": "stdout",
     "output_type": "stream",
     "text": [
      "DK_1 2021-05-01 00:00:00+02:00 2021-06-01 00:00:00+02:00\n"
     ]
    },
    {
     "name": "stderr",
     "output_type": "stream",
     "text": []
    },
    {
     "name": "stdout",
     "output_type": "stream",
     "text": [
      "DK_1 2021-06-01 00:00:00+02:00 2021-07-01 00:00:00+02:00\n"
     ]
    },
    {
     "name": "stderr",
     "output_type": "stream",
     "text": []
    },
    {
     "name": "stdout",
     "output_type": "stream",
     "text": [
      "DK_1 2021-07-01 00:00:00+02:00 2021-08-01 00:00:00+02:00\n"
     ]
    },
    {
     "name": "stderr",
     "output_type": "stream",
     "text": []
    },
    {
     "name": "stdout",
     "output_type": "stream",
     "text": [
      "DK_1 2021-08-01 00:00:00+02:00 2021-09-01 00:00:00+02:00\n"
     ]
    },
    {
     "name": "stderr",
     "output_type": "stream",
     "text": []
    },
    {
     "name": "stdout",
     "output_type": "stream",
     "text": [
      "DK_1 2021-09-01 00:00:00+02:00 2021-10-01 00:00:00+02:00\n"
     ]
    },
    {
     "name": "stderr",
     "output_type": "stream",
     "text": []
    },
    {
     "name": "stdout",
     "output_type": "stream",
     "text": [
      "DK_1 2021-10-01 00:00:00+02:00 2021-11-01 00:00:00+01:00\n"
     ]
    },
    {
     "name": "stderr",
     "output_type": "stream",
     "text": []
    },
    {
     "name": "stdout",
     "output_type": "stream",
     "text": [
      "DK_1 2021-11-01 00:00:00+01:00 2021-12-01 00:00:00+01:00\n"
     ]
    },
    {
     "name": "stderr",
     "output_type": "stream",
     "text": []
    },
    {
     "name": "stdout",
     "output_type": "stream",
     "text": [
      "DK_1 2021-12-01 00:00:00+01:00 2022-01-01 00:00:00+01:00\n"
     ]
    },
    {
     "name": "stderr",
     "output_type": "stream",
     "text": [
      "Years:  80%|████████  | 8/10 [10:30:45<2:25:21, 4360.80s/it]"
     ]
    },
    {
     "name": "stdout",
     "output_type": "stream",
     "text": [
      "DK_1 2022-01-01 00:00:00+01:00 2022-02-01 00:00:00+01:00\n"
     ]
    },
    {
     "name": "stderr",
     "output_type": "stream",
     "text": []
    },
    {
     "name": "stdout",
     "output_type": "stream",
     "text": [
      "DK_1 2022-02-01 00:00:00+01:00 2022-03-01 00:00:00+01:00\n"
     ]
    },
    {
     "name": "stderr",
     "output_type": "stream",
     "text": []
    },
    {
     "name": "stdout",
     "output_type": "stream",
     "text": [
      "DK_1 2022-03-01 00:00:00+01:00 2022-04-01 00:00:00+02:00\n"
     ]
    },
    {
     "name": "stderr",
     "output_type": "stream",
     "text": []
    },
    {
     "name": "stdout",
     "output_type": "stream",
     "text": [
      "DK_1 2022-04-01 00:00:00+02:00 2022-05-01 00:00:00+02:00\n"
     ]
    },
    {
     "name": "stderr",
     "output_type": "stream",
     "text": []
    },
    {
     "name": "stdout",
     "output_type": "stream",
     "text": [
      "DK_1 2022-05-01 00:00:00+02:00 2022-06-01 00:00:00+02:00\n"
     ]
    },
    {
     "name": "stderr",
     "output_type": "stream",
     "text": []
    },
    {
     "name": "stdout",
     "output_type": "stream",
     "text": [
      "DK_1 2022-06-01 00:00:00+02:00 2022-07-01 00:00:00+02:00\n"
     ]
    },
    {
     "name": "stderr",
     "output_type": "stream",
     "text": []
    },
    {
     "name": "stdout",
     "output_type": "stream",
     "text": [
      "DK_1 2022-07-01 00:00:00+02:00 2022-08-01 00:00:00+02:00\n"
     ]
    },
    {
     "name": "stderr",
     "output_type": "stream",
     "text": []
    },
    {
     "name": "stdout",
     "output_type": "stream",
     "text": [
      "DK_1 2022-08-01 00:00:00+02:00 2022-09-01 00:00:00+02:00\n"
     ]
    },
    {
     "name": "stderr",
     "output_type": "stream",
     "text": []
    },
    {
     "name": "stdout",
     "output_type": "stream",
     "text": [
      "DK_1 2022-09-01 00:00:00+02:00 2022-10-01 00:00:00+02:00\n"
     ]
    },
    {
     "name": "stderr",
     "output_type": "stream",
     "text": []
    },
    {
     "name": "stdout",
     "output_type": "stream",
     "text": [
      "DK_1 2022-10-01 00:00:00+02:00 2022-11-01 00:00:00+01:00\n"
     ]
    },
    {
     "name": "stderr",
     "output_type": "stream",
     "text": []
    },
    {
     "name": "stdout",
     "output_type": "stream",
     "text": [
      "DK_1 2022-11-01 00:00:00+01:00 2022-12-01 00:00:00+01:00\n"
     ]
    },
    {
     "name": "stderr",
     "output_type": "stream",
     "text": []
    },
    {
     "name": "stdout",
     "output_type": "stream",
     "text": [
      "DK_1 2022-12-01 00:00:00+01:00 2023-01-01 00:00:00+01:00\n"
     ]
    },
    {
     "name": "stderr",
     "output_type": "stream",
     "text": [
      "Years:  90%|█████████ | 9/10 [11:41:52<1:12:11, 4331.48s/it]"
     ]
    },
    {
     "name": "stdout",
     "output_type": "stream",
     "text": [
      "DK_1 2023-01-01 00:00:00+01:00 2023-02-01 00:00:00+01:00\n"
     ]
    },
    {
     "name": "stderr",
     "output_type": "stream",
     "text": []
    },
    {
     "name": "stdout",
     "output_type": "stream",
     "text": [
      "DK_1 2023-02-01 00:00:00+01:00 2023-03-01 00:00:00+01:00\n"
     ]
    },
    {
     "name": "stderr",
     "output_type": "stream",
     "text": []
    },
    {
     "name": "stdout",
     "output_type": "stream",
     "text": [
      "DK_1 2023-03-01 00:00:00+01:00 2023-04-01 00:00:00+02:00\n"
     ]
    },
    {
     "name": "stderr",
     "output_type": "stream",
     "text": []
    },
    {
     "name": "stdout",
     "output_type": "stream",
     "text": [
      "DK_1 2023-04-01 00:00:00+02:00 2023-05-01 00:00:00+02:00\n"
     ]
    },
    {
     "name": "stderr",
     "output_type": "stream",
     "text": []
    },
    {
     "name": "stdout",
     "output_type": "stream",
     "text": [
      "DK_1 2023-05-01 00:00:00+02:00 2023-06-01 00:00:00+02:00\n"
     ]
    },
    {
     "name": "stderr",
     "output_type": "stream",
     "text": []
    },
    {
     "name": "stdout",
     "output_type": "stream",
     "text": [
      "DK_1 2023-06-01 00:00:00+02:00 2023-07-01 00:00:00+02:00\n"
     ]
    },
    {
     "name": "stderr",
     "output_type": "stream",
     "text": []
    },
    {
     "name": "stdout",
     "output_type": "stream",
     "text": [
      "DK_1 2023-07-01 00:00:00+02:00 2023-08-01 00:00:00+02:00\n"
     ]
    },
    {
     "name": "stderr",
     "output_type": "stream",
     "text": []
    },
    {
     "name": "stdout",
     "output_type": "stream",
     "text": [
      "DK_1 2023-08-01 00:00:00+02:00 2023-09-01 00:00:00+02:00\n"
     ]
    },
    {
     "name": "stderr",
     "output_type": "stream",
     "text": []
    },
    {
     "name": "stdout",
     "output_type": "stream",
     "text": [
      "DK_1 2023-09-01 00:00:00+02:00 2023-10-01 00:00:00+02:00\n"
     ]
    },
    {
     "name": "stderr",
     "output_type": "stream",
     "text": [
      "Years: 100%|██████████| 10/10 [12:35:06<00:00, 4530.65s/it] \n",
      "Years:   0%|          | 0/10 [00:00<?, ?it/s]"
     ]
    },
    {
     "name": "stdout",
     "output_type": "stream",
     "text": [
      "DK_2 2014-12-01 00:00:00+01:00 2015-01-01 00:00:00+01:00\n"
     ]
    },
    {
     "name": "stderr",
     "output_type": "stream",
     "text": [
      "Years:  10%|█         | 1/10 [2:15:26<20:18:58, 8126.45s/it]"
     ]
    },
    {
     "name": "stdout",
     "output_type": "stream",
     "text": [
      "DK_2 2015-01-01 00:00:00+01:00 2015-02-01 00:00:00+01:00\n"
     ]
    },
    {
     "name": "stderr",
     "output_type": "stream",
     "text": []
    },
    {
     "name": "stdout",
     "output_type": "stream",
     "text": [
      "DK_2 2015-02-01 00:00:00+01:00 2015-03-01 00:00:00+01:00\n"
     ]
    },
    {
     "name": "stderr",
     "output_type": "stream",
     "text": []
    },
    {
     "name": "stdout",
     "output_type": "stream",
     "text": [
      "DK_2 2015-03-01 00:00:00+01:00 2015-04-01 00:00:00+02:00\n"
     ]
    },
    {
     "name": "stderr",
     "output_type": "stream",
     "text": []
    },
    {
     "name": "stdout",
     "output_type": "stream",
     "text": [
      "DK_2 2015-04-01 00:00:00+02:00 2015-05-01 00:00:00+02:00\n"
     ]
    },
    {
     "name": "stderr",
     "output_type": "stream",
     "text": []
    },
    {
     "name": "stdout",
     "output_type": "stream",
     "text": [
      "DK_2 2015-05-01 00:00:00+02:00 2015-06-01 00:00:00+02:00\n"
     ]
    },
    {
     "name": "stderr",
     "output_type": "stream",
     "text": []
    },
    {
     "name": "stdout",
     "output_type": "stream",
     "text": [
      "DK_2 2015-06-01 00:00:00+02:00 2015-07-01 00:00:00+02:00\n"
     ]
    },
    {
     "name": "stderr",
     "output_type": "stream",
     "text": []
    },
    {
     "name": "stdout",
     "output_type": "stream",
     "text": [
      "DK_2 2015-07-01 00:00:00+02:00 2015-08-01 00:00:00+02:00\n"
     ]
    },
    {
     "name": "stderr",
     "output_type": "stream",
     "text": []
    },
    {
     "name": "stdout",
     "output_type": "stream",
     "text": [
      "DK_2 2015-08-01 00:00:00+02:00 2015-09-01 00:00:00+02:00\n"
     ]
    },
    {
     "name": "stderr",
     "output_type": "stream",
     "text": []
    },
    {
     "name": "stdout",
     "output_type": "stream",
     "text": [
      "DK_2 2015-09-01 00:00:00+02:00 2015-10-01 00:00:00+02:00\n"
     ]
    },
    {
     "name": "stderr",
     "output_type": "stream",
     "text": []
    },
    {
     "name": "stdout",
     "output_type": "stream",
     "text": [
      "DK_2 2015-10-01 00:00:00+02:00 2015-11-01 00:00:00+01:00\n"
     ]
    },
    {
     "name": "stderr",
     "output_type": "stream",
     "text": []
    },
    {
     "name": "stdout",
     "output_type": "stream",
     "text": [
      "DK_2 2015-11-01 00:00:00+01:00 2015-12-01 00:00:00+01:00\n"
     ]
    },
    {
     "name": "stderr",
     "output_type": "stream",
     "text": []
    },
    {
     "name": "stdout",
     "output_type": "stream",
     "text": [
      "DK_2 2015-12-01 00:00:00+01:00 2016-01-01 00:00:00+01:00\n"
     ]
    },
    {
     "name": "stderr",
     "output_type": "stream",
     "text": [
      "Years:  20%|██        | 2/10 [3:26:22<12:59:59, 5850.00s/it]"
     ]
    },
    {
     "name": "stdout",
     "output_type": "stream",
     "text": [
      "DK_2 2016-01-01 00:00:00+01:00 2016-02-01 00:00:00+01:00\n"
     ]
    },
    {
     "name": "stderr",
     "output_type": "stream",
     "text": []
    },
    {
     "name": "stdout",
     "output_type": "stream",
     "text": [
      "DK_2 2016-02-01 00:00:00+01:00 2016-03-01 00:00:00+01:00\n"
     ]
    },
    {
     "name": "stderr",
     "output_type": "stream",
     "text": []
    },
    {
     "name": "stdout",
     "output_type": "stream",
     "text": [
      "DK_2 2016-03-01 00:00:00+01:00 2016-04-01 00:00:00+02:00\n"
     ]
    },
    {
     "name": "stderr",
     "output_type": "stream",
     "text": []
    },
    {
     "name": "stdout",
     "output_type": "stream",
     "text": [
      "DK_2 2016-04-01 00:00:00+02:00 2016-05-01 00:00:00+02:00\n"
     ]
    },
    {
     "name": "stderr",
     "output_type": "stream",
     "text": []
    },
    {
     "name": "stdout",
     "output_type": "stream",
     "text": [
      "DK_2 2016-05-01 00:00:00+02:00 2016-06-01 00:00:00+02:00\n"
     ]
    },
    {
     "name": "stderr",
     "output_type": "stream",
     "text": []
    },
    {
     "name": "stdout",
     "output_type": "stream",
     "text": [
      "DK_2 2016-06-01 00:00:00+02:00 2016-07-01 00:00:00+02:00\n"
     ]
    },
    {
     "name": "stderr",
     "output_type": "stream",
     "text": []
    },
    {
     "name": "stdout",
     "output_type": "stream",
     "text": [
      "DK_2 2016-07-01 00:00:00+02:00 2016-08-01 00:00:00+02:00\n"
     ]
    },
    {
     "name": "stderr",
     "output_type": "stream",
     "text": []
    },
    {
     "name": "stdout",
     "output_type": "stream",
     "text": [
      "DK_2 2016-08-01 00:00:00+02:00 2016-09-01 00:00:00+02:00\n"
     ]
    },
    {
     "name": "stderr",
     "output_type": "stream",
     "text": []
    },
    {
     "name": "stdout",
     "output_type": "stream",
     "text": [
      "DK_2 2016-09-01 00:00:00+02:00 2016-10-01 00:00:00+02:00\n"
     ]
    },
    {
     "name": "stderr",
     "output_type": "stream",
     "text": []
    },
    {
     "name": "stdout",
     "output_type": "stream",
     "text": [
      "DK_2 2016-10-01 00:00:00+02:00 2016-11-01 00:00:00+01:00\n"
     ]
    },
    {
     "name": "stderr",
     "output_type": "stream",
     "text": []
    },
    {
     "name": "stdout",
     "output_type": "stream",
     "text": [
      "DK_2 2016-11-01 00:00:00+01:00 2016-12-01 00:00:00+01:00\n"
     ]
    },
    {
     "name": "stderr",
     "output_type": "stream",
     "text": []
    },
    {
     "name": "stdout",
     "output_type": "stream",
     "text": [
      "DK_2 2016-12-01 00:00:00+01:00 2017-01-01 00:00:00+01:00\n"
     ]
    },
    {
     "name": "stderr",
     "output_type": "stream",
     "text": [
      "Years:  30%|███       | 3/10 [4:37:19<9:57:38, 5122.61s/it] "
     ]
    },
    {
     "name": "stdout",
     "output_type": "stream",
     "text": [
      "DK_2 2017-01-01 00:00:00+01:00 2017-02-01 00:00:00+01:00\n"
     ]
    },
    {
     "name": "stderr",
     "output_type": "stream",
     "text": []
    },
    {
     "name": "stdout",
     "output_type": "stream",
     "text": [
      "DK_2 2017-02-01 00:00:00+01:00 2017-03-01 00:00:00+01:00\n"
     ]
    },
    {
     "name": "stderr",
     "output_type": "stream",
     "text": []
    },
    {
     "name": "stdout",
     "output_type": "stream",
     "text": [
      "DK_2 2017-03-01 00:00:00+01:00 2017-04-01 00:00:00+02:00\n"
     ]
    },
    {
     "name": "stderr",
     "output_type": "stream",
     "text": []
    },
    {
     "name": "stdout",
     "output_type": "stream",
     "text": [
      "DK_2 2017-04-01 00:00:00+02:00 2017-05-01 00:00:00+02:00\n"
     ]
    },
    {
     "name": "stderr",
     "output_type": "stream",
     "text": []
    },
    {
     "name": "stdout",
     "output_type": "stream",
     "text": [
      "DK_2 2017-05-01 00:00:00+02:00 2017-06-01 00:00:00+02:00\n"
     ]
    },
    {
     "name": "stderr",
     "output_type": "stream",
     "text": []
    },
    {
     "name": "stdout",
     "output_type": "stream",
     "text": [
      "DK_2 2017-06-01 00:00:00+02:00 2017-07-01 00:00:00+02:00\n"
     ]
    },
    {
     "name": "stderr",
     "output_type": "stream",
     "text": []
    },
    {
     "name": "stdout",
     "output_type": "stream",
     "text": [
      "DK_2 2017-07-01 00:00:00+02:00 2017-08-01 00:00:00+02:00\n"
     ]
    },
    {
     "name": "stderr",
     "output_type": "stream",
     "text": []
    },
    {
     "name": "stdout",
     "output_type": "stream",
     "text": [
      "DK_2 2017-08-01 00:00:00+02:00 2017-09-01 00:00:00+02:00\n"
     ]
    },
    {
     "name": "stderr",
     "output_type": "stream",
     "text": []
    },
    {
     "name": "stdout",
     "output_type": "stream",
     "text": [
      "DK_2 2017-09-01 00:00:00+02:00 2017-10-01 00:00:00+02:00\n"
     ]
    },
    {
     "name": "stderr",
     "output_type": "stream",
     "text": []
    },
    {
     "name": "stdout",
     "output_type": "stream",
     "text": [
      "DK_2 2017-10-01 00:00:00+02:00 2017-11-01 00:00:00+01:00\n"
     ]
    },
    {
     "name": "stderr",
     "output_type": "stream",
     "text": []
    },
    {
     "name": "stdout",
     "output_type": "stream",
     "text": [
      "DK_2 2017-11-01 00:00:00+01:00 2017-12-01 00:00:00+01:00\n"
     ]
    },
    {
     "name": "stderr",
     "output_type": "stream",
     "text": []
    },
    {
     "name": "stdout",
     "output_type": "stream",
     "text": [
      "DK_2 2017-12-01 00:00:00+01:00 2018-01-01 00:00:00+01:00\n"
     ]
    },
    {
     "name": "stderr",
     "output_type": "stream",
     "text": [
      "Years:  40%|████      | 4/10 [5:50:52<8:04:13, 4842.22s/it]"
     ]
    },
    {
     "name": "stdout",
     "output_type": "stream",
     "text": [
      "DK_2 2018-01-01 00:00:00+01:00 2018-02-01 00:00:00+01:00\n"
     ]
    },
    {
     "name": "stderr",
     "output_type": "stream",
     "text": []
    },
    {
     "name": "stdout",
     "output_type": "stream",
     "text": [
      "DK_2 2018-02-01 00:00:00+01:00 2018-03-01 00:00:00+01:00\n"
     ]
    },
    {
     "name": "stderr",
     "output_type": "stream",
     "text": []
    },
    {
     "name": "stdout",
     "output_type": "stream",
     "text": [
      "DK_2 2018-03-01 00:00:00+01:00 2018-04-01 00:00:00+02:00\n"
     ]
    },
    {
     "name": "stderr",
     "output_type": "stream",
     "text": []
    },
    {
     "name": "stdout",
     "output_type": "stream",
     "text": [
      "DK_2 2018-04-01 00:00:00+02:00 2018-05-01 00:00:00+02:00\n"
     ]
    },
    {
     "name": "stderr",
     "output_type": "stream",
     "text": []
    },
    {
     "name": "stdout",
     "output_type": "stream",
     "text": [
      "DK_2 2018-05-01 00:00:00+02:00 2018-06-01 00:00:00+02:00\n"
     ]
    },
    {
     "name": "stderr",
     "output_type": "stream",
     "text": []
    },
    {
     "name": "stdout",
     "output_type": "stream",
     "text": [
      "DK_2 2018-06-01 00:00:00+02:00 2018-07-01 00:00:00+02:00\n"
     ]
    },
    {
     "name": "stderr",
     "output_type": "stream",
     "text": []
    },
    {
     "name": "stdout",
     "output_type": "stream",
     "text": [
      "DK_2 2018-07-01 00:00:00+02:00 2018-08-01 00:00:00+02:00\n"
     ]
    },
    {
     "name": "stderr",
     "output_type": "stream",
     "text": [
      "Connection Error, retrying in 0 seconds\n",
      "Connection Error, retrying in 0 seconds\n"
     ]
    },
    {
     "name": "stdout",
     "output_type": "stream",
     "text": [
      "DK_2 2018-08-01 00:00:00+02:00 2018-09-01 00:00:00+02:00\n"
     ]
    },
    {
     "name": "stderr",
     "output_type": "stream",
     "text": []
    },
    {
     "name": "stdout",
     "output_type": "stream",
     "text": [
      "DK_2 2018-09-01 00:00:00+02:00 2018-10-01 00:00:00+02:00\n"
     ]
    },
    {
     "name": "stderr",
     "output_type": "stream",
     "text": []
    },
    {
     "name": "stdout",
     "output_type": "stream",
     "text": [
      "DK_2 2018-10-01 00:00:00+02:00 2018-11-01 00:00:00+01:00\n"
     ]
    },
    {
     "name": "stderr",
     "output_type": "stream",
     "text": []
    },
    {
     "name": "stdout",
     "output_type": "stream",
     "text": [
      "DK_2 2018-11-01 00:00:00+01:00 2018-12-01 00:00:00+01:00\n"
     ]
    },
    {
     "name": "stderr",
     "output_type": "stream",
     "text": []
    },
    {
     "name": "stdout",
     "output_type": "stream",
     "text": [
      "DK_2 2018-12-01 00:00:00+01:00 2019-01-01 00:00:00+01:00\n"
     ]
    },
    {
     "name": "stderr",
     "output_type": "stream",
     "text": [
      "Years:  50%|█████     | 5/10 [9:20:15<10:35:31, 7626.29s/it]"
     ]
    },
    {
     "name": "stdout",
     "output_type": "stream",
     "text": [
      "DK_2 2019-01-01 00:00:00+01:00 2019-02-01 00:00:00+01:00\n"
     ]
    },
    {
     "name": "stderr",
     "output_type": "stream",
     "text": []
    },
    {
     "name": "stdout",
     "output_type": "stream",
     "text": [
      "DK_2 2019-02-01 00:00:00+01:00 2019-03-01 00:00:00+01:00\n"
     ]
    },
    {
     "name": "stderr",
     "output_type": "stream",
     "text": []
    },
    {
     "name": "stdout",
     "output_type": "stream",
     "text": [
      "DK_2 2019-03-01 00:00:00+01:00 2019-04-01 00:00:00+02:00\n"
     ]
    },
    {
     "name": "stderr",
     "output_type": "stream",
     "text": []
    },
    {
     "name": "stdout",
     "output_type": "stream",
     "text": [
      "DK_2 2019-04-01 00:00:00+02:00 2019-05-01 00:00:00+02:00\n"
     ]
    },
    {
     "name": "stderr",
     "output_type": "stream",
     "text": []
    },
    {
     "name": "stdout",
     "output_type": "stream",
     "text": [
      "DK_2 2019-05-01 00:00:00+02:00 2019-06-01 00:00:00+02:00\n"
     ]
    },
    {
     "name": "stderr",
     "output_type": "stream",
     "text": []
    },
    {
     "name": "stdout",
     "output_type": "stream",
     "text": [
      "DK_2 2019-06-01 00:00:00+02:00 2019-07-01 00:00:00+02:00\n"
     ]
    },
    {
     "name": "stderr",
     "output_type": "stream",
     "text": []
    },
    {
     "name": "stdout",
     "output_type": "stream",
     "text": [
      "DK_2 2019-07-01 00:00:00+02:00 2019-08-01 00:00:00+02:00\n"
     ]
    },
    {
     "name": "stderr",
     "output_type": "stream",
     "text": []
    },
    {
     "name": "stdout",
     "output_type": "stream",
     "text": [
      "DK_2 2019-08-01 00:00:00+02:00 2019-09-01 00:00:00+02:00\n"
     ]
    },
    {
     "name": "stderr",
     "output_type": "stream",
     "text": []
    },
    {
     "name": "stdout",
     "output_type": "stream",
     "text": [
      "DK_2 2019-09-01 00:00:00+02:00 2019-10-01 00:00:00+02:00\n"
     ]
    },
    {
     "name": "stderr",
     "output_type": "stream",
     "text": []
    },
    {
     "name": "stdout",
     "output_type": "stream",
     "text": [
      "DK_2 2019-10-01 00:00:00+02:00 2019-11-01 00:00:00+01:00\n"
     ]
    },
    {
     "name": "stderr",
     "output_type": "stream",
     "text": []
    },
    {
     "name": "stdout",
     "output_type": "stream",
     "text": [
      "DK_2 2019-11-01 00:00:00+01:00 2019-12-01 00:00:00+01:00\n"
     ]
    },
    {
     "name": "stderr",
     "output_type": "stream",
     "text": []
    },
    {
     "name": "stdout",
     "output_type": "stream",
     "text": [
      "DK_2 2019-12-01 00:00:00+01:00 2020-01-01 00:00:00+01:00\n"
     ]
    },
    {
     "name": "stderr",
     "output_type": "stream",
     "text": [
      "Years:  60%|██████    | 6/10 [10:31:39<7:12:39, 6489.94s/it]"
     ]
    },
    {
     "name": "stdout",
     "output_type": "stream",
     "text": [
      "DK_2 2020-01-01 00:00:00+01:00 2020-02-01 00:00:00+01:00\n"
     ]
    },
    {
     "name": "stderr",
     "output_type": "stream",
     "text": []
    },
    {
     "name": "stdout",
     "output_type": "stream",
     "text": [
      "DK_2 2020-02-01 00:00:00+01:00 2020-03-01 00:00:00+01:00\n"
     ]
    },
    {
     "name": "stderr",
     "output_type": "stream",
     "text": []
    },
    {
     "name": "stdout",
     "output_type": "stream",
     "text": [
      "DK_2 2020-03-01 00:00:00+01:00 2020-04-01 00:00:00+02:00\n"
     ]
    },
    {
     "name": "stderr",
     "output_type": "stream",
     "text": []
    },
    {
     "name": "stdout",
     "output_type": "stream",
     "text": [
      "DK_2 2020-04-01 00:00:00+02:00 2020-05-01 00:00:00+02:00\n"
     ]
    },
    {
     "name": "stderr",
     "output_type": "stream",
     "text": []
    },
    {
     "name": "stdout",
     "output_type": "stream",
     "text": [
      "DK_2 2020-05-01 00:00:00+02:00 2020-06-01 00:00:00+02:00\n"
     ]
    },
    {
     "name": "stderr",
     "output_type": "stream",
     "text": []
    },
    {
     "name": "stdout",
     "output_type": "stream",
     "text": [
      "DK_2 2020-06-01 00:00:00+02:00 2020-07-01 00:00:00+02:00\n"
     ]
    },
    {
     "name": "stderr",
     "output_type": "stream",
     "text": []
    },
    {
     "name": "stdout",
     "output_type": "stream",
     "text": [
      "DK_2 2020-07-01 00:00:00+02:00 2020-08-01 00:00:00+02:00\n"
     ]
    },
    {
     "name": "stderr",
     "output_type": "stream",
     "text": []
    },
    {
     "name": "stdout",
     "output_type": "stream",
     "text": [
      "DK_2 2020-08-01 00:00:00+02:00 2020-09-01 00:00:00+02:00\n"
     ]
    },
    {
     "name": "stderr",
     "output_type": "stream",
     "text": []
    },
    {
     "name": "stdout",
     "output_type": "stream",
     "text": [
      "DK_2 2020-09-01 00:00:00+02:00 2020-10-01 00:00:00+02:00\n"
     ]
    },
    {
     "name": "stderr",
     "output_type": "stream",
     "text": []
    },
    {
     "name": "stdout",
     "output_type": "stream",
     "text": [
      "DK_2 2020-10-01 00:00:00+02:00 2020-11-01 00:00:00+01:00\n"
     ]
    },
    {
     "name": "stderr",
     "output_type": "stream",
     "text": []
    },
    {
     "name": "stdout",
     "output_type": "stream",
     "text": [
      "DK_2 2020-11-01 00:00:00+01:00 2020-12-01 00:00:00+01:00\n"
     ]
    },
    {
     "name": "stderr",
     "output_type": "stream",
     "text": []
    },
    {
     "name": "stdout",
     "output_type": "stream",
     "text": [
      "DK_2 2020-12-01 00:00:00+01:00 2021-01-01 00:00:00+01:00\n"
     ]
    },
    {
     "name": "stderr",
     "output_type": "stream",
     "text": [
      "Years:  70%|███████   | 7/10 [11:59:11<5:04:16, 6085.40s/it]"
     ]
    },
    {
     "name": "stdout",
     "output_type": "stream",
     "text": [
      "DK_2 2021-01-01 00:00:00+01:00 2021-02-01 00:00:00+01:00\n"
     ]
    },
    {
     "name": "stderr",
     "output_type": "stream",
     "text": []
    },
    {
     "name": "stdout",
     "output_type": "stream",
     "text": [
      "DK_2 2021-02-01 00:00:00+01:00 2021-03-01 00:00:00+01:00\n"
     ]
    },
    {
     "name": "stderr",
     "output_type": "stream",
     "text": []
    },
    {
     "name": "stdout",
     "output_type": "stream",
     "text": [
      "DK_2 2021-03-01 00:00:00+01:00 2021-04-01 00:00:00+02:00\n"
     ]
    },
    {
     "name": "stderr",
     "output_type": "stream",
     "text": []
    },
    {
     "name": "stdout",
     "output_type": "stream",
     "text": [
      "DK_2 2021-04-01 00:00:00+02:00 2021-05-01 00:00:00+02:00\n"
     ]
    },
    {
     "name": "stderr",
     "output_type": "stream",
     "text": []
    },
    {
     "name": "stdout",
     "output_type": "stream",
     "text": [
      "DK_2 2021-05-01 00:00:00+02:00 2021-06-01 00:00:00+02:00\n"
     ]
    },
    {
     "name": "stderr",
     "output_type": "stream",
     "text": []
    },
    {
     "name": "stdout",
     "output_type": "stream",
     "text": [
      "DK_2 2021-06-01 00:00:00+02:00 2021-07-01 00:00:00+02:00\n"
     ]
    },
    {
     "name": "stderr",
     "output_type": "stream",
     "text": []
    },
    {
     "name": "stdout",
     "output_type": "stream",
     "text": [
      "DK_2 2021-07-01 00:00:00+02:00 2021-08-01 00:00:00+02:00\n"
     ]
    },
    {
     "name": "stderr",
     "output_type": "stream",
     "text": []
    },
    {
     "name": "stdout",
     "output_type": "stream",
     "text": [
      "DK_2 2021-08-01 00:00:00+02:00 2021-09-01 00:00:00+02:00\n"
     ]
    },
    {
     "name": "stderr",
     "output_type": "stream",
     "text": []
    },
    {
     "name": "stdout",
     "output_type": "stream",
     "text": [
      "DK_2 2021-09-01 00:00:00+02:00 2021-10-01 00:00:00+02:00\n"
     ]
    },
    {
     "name": "stderr",
     "output_type": "stream",
     "text": []
    },
    {
     "name": "stdout",
     "output_type": "stream",
     "text": [
      "DK_2 2021-10-01 00:00:00+02:00 2021-11-01 00:00:00+01:00\n"
     ]
    },
    {
     "name": "stderr",
     "output_type": "stream",
     "text": []
    },
    {
     "name": "stdout",
     "output_type": "stream",
     "text": [
      "DK_2 2021-11-01 00:00:00+01:00 2021-12-01 00:00:00+01:00\n"
     ]
    },
    {
     "name": "stderr",
     "output_type": "stream",
     "text": []
    },
    {
     "name": "stdout",
     "output_type": "stream",
     "text": [
      "DK_2 2021-12-01 00:00:00+01:00 2022-01-01 00:00:00+01:00\n"
     ]
    },
    {
     "name": "stderr",
     "output_type": "stream",
     "text": [
      "Years:  80%|████████  | 8/10 [13:09:56<3:03:18, 5499.49s/it]"
     ]
    },
    {
     "name": "stdout",
     "output_type": "stream",
     "text": [
      "DK_2 2022-01-01 00:00:00+01:00 2022-02-01 00:00:00+01:00\n"
     ]
    },
    {
     "name": "stderr",
     "output_type": "stream",
     "text": []
    },
    {
     "name": "stdout",
     "output_type": "stream",
     "text": [
      "DK_2 2022-02-01 00:00:00+01:00 2022-03-01 00:00:00+01:00\n"
     ]
    },
    {
     "name": "stderr",
     "output_type": "stream",
     "text": []
    },
    {
     "name": "stdout",
     "output_type": "stream",
     "text": [
      "DK_2 2022-03-01 00:00:00+01:00 2022-04-01 00:00:00+02:00\n"
     ]
    },
    {
     "name": "stderr",
     "output_type": "stream",
     "text": []
    },
    {
     "name": "stdout",
     "output_type": "stream",
     "text": [
      "DK_2 2022-04-01 00:00:00+02:00 2022-05-01 00:00:00+02:00\n"
     ]
    },
    {
     "name": "stderr",
     "output_type": "stream",
     "text": []
    },
    {
     "name": "stdout",
     "output_type": "stream",
     "text": [
      "DK_2 2022-05-01 00:00:00+02:00 2022-06-01 00:00:00+02:00\n"
     ]
    },
    {
     "name": "stderr",
     "output_type": "stream",
     "text": []
    },
    {
     "name": "stdout",
     "output_type": "stream",
     "text": [
      "DK_2 2022-06-01 00:00:00+02:00 2022-07-01 00:00:00+02:00\n"
     ]
    },
    {
     "name": "stderr",
     "output_type": "stream",
     "text": []
    },
    {
     "name": "stdout",
     "output_type": "stream",
     "text": [
      "DK_2 2022-07-01 00:00:00+02:00 2022-08-01 00:00:00+02:00\n"
     ]
    },
    {
     "name": "stderr",
     "output_type": "stream",
     "text": []
    },
    {
     "name": "stdout",
     "output_type": "stream",
     "text": [
      "DK_2 2022-08-01 00:00:00+02:00 2022-09-01 00:00:00+02:00\n"
     ]
    },
    {
     "name": "stderr",
     "output_type": "stream",
     "text": []
    },
    {
     "name": "stdout",
     "output_type": "stream",
     "text": [
      "DK_2 2022-09-01 00:00:00+02:00 2022-10-01 00:00:00+02:00\n"
     ]
    },
    {
     "name": "stderr",
     "output_type": "stream",
     "text": []
    },
    {
     "name": "stdout",
     "output_type": "stream",
     "text": [
      "DK_2 2022-10-01 00:00:00+02:00 2022-11-01 00:00:00+01:00\n"
     ]
    },
    {
     "name": "stderr",
     "output_type": "stream",
     "text": []
    },
    {
     "name": "stdout",
     "output_type": "stream",
     "text": [
      "DK_2 2022-11-01 00:00:00+01:00 2022-12-01 00:00:00+01:00\n"
     ]
    },
    {
     "name": "stderr",
     "output_type": "stream",
     "text": []
    },
    {
     "name": "stdout",
     "output_type": "stream",
     "text": [
      "DK_2 2022-12-01 00:00:00+01:00 2023-01-01 00:00:00+01:00\n"
     ]
    },
    {
     "name": "stderr",
     "output_type": "stream",
     "text": [
      "Years:  90%|█████████ | 9/10 [14:20:33<1:25:04, 5104.79s/it]"
     ]
    },
    {
     "name": "stdout",
     "output_type": "stream",
     "text": [
      "DK_2 2023-01-01 00:00:00+01:00 2023-02-01 00:00:00+01:00\n"
     ]
    },
    {
     "name": "stderr",
     "output_type": "stream",
     "text": []
    },
    {
     "name": "stdout",
     "output_type": "stream",
     "text": [
      "DK_2 2023-02-01 00:00:00+01:00 2023-03-01 00:00:00+01:00\n"
     ]
    },
    {
     "name": "stderr",
     "output_type": "stream",
     "text": []
    },
    {
     "name": "stdout",
     "output_type": "stream",
     "text": [
      "DK_2 2023-03-01 00:00:00+01:00 2023-04-01 00:00:00+02:00\n"
     ]
    },
    {
     "name": "stderr",
     "output_type": "stream",
     "text": []
    },
    {
     "name": "stdout",
     "output_type": "stream",
     "text": [
      "DK_2 2023-04-01 00:00:00+02:00 2023-05-01 00:00:00+02:00\n"
     ]
    },
    {
     "name": "stderr",
     "output_type": "stream",
     "text": []
    },
    {
     "name": "stdout",
     "output_type": "stream",
     "text": [
      "DK_2 2023-05-01 00:00:00+02:00 2023-06-01 00:00:00+02:00\n"
     ]
    },
    {
     "name": "stderr",
     "output_type": "stream",
     "text": []
    },
    {
     "name": "stdout",
     "output_type": "stream",
     "text": [
      "DK_2 2023-06-01 00:00:00+02:00 2023-07-01 00:00:00+02:00\n"
     ]
    },
    {
     "name": "stderr",
     "output_type": "stream",
     "text": []
    },
    {
     "name": "stdout",
     "output_type": "stream",
     "text": [
      "DK_2 2023-07-01 00:00:00+02:00 2023-08-01 00:00:00+02:00\n"
     ]
    },
    {
     "name": "stderr",
     "output_type": "stream",
     "text": []
    },
    {
     "name": "stdout",
     "output_type": "stream",
     "text": [
      "DK_2 2023-08-01 00:00:00+02:00 2023-09-01 00:00:00+02:00\n"
     ]
    },
    {
     "name": "stderr",
     "output_type": "stream",
     "text": []
    },
    {
     "name": "stdout",
     "output_type": "stream",
     "text": [
      "DK_2 2023-09-01 00:00:00+02:00 2023-10-01 00:00:00+02:00\n"
     ]
    },
    {
     "name": "stderr",
     "output_type": "stream",
     "text": [
      "Years: 100%|██████████| 10/10 [15:13:30<00:00, 5481.10s/it] \n"
     ]
    }
   ],
   "source": [
    "# Initialize an empty list to store the individual data frames\n",
    "for region in [\"DK_1\", \"DK_2\"]:\n",
    "    stop_loop = False\n",
    "    all_data = []\n",
    "    # Wrap your range with tqdm to create a progress bar\n",
    "    for start_year in tqdm(range(14, 24), desc=\"Years\"):\n",
    "        for start_month in tqdm(range(1, 13), desc=\"Months\", leave=False):  # leave=False will remove inner bar when done\n",
    "            if start_year == 23 and start_month == 10:\n",
    "                stop_loop = True  # Set the flag to Trueload, \n",
    "                break  # Break the inner loop\n",
    "\n",
    "            for attempt in range(3):\n",
    "                try:\n",
    "                    if start_month == 12:  # correction if start month is December\n",
    "                        end_month = 1\n",
    "                        end_year = start_year + 1\n",
    "                    else:\n",
    "                        end_month = start_month + 1\n",
    "                        end_year = start_year\n",
    "\n",
    "                    start_month_str = str(start_month).zfill(2)\n",
    "                    end_month_str = str(end_month).zfill(2)\n",
    "\n",
    "                    start_year_str = str(start_year).zfill(2)\n",
    "                    end_year_str = str(end_year).zfill(2)\n",
    "\n",
    "                    start = pd.Timestamp(f'20{start_year_str}{start_month_str}01', tz='Europe/Brussels')\n",
    "                    end = pd.Timestamp(f'20{end_year_str}{end_month_str}01', tz='Europe/Brussels')\n",
    "\n",
    "                    # Query and store the response\n",
    "                    response = client.query_wind_and_solar_forecast(region, start=start, end=end)\n",
    "                    \n",
    "                    # Append the response DataFrame to all_data list\n",
    "                    all_data.append(response)\n",
    "                    print(region, start, end)\n",
    "                    # Sleep for 300 seconds (5 minutes) to avoid API rate limits\n",
    "                    time.sleep(350)\n",
    "                    break\n",
    "                except: \n",
    "                    if attempt < 2:\n",
    "                        time.sleep(350)\n",
    "\n",
    "            if stop_loop:  # Check the flag after the inner loop\n",
    "                break  # Break the outer loop if the flag is True\n",
    "            \n",
    "    # Concatenate all the data frames in the list into one long data frame\n",
    "    all_data_dict[f\"wind_solar_{region}\"] = pd.concat(all_data)\n",
    "    all_data_dict[f\"wind_solar_{region}\"].to_csv(f'{data_path}/ENTSO-E_wind_solar_{region}.csv')"
   ]
  },
  {
   "cell_type": "markdown",
   "metadata": {},
   "source": [
    "generation_import"
   ]
  },
  {
   "cell_type": "code",
   "execution_count": 6,
   "metadata": {},
   "outputs": [
    {
     "name": "stderr",
     "output_type": "stream",
     "text": [
      "Years:   0%|          | 0/10 [00:00<?, ?it/s]"
     ]
    },
    {
     "name": "stderr",
     "output_type": "stream",
     "text": [
      "Connection Error, retrying in 0 seconds\n",
      "Connection Error, retrying in 0 seconds\n"
     ]
    },
    {
     "name": "stdout",
     "output_type": "stream",
     "text": [
      "DK_1 2014-12-01 00:00:00+01:00 2015-01-01 00:00:00+01:00\n"
     ]
    },
    {
     "name": "stderr",
     "output_type": "stream",
     "text": [
      "Years:  10%|█         | 1/10 [2:25:06<21:45:57, 8706.38s/it]"
     ]
    },
    {
     "name": "stdout",
     "output_type": "stream",
     "text": [
      "DK_1 2015-01-01 00:00:00+01:00 2015-02-01 00:00:00+01:00\n"
     ]
    },
    {
     "name": "stderr",
     "output_type": "stream",
     "text": []
    },
    {
     "name": "stdout",
     "output_type": "stream",
     "text": [
      "DK_1 2015-02-01 00:00:00+01:00 2015-03-01 00:00:00+01:00\n"
     ]
    },
    {
     "name": "stderr",
     "output_type": "stream",
     "text": []
    },
    {
     "name": "stdout",
     "output_type": "stream",
     "text": [
      "DK_1 2015-03-01 00:00:00+01:00 2015-04-01 00:00:00+02:00\n"
     ]
    },
    {
     "name": "stderr",
     "output_type": "stream",
     "text": []
    },
    {
     "name": "stdout",
     "output_type": "stream",
     "text": [
      "DK_1 2015-04-01 00:00:00+02:00 2015-05-01 00:00:00+02:00\n"
     ]
    },
    {
     "name": "stderr",
     "output_type": "stream",
     "text": []
    },
    {
     "name": "stdout",
     "output_type": "stream",
     "text": [
      "DK_1 2015-05-01 00:00:00+02:00 2015-06-01 00:00:00+02:00\n"
     ]
    },
    {
     "name": "stderr",
     "output_type": "stream",
     "text": []
    },
    {
     "name": "stdout",
     "output_type": "stream",
     "text": [
      "DK_1 2015-06-01 00:00:00+02:00 2015-07-01 00:00:00+02:00\n"
     ]
    },
    {
     "name": "stderr",
     "output_type": "stream",
     "text": []
    },
    {
     "name": "stdout",
     "output_type": "stream",
     "text": [
      "DK_1 2015-07-01 00:00:00+02:00 2015-08-01 00:00:00+02:00\n"
     ]
    },
    {
     "name": "stderr",
     "output_type": "stream",
     "text": []
    },
    {
     "name": "stdout",
     "output_type": "stream",
     "text": [
      "DK_1 2015-08-01 00:00:00+02:00 2015-09-01 00:00:00+02:00\n"
     ]
    },
    {
     "name": "stderr",
     "output_type": "stream",
     "text": []
    },
    {
     "name": "stdout",
     "output_type": "stream",
     "text": [
      "DK_1 2015-09-01 00:00:00+02:00 2015-10-01 00:00:00+02:00\n"
     ]
    },
    {
     "name": "stderr",
     "output_type": "stream",
     "text": []
    },
    {
     "name": "stdout",
     "output_type": "stream",
     "text": [
      "DK_1 2015-10-01 00:00:00+02:00 2015-11-01 00:00:00+01:00\n"
     ]
    },
    {
     "name": "stderr",
     "output_type": "stream",
     "text": []
    },
    {
     "name": "stdout",
     "output_type": "stream",
     "text": [
      "DK_1 2015-11-01 00:00:00+01:00 2015-12-01 00:00:00+01:00\n"
     ]
    },
    {
     "name": "stderr",
     "output_type": "stream",
     "text": []
    },
    {
     "name": "stdout",
     "output_type": "stream",
     "text": [
      "DK_1 2015-12-01 00:00:00+01:00 2016-01-01 00:00:00+01:00\n"
     ]
    },
    {
     "name": "stderr",
     "output_type": "stream",
     "text": [
      "Years:  20%|██        | 2/10 [3:37:32<13:38:51, 6141.46s/it]"
     ]
    },
    {
     "name": "stdout",
     "output_type": "stream",
     "text": [
      "DK_1 2016-01-01 00:00:00+01:00 2016-02-01 00:00:00+01:00\n"
     ]
    },
    {
     "name": "stderr",
     "output_type": "stream",
     "text": []
    },
    {
     "name": "stdout",
     "output_type": "stream",
     "text": [
      "DK_1 2016-02-01 00:00:00+01:00 2016-03-01 00:00:00+01:00\n"
     ]
    },
    {
     "name": "stderr",
     "output_type": "stream",
     "text": []
    },
    {
     "name": "stdout",
     "output_type": "stream",
     "text": [
      "DK_1 2016-03-01 00:00:00+01:00 2016-04-01 00:00:00+02:00\n"
     ]
    },
    {
     "name": "stderr",
     "output_type": "stream",
     "text": []
    },
    {
     "name": "stdout",
     "output_type": "stream",
     "text": [
      "DK_1 2016-04-01 00:00:00+02:00 2016-05-01 00:00:00+02:00\n"
     ]
    },
    {
     "name": "stderr",
     "output_type": "stream",
     "text": []
    },
    {
     "name": "stdout",
     "output_type": "stream",
     "text": [
      "DK_1 2016-05-01 00:00:00+02:00 2016-06-01 00:00:00+02:00\n"
     ]
    },
    {
     "name": "stderr",
     "output_type": "stream",
     "text": []
    },
    {
     "name": "stdout",
     "output_type": "stream",
     "text": [
      "DK_1 2016-06-01 00:00:00+02:00 2016-07-01 00:00:00+02:00\n"
     ]
    },
    {
     "name": "stderr",
     "output_type": "stream",
     "text": []
    },
    {
     "name": "stdout",
     "output_type": "stream",
     "text": [
      "DK_1 2016-07-01 00:00:00+02:00 2016-08-01 00:00:00+02:00\n"
     ]
    },
    {
     "name": "stderr",
     "output_type": "stream",
     "text": []
    },
    {
     "name": "stdout",
     "output_type": "stream",
     "text": [
      "DK_1 2016-08-01 00:00:00+02:00 2016-09-01 00:00:00+02:00\n"
     ]
    },
    {
     "name": "stderr",
     "output_type": "stream",
     "text": []
    },
    {
     "name": "stdout",
     "output_type": "stream",
     "text": [
      "DK_1 2016-09-01 00:00:00+02:00 2016-10-01 00:00:00+02:00\n"
     ]
    },
    {
     "name": "stderr",
     "output_type": "stream",
     "text": []
    },
    {
     "name": "stdout",
     "output_type": "stream",
     "text": [
      "DK_1 2016-10-01 00:00:00+02:00 2016-11-01 00:00:00+01:00\n"
     ]
    },
    {
     "name": "stderr",
     "output_type": "stream",
     "text": []
    },
    {
     "name": "stdout",
     "output_type": "stream",
     "text": [
      "DK_1 2016-11-01 00:00:00+01:00 2016-12-01 00:00:00+01:00\n"
     ]
    },
    {
     "name": "stderr",
     "output_type": "stream",
     "text": []
    },
    {
     "name": "stdout",
     "output_type": "stream",
     "text": [
      "DK_1 2016-12-01 00:00:00+01:00 2017-01-01 00:00:00+01:00\n"
     ]
    },
    {
     "name": "stderr",
     "output_type": "stream",
     "text": [
      "Years:  30%|███       | 3/10 [4:49:48<10:20:18, 5316.99s/it]"
     ]
    },
    {
     "name": "stdout",
     "output_type": "stream",
     "text": [
      "DK_1 2017-01-01 00:00:00+01:00 2017-02-01 00:00:00+01:00\n"
     ]
    },
    {
     "name": "stderr",
     "output_type": "stream",
     "text": []
    },
    {
     "name": "stdout",
     "output_type": "stream",
     "text": [
      "DK_1 2017-02-01 00:00:00+01:00 2017-03-01 00:00:00+01:00\n"
     ]
    },
    {
     "name": "stderr",
     "output_type": "stream",
     "text": []
    },
    {
     "name": "stdout",
     "output_type": "stream",
     "text": [
      "DK_1 2017-03-01 00:00:00+01:00 2017-04-01 00:00:00+02:00\n"
     ]
    },
    {
     "name": "stderr",
     "output_type": "stream",
     "text": []
    },
    {
     "name": "stdout",
     "output_type": "stream",
     "text": [
      "DK_1 2017-04-01 00:00:00+02:00 2017-05-01 00:00:00+02:00\n"
     ]
    },
    {
     "name": "stderr",
     "output_type": "stream",
     "text": []
    },
    {
     "name": "stdout",
     "output_type": "stream",
     "text": [
      "DK_1 2017-05-01 00:00:00+02:00 2017-06-01 00:00:00+02:00\n"
     ]
    },
    {
     "name": "stderr",
     "output_type": "stream",
     "text": []
    },
    {
     "name": "stdout",
     "output_type": "stream",
     "text": [
      "DK_1 2017-06-01 00:00:00+02:00 2017-07-01 00:00:00+02:00\n"
     ]
    },
    {
     "name": "stderr",
     "output_type": "stream",
     "text": []
    },
    {
     "name": "stdout",
     "output_type": "stream",
     "text": [
      "DK_1 2017-07-01 00:00:00+02:00 2017-08-01 00:00:00+02:00\n"
     ]
    },
    {
     "name": "stderr",
     "output_type": "stream",
     "text": []
    },
    {
     "name": "stdout",
     "output_type": "stream",
     "text": [
      "DK_1 2017-08-01 00:00:00+02:00 2017-09-01 00:00:00+02:00\n"
     ]
    },
    {
     "name": "stderr",
     "output_type": "stream",
     "text": []
    },
    {
     "name": "stdout",
     "output_type": "stream",
     "text": [
      "DK_1 2017-09-01 00:00:00+02:00 2017-10-01 00:00:00+02:00\n"
     ]
    },
    {
     "name": "stderr",
     "output_type": "stream",
     "text": []
    },
    {
     "name": "stdout",
     "output_type": "stream",
     "text": [
      "DK_1 2017-10-01 00:00:00+02:00 2017-11-01 00:00:00+01:00\n"
     ]
    },
    {
     "name": "stderr",
     "output_type": "stream",
     "text": []
    },
    {
     "name": "stdout",
     "output_type": "stream",
     "text": [
      "DK_1 2017-11-01 00:00:00+01:00 2017-12-01 00:00:00+01:00\n"
     ]
    },
    {
     "name": "stderr",
     "output_type": "stream",
     "text": []
    },
    {
     "name": "stdout",
     "output_type": "stream",
     "text": [
      "DK_1 2017-12-01 00:00:00+01:00 2018-01-01 00:00:00+01:00\n"
     ]
    },
    {
     "name": "stderr",
     "output_type": "stream",
     "text": [
      "Years:  40%|████      | 4/10 [6:01:51<8:12:28, 4924.75s/it] "
     ]
    },
    {
     "name": "stdout",
     "output_type": "stream",
     "text": [
      "DK_1 2018-01-01 00:00:00+01:00 2018-02-01 00:00:00+01:00\n"
     ]
    },
    {
     "name": "stderr",
     "output_type": "stream",
     "text": []
    },
    {
     "name": "stdout",
     "output_type": "stream",
     "text": [
      "DK_1 2018-02-01 00:00:00+01:00 2018-03-01 00:00:00+01:00\n"
     ]
    },
    {
     "name": "stderr",
     "output_type": "stream",
     "text": []
    },
    {
     "name": "stdout",
     "output_type": "stream",
     "text": [
      "DK_1 2018-03-01 00:00:00+01:00 2018-04-01 00:00:00+02:00\n"
     ]
    },
    {
     "name": "stderr",
     "output_type": "stream",
     "text": []
    },
    {
     "name": "stdout",
     "output_type": "stream",
     "text": [
      "DK_1 2018-04-01 00:00:00+02:00 2018-05-01 00:00:00+02:00\n"
     ]
    },
    {
     "name": "stderr",
     "output_type": "stream",
     "text": []
    },
    {
     "name": "stdout",
     "output_type": "stream",
     "text": [
      "DK_1 2018-05-01 00:00:00+02:00 2018-06-01 00:00:00+02:00\n"
     ]
    },
    {
     "name": "stderr",
     "output_type": "stream",
     "text": []
    },
    {
     "name": "stdout",
     "output_type": "stream",
     "text": [
      "DK_1 2018-06-01 00:00:00+02:00 2018-07-01 00:00:00+02:00\n"
     ]
    },
    {
     "name": "stderr",
     "output_type": "stream",
     "text": []
    },
    {
     "name": "stdout",
     "output_type": "stream",
     "text": [
      "DK_1 2018-07-01 00:00:00+02:00 2018-08-01 00:00:00+02:00\n"
     ]
    },
    {
     "name": "stderr",
     "output_type": "stream",
     "text": []
    },
    {
     "name": "stdout",
     "output_type": "stream",
     "text": [
      "DK_1 2018-08-01 00:00:00+02:00 2018-09-01 00:00:00+02:00\n"
     ]
    },
    {
     "name": "stderr",
     "output_type": "stream",
     "text": []
    },
    {
     "name": "stdout",
     "output_type": "stream",
     "text": [
      "DK_1 2018-09-01 00:00:00+02:00 2018-10-01 00:00:00+02:00\n"
     ]
    },
    {
     "name": "stderr",
     "output_type": "stream",
     "text": []
    },
    {
     "name": "stdout",
     "output_type": "stream",
     "text": [
      "DK_1 2018-10-01 00:00:00+02:00 2018-11-01 00:00:00+01:00\n"
     ]
    },
    {
     "name": "stderr",
     "output_type": "stream",
     "text": []
    },
    {
     "name": "stdout",
     "output_type": "stream",
     "text": [
      "DK_1 2018-11-01 00:00:00+01:00 2018-12-01 00:00:00+01:00\n"
     ]
    },
    {
     "name": "stderr",
     "output_type": "stream",
     "text": []
    },
    {
     "name": "stdout",
     "output_type": "stream",
     "text": [
      "DK_1 2018-12-01 00:00:00+01:00 2019-01-01 00:00:00+01:00\n"
     ]
    },
    {
     "name": "stderr",
     "output_type": "stream",
     "text": [
      "Years:  50%|█████     | 5/10 [7:16:11<6:36:25, 4757.18s/it]"
     ]
    },
    {
     "name": "stdout",
     "output_type": "stream",
     "text": [
      "DK_1 2019-01-01 00:00:00+01:00 2019-02-01 00:00:00+01:00\n"
     ]
    },
    {
     "name": "stderr",
     "output_type": "stream",
     "text": []
    },
    {
     "name": "stdout",
     "output_type": "stream",
     "text": [
      "DK_1 2019-02-01 00:00:00+01:00 2019-03-01 00:00:00+01:00\n"
     ]
    },
    {
     "name": "stderr",
     "output_type": "stream",
     "text": []
    },
    {
     "name": "stdout",
     "output_type": "stream",
     "text": [
      "DK_1 2019-03-01 00:00:00+01:00 2019-04-01 00:00:00+02:00\n"
     ]
    },
    {
     "name": "stderr",
     "output_type": "stream",
     "text": []
    },
    {
     "name": "stdout",
     "output_type": "stream",
     "text": [
      "DK_1 2019-04-01 00:00:00+02:00 2019-05-01 00:00:00+02:00\n"
     ]
    },
    {
     "name": "stderr",
     "output_type": "stream",
     "text": []
    },
    {
     "name": "stdout",
     "output_type": "stream",
     "text": [
      "DK_1 2019-05-01 00:00:00+02:00 2019-06-01 00:00:00+02:00\n"
     ]
    },
    {
     "name": "stderr",
     "output_type": "stream",
     "text": []
    },
    {
     "name": "stdout",
     "output_type": "stream",
     "text": [
      "DK_1 2019-06-01 00:00:00+02:00 2019-07-01 00:00:00+02:00\n"
     ]
    },
    {
     "name": "stderr",
     "output_type": "stream",
     "text": []
    },
    {
     "name": "stdout",
     "output_type": "stream",
     "text": [
      "DK_1 2019-07-01 00:00:00+02:00 2019-08-01 00:00:00+02:00\n"
     ]
    },
    {
     "name": "stderr",
     "output_type": "stream",
     "text": []
    },
    {
     "name": "stdout",
     "output_type": "stream",
     "text": [
      "DK_1 2019-08-01 00:00:00+02:00 2019-09-01 00:00:00+02:00\n"
     ]
    },
    {
     "name": "stderr",
     "output_type": "stream",
     "text": []
    },
    {
     "name": "stdout",
     "output_type": "stream",
     "text": [
      "DK_1 2019-09-01 00:00:00+02:00 2019-10-01 00:00:00+02:00\n"
     ]
    },
    {
     "name": "stderr",
     "output_type": "stream",
     "text": []
    },
    {
     "name": "stdout",
     "output_type": "stream",
     "text": [
      "DK_1 2019-10-01 00:00:00+02:00 2019-11-01 00:00:00+01:00\n"
     ]
    },
    {
     "name": "stderr",
     "output_type": "stream",
     "text": []
    },
    {
     "name": "stdout",
     "output_type": "stream",
     "text": [
      "DK_1 2019-11-01 00:00:00+01:00 2019-12-01 00:00:00+01:00\n"
     ]
    },
    {
     "name": "stderr",
     "output_type": "stream",
     "text": []
    },
    {
     "name": "stdout",
     "output_type": "stream",
     "text": [
      "DK_1 2019-12-01 00:00:00+01:00 2020-01-01 00:00:00+01:00\n"
     ]
    },
    {
     "name": "stderr",
     "output_type": "stream",
     "text": [
      "Years:  60%|██████    | 6/10 [8:28:47<5:08:03, 4620.81s/it]"
     ]
    },
    {
     "name": "stdout",
     "output_type": "stream",
     "text": [
      "DK_1 2020-01-01 00:00:00+01:00 2020-02-01 00:00:00+01:00\n"
     ]
    },
    {
     "name": "stderr",
     "output_type": "stream",
     "text": []
    },
    {
     "name": "stdout",
     "output_type": "stream",
     "text": [
      "DK_1 2020-02-01 00:00:00+01:00 2020-03-01 00:00:00+01:00\n"
     ]
    },
    {
     "name": "stderr",
     "output_type": "stream",
     "text": []
    },
    {
     "name": "stdout",
     "output_type": "stream",
     "text": [
      "DK_1 2020-03-01 00:00:00+01:00 2020-04-01 00:00:00+02:00\n"
     ]
    },
    {
     "name": "stderr",
     "output_type": "stream",
     "text": []
    },
    {
     "name": "stdout",
     "output_type": "stream",
     "text": [
      "DK_1 2020-04-01 00:00:00+02:00 2020-05-01 00:00:00+02:00\n"
     ]
    },
    {
     "name": "stderr",
     "output_type": "stream",
     "text": []
    },
    {
     "name": "stdout",
     "output_type": "stream",
     "text": [
      "DK_1 2020-05-01 00:00:00+02:00 2020-06-01 00:00:00+02:00\n"
     ]
    },
    {
     "name": "stderr",
     "output_type": "stream",
     "text": []
    },
    {
     "name": "stdout",
     "output_type": "stream",
     "text": [
      "DK_1 2020-06-01 00:00:00+02:00 2020-07-01 00:00:00+02:00\n"
     ]
    },
    {
     "name": "stderr",
     "output_type": "stream",
     "text": []
    },
    {
     "name": "stdout",
     "output_type": "stream",
     "text": [
      "DK_1 2020-07-01 00:00:00+02:00 2020-08-01 00:00:00+02:00\n"
     ]
    },
    {
     "name": "stderr",
     "output_type": "stream",
     "text": []
    },
    {
     "name": "stdout",
     "output_type": "stream",
     "text": [
      "DK_1 2020-08-01 00:00:00+02:00 2020-09-01 00:00:00+02:00\n"
     ]
    },
    {
     "name": "stderr",
     "output_type": "stream",
     "text": []
    },
    {
     "name": "stdout",
     "output_type": "stream",
     "text": [
      "DK_1 2020-09-01 00:00:00+02:00 2020-10-01 00:00:00+02:00\n"
     ]
    },
    {
     "name": "stderr",
     "output_type": "stream",
     "text": []
    },
    {
     "name": "stdout",
     "output_type": "stream",
     "text": [
      "DK_1 2020-10-01 00:00:00+02:00 2020-11-01 00:00:00+01:00\n"
     ]
    },
    {
     "name": "stderr",
     "output_type": "stream",
     "text": []
    },
    {
     "name": "stdout",
     "output_type": "stream",
     "text": [
      "DK_1 2020-11-01 00:00:00+01:00 2020-12-01 00:00:00+01:00\n"
     ]
    },
    {
     "name": "stderr",
     "output_type": "stream",
     "text": []
    },
    {
     "name": "stdout",
     "output_type": "stream",
     "text": [
      "DK_1 2020-12-01 00:00:00+01:00 2021-01-01 00:00:00+01:00\n"
     ]
    },
    {
     "name": "stderr",
     "output_type": "stream",
     "text": [
      "Years:  70%|███████   | 7/10 [9:41:08<3:46:28, 4529.34s/it]"
     ]
    },
    {
     "name": "stdout",
     "output_type": "stream",
     "text": [
      "DK_1 2021-01-01 00:00:00+01:00 2021-02-01 00:00:00+01:00\n"
     ]
    },
    {
     "name": "stderr",
     "output_type": "stream",
     "text": []
    },
    {
     "name": "stdout",
     "output_type": "stream",
     "text": [
      "DK_1 2021-02-01 00:00:00+01:00 2021-03-01 00:00:00+01:00\n"
     ]
    },
    {
     "name": "stderr",
     "output_type": "stream",
     "text": []
    },
    {
     "name": "stdout",
     "output_type": "stream",
     "text": [
      "DK_1 2021-03-01 00:00:00+01:00 2021-04-01 00:00:00+02:00\n"
     ]
    },
    {
     "name": "stderr",
     "output_type": "stream",
     "text": []
    },
    {
     "name": "stdout",
     "output_type": "stream",
     "text": [
      "DK_1 2021-04-01 00:00:00+02:00 2021-05-01 00:00:00+02:00\n"
     ]
    },
    {
     "name": "stderr",
     "output_type": "stream",
     "text": []
    },
    {
     "name": "stdout",
     "output_type": "stream",
     "text": [
      "DK_1 2021-05-01 00:00:00+02:00 2021-06-01 00:00:00+02:00\n"
     ]
    },
    {
     "name": "stderr",
     "output_type": "stream",
     "text": []
    },
    {
     "name": "stdout",
     "output_type": "stream",
     "text": [
      "DK_1 2021-06-01 00:00:00+02:00 2021-07-01 00:00:00+02:00\n"
     ]
    },
    {
     "name": "stderr",
     "output_type": "stream",
     "text": []
    },
    {
     "name": "stdout",
     "output_type": "stream",
     "text": [
      "DK_1 2021-07-01 00:00:00+02:00 2021-08-01 00:00:00+02:00\n"
     ]
    },
    {
     "name": "stderr",
     "output_type": "stream",
     "text": []
    },
    {
     "name": "stdout",
     "output_type": "stream",
     "text": [
      "DK_1 2021-08-01 00:00:00+02:00 2021-09-01 00:00:00+02:00\n"
     ]
    },
    {
     "name": "stderr",
     "output_type": "stream",
     "text": []
    },
    {
     "name": "stdout",
     "output_type": "stream",
     "text": [
      "DK_1 2021-09-01 00:00:00+02:00 2021-10-01 00:00:00+02:00\n"
     ]
    },
    {
     "name": "stderr",
     "output_type": "stream",
     "text": []
    },
    {
     "name": "stdout",
     "output_type": "stream",
     "text": [
      "DK_1 2021-10-01 00:00:00+02:00 2021-11-01 00:00:00+01:00\n"
     ]
    },
    {
     "name": "stderr",
     "output_type": "stream",
     "text": []
    },
    {
     "name": "stdout",
     "output_type": "stream",
     "text": [
      "DK_1 2021-11-01 00:00:00+01:00 2021-12-01 00:00:00+01:00\n"
     ]
    },
    {
     "name": "stderr",
     "output_type": "stream",
     "text": []
    },
    {
     "name": "stdout",
     "output_type": "stream",
     "text": [
      "DK_1 2021-12-01 00:00:00+01:00 2022-01-01 00:00:00+01:00\n"
     ]
    },
    {
     "name": "stderr",
     "output_type": "stream",
     "text": [
      "Years:  80%|████████  | 8/10 [10:53:27<2:28:57, 4468.58s/it]"
     ]
    },
    {
     "name": "stdout",
     "output_type": "stream",
     "text": [
      "DK_1 2022-01-01 00:00:00+01:00 2022-02-01 00:00:00+01:00\n"
     ]
    },
    {
     "name": "stderr",
     "output_type": "stream",
     "text": []
    },
    {
     "name": "stdout",
     "output_type": "stream",
     "text": [
      "DK_1 2022-02-01 00:00:00+01:00 2022-03-01 00:00:00+01:00\n"
     ]
    },
    {
     "name": "stderr",
     "output_type": "stream",
     "text": []
    },
    {
     "name": "stdout",
     "output_type": "stream",
     "text": [
      "DK_1 2022-03-01 00:00:00+01:00 2022-04-01 00:00:00+02:00\n"
     ]
    },
    {
     "name": "stderr",
     "output_type": "stream",
     "text": []
    },
    {
     "name": "stdout",
     "output_type": "stream",
     "text": [
      "DK_1 2022-04-01 00:00:00+02:00 2022-05-01 00:00:00+02:00\n"
     ]
    },
    {
     "name": "stderr",
     "output_type": "stream",
     "text": []
    },
    {
     "name": "stdout",
     "output_type": "stream",
     "text": [
      "DK_1 2022-05-01 00:00:00+02:00 2022-06-01 00:00:00+02:00\n"
     ]
    },
    {
     "name": "stderr",
     "output_type": "stream",
     "text": []
    },
    {
     "name": "stdout",
     "output_type": "stream",
     "text": [
      "DK_1 2022-06-01 00:00:00+02:00 2022-07-01 00:00:00+02:00\n"
     ]
    },
    {
     "name": "stderr",
     "output_type": "stream",
     "text": []
    },
    {
     "name": "stdout",
     "output_type": "stream",
     "text": [
      "DK_1 2022-07-01 00:00:00+02:00 2022-08-01 00:00:00+02:00\n"
     ]
    },
    {
     "name": "stderr",
     "output_type": "stream",
     "text": []
    },
    {
     "name": "stdout",
     "output_type": "stream",
     "text": [
      "DK_1 2022-08-01 00:00:00+02:00 2022-09-01 00:00:00+02:00\n"
     ]
    },
    {
     "name": "stderr",
     "output_type": "stream",
     "text": []
    },
    {
     "name": "stdout",
     "output_type": "stream",
     "text": [
      "DK_1 2022-09-01 00:00:00+02:00 2022-10-01 00:00:00+02:00\n"
     ]
    },
    {
     "name": "stderr",
     "output_type": "stream",
     "text": []
    },
    {
     "name": "stdout",
     "output_type": "stream",
     "text": [
      "DK_1 2022-10-01 00:00:00+02:00 2022-11-01 00:00:00+01:00\n"
     ]
    },
    {
     "name": "stderr",
     "output_type": "stream",
     "text": []
    },
    {
     "name": "stdout",
     "output_type": "stream",
     "text": [
      "DK_1 2022-11-01 00:00:00+01:00 2022-12-01 00:00:00+01:00\n"
     ]
    },
    {
     "name": "stderr",
     "output_type": "stream",
     "text": []
    },
    {
     "name": "stdout",
     "output_type": "stream",
     "text": [
      "DK_1 2022-12-01 00:00:00+01:00 2023-01-01 00:00:00+01:00\n"
     ]
    },
    {
     "name": "stderr",
     "output_type": "stream",
     "text": [
      "Years:  90%|█████████ | 9/10 [12:06:25<1:14:00, 4440.15s/it]"
     ]
    },
    {
     "name": "stdout",
     "output_type": "stream",
     "text": [
      "DK_1 2023-01-01 00:00:00+01:00 2023-02-01 00:00:00+01:00\n"
     ]
    },
    {
     "name": "stderr",
     "output_type": "stream",
     "text": []
    },
    {
     "name": "stdout",
     "output_type": "stream",
     "text": [
      "DK_1 2023-02-01 00:00:00+01:00 2023-03-01 00:00:00+01:00\n"
     ]
    },
    {
     "name": "stderr",
     "output_type": "stream",
     "text": []
    },
    {
     "name": "stdout",
     "output_type": "stream",
     "text": [
      "DK_1 2023-03-01 00:00:00+01:00 2023-04-01 00:00:00+02:00\n"
     ]
    },
    {
     "name": "stderr",
     "output_type": "stream",
     "text": []
    },
    {
     "name": "stdout",
     "output_type": "stream",
     "text": [
      "DK_1 2023-04-01 00:00:00+02:00 2023-05-01 00:00:00+02:00\n"
     ]
    },
    {
     "name": "stderr",
     "output_type": "stream",
     "text": []
    },
    {
     "name": "stdout",
     "output_type": "stream",
     "text": [
      "DK_1 2023-05-01 00:00:00+02:00 2023-06-01 00:00:00+02:00\n"
     ]
    },
    {
     "name": "stderr",
     "output_type": "stream",
     "text": []
    },
    {
     "name": "stdout",
     "output_type": "stream",
     "text": [
      "DK_1 2023-06-01 00:00:00+02:00 2023-07-01 00:00:00+02:00\n"
     ]
    },
    {
     "name": "stderr",
     "output_type": "stream",
     "text": []
    },
    {
     "name": "stdout",
     "output_type": "stream",
     "text": [
      "DK_1 2023-07-01 00:00:00+02:00 2023-08-01 00:00:00+02:00\n"
     ]
    },
    {
     "name": "stderr",
     "output_type": "stream",
     "text": []
    },
    {
     "name": "stdout",
     "output_type": "stream",
     "text": [
      "DK_1 2023-08-01 00:00:00+02:00 2023-09-01 00:00:00+02:00\n"
     ]
    },
    {
     "name": "stderr",
     "output_type": "stream",
     "text": []
    },
    {
     "name": "stdout",
     "output_type": "stream",
     "text": [
      "DK_1 2023-09-01 00:00:00+02:00 2023-10-01 00:00:00+02:00\n"
     ]
    },
    {
     "name": "stderr",
     "output_type": "stream",
     "text": [
      "Years: 100%|██████████| 10/10 [13:01:20<00:00, 4688.01s/it] \n",
      "Years:   0%|          | 0/10 [00:00<?, ?it/s]Connection Error, retrying in 0 seconds\n"
     ]
    },
    {
     "name": "stdout",
     "output_type": "stream",
     "text": [
      "DK_2 2014-12-01 00:00:00+01:00 2015-01-01 00:00:00+01:00\n"
     ]
    },
    {
     "name": "stderr",
     "output_type": "stream",
     "text": [
      "Years:  10%|█         | 1/10 [2:25:30<21:49:37, 8730.81s/it]"
     ]
    },
    {
     "name": "stdout",
     "output_type": "stream",
     "text": [
      "DK_2 2015-01-01 00:00:00+01:00 2015-02-01 00:00:00+01:00\n"
     ]
    },
    {
     "name": "stderr",
     "output_type": "stream",
     "text": []
    },
    {
     "name": "stdout",
     "output_type": "stream",
     "text": [
      "DK_2 2015-02-01 00:00:00+01:00 2015-03-01 00:00:00+01:00\n"
     ]
    },
    {
     "name": "stderr",
     "output_type": "stream",
     "text": []
    },
    {
     "name": "stdout",
     "output_type": "stream",
     "text": [
      "DK_2 2015-03-01 00:00:00+01:00 2015-04-01 00:00:00+02:00\n"
     ]
    },
    {
     "name": "stderr",
     "output_type": "stream",
     "text": []
    },
    {
     "name": "stdout",
     "output_type": "stream",
     "text": [
      "DK_2 2015-04-01 00:00:00+02:00 2015-05-01 00:00:00+02:00\n"
     ]
    },
    {
     "name": "stderr",
     "output_type": "stream",
     "text": []
    },
    {
     "name": "stdout",
     "output_type": "stream",
     "text": [
      "DK_2 2015-05-01 00:00:00+02:00 2015-06-01 00:00:00+02:00\n"
     ]
    },
    {
     "name": "stderr",
     "output_type": "stream",
     "text": []
    },
    {
     "name": "stdout",
     "output_type": "stream",
     "text": [
      "DK_2 2015-06-01 00:00:00+02:00 2015-07-01 00:00:00+02:00\n"
     ]
    },
    {
     "name": "stderr",
     "output_type": "stream",
     "text": []
    },
    {
     "name": "stdout",
     "output_type": "stream",
     "text": [
      "DK_2 2015-07-01 00:00:00+02:00 2015-08-01 00:00:00+02:00\n"
     ]
    },
    {
     "name": "stderr",
     "output_type": "stream",
     "text": []
    },
    {
     "name": "stdout",
     "output_type": "stream",
     "text": [
      "DK_2 2015-08-01 00:00:00+02:00 2015-09-01 00:00:00+02:00\n"
     ]
    },
    {
     "name": "stderr",
     "output_type": "stream",
     "text": []
    },
    {
     "name": "stdout",
     "output_type": "stream",
     "text": [
      "DK_2 2015-09-01 00:00:00+02:00 2015-10-01 00:00:00+02:00\n"
     ]
    },
    {
     "name": "stderr",
     "output_type": "stream",
     "text": []
    },
    {
     "name": "stdout",
     "output_type": "stream",
     "text": [
      "DK_2 2015-10-01 00:00:00+02:00 2015-11-01 00:00:00+01:00\n"
     ]
    },
    {
     "name": "stderr",
     "output_type": "stream",
     "text": []
    },
    {
     "name": "stdout",
     "output_type": "stream",
     "text": [
      "DK_2 2015-11-01 00:00:00+01:00 2015-12-01 00:00:00+01:00\n"
     ]
    },
    {
     "name": "stderr",
     "output_type": "stream",
     "text": []
    },
    {
     "name": "stdout",
     "output_type": "stream",
     "text": [
      "DK_2 2015-12-01 00:00:00+01:00 2016-01-01 00:00:00+01:00\n"
     ]
    },
    {
     "name": "stderr",
     "output_type": "stream",
     "text": [
      "Years:  20%|██        | 2/10 [3:38:36<13:43:19, 6174.89s/it]"
     ]
    },
    {
     "name": "stdout",
     "output_type": "stream",
     "text": [
      "DK_2 2016-01-01 00:00:00+01:00 2016-02-01 00:00:00+01:00\n"
     ]
    },
    {
     "name": "stderr",
     "output_type": "stream",
     "text": []
    },
    {
     "name": "stdout",
     "output_type": "stream",
     "text": [
      "DK_2 2016-02-01 00:00:00+01:00 2016-03-01 00:00:00+01:00\n"
     ]
    },
    {
     "name": "stderr",
     "output_type": "stream",
     "text": []
    },
    {
     "name": "stdout",
     "output_type": "stream",
     "text": [
      "DK_2 2016-03-01 00:00:00+01:00 2016-04-01 00:00:00+02:00\n"
     ]
    },
    {
     "name": "stderr",
     "output_type": "stream",
     "text": []
    },
    {
     "name": "stdout",
     "output_type": "stream",
     "text": [
      "DK_2 2016-04-01 00:00:00+02:00 2016-05-01 00:00:00+02:00\n"
     ]
    },
    {
     "name": "stderr",
     "output_type": "stream",
     "text": []
    },
    {
     "name": "stdout",
     "output_type": "stream",
     "text": [
      "DK_2 2016-05-01 00:00:00+02:00 2016-06-01 00:00:00+02:00\n"
     ]
    },
    {
     "name": "stderr",
     "output_type": "stream",
     "text": []
    },
    {
     "name": "stdout",
     "output_type": "stream",
     "text": [
      "DK_2 2016-06-01 00:00:00+02:00 2016-07-01 00:00:00+02:00\n"
     ]
    },
    {
     "name": "stderr",
     "output_type": "stream",
     "text": []
    },
    {
     "name": "stdout",
     "output_type": "stream",
     "text": [
      "DK_2 2016-07-01 00:00:00+02:00 2016-08-01 00:00:00+02:00\n"
     ]
    },
    {
     "name": "stderr",
     "output_type": "stream",
     "text": []
    },
    {
     "name": "stdout",
     "output_type": "stream",
     "text": [
      "DK_2 2016-08-01 00:00:00+02:00 2016-09-01 00:00:00+02:00\n"
     ]
    },
    {
     "name": "stderr",
     "output_type": "stream",
     "text": []
    },
    {
     "name": "stdout",
     "output_type": "stream",
     "text": [
      "DK_2 2016-09-01 00:00:00+02:00 2016-10-01 00:00:00+02:00\n"
     ]
    },
    {
     "name": "stderr",
     "output_type": "stream",
     "text": []
    },
    {
     "name": "stdout",
     "output_type": "stream",
     "text": [
      "DK_2 2016-10-01 00:00:00+02:00 2016-11-01 00:00:00+01:00\n"
     ]
    },
    {
     "name": "stderr",
     "output_type": "stream",
     "text": []
    },
    {
     "name": "stdout",
     "output_type": "stream",
     "text": [
      "DK_2 2016-11-01 00:00:00+01:00 2016-12-01 00:00:00+01:00\n"
     ]
    },
    {
     "name": "stderr",
     "output_type": "stream",
     "text": []
    },
    {
     "name": "stdout",
     "output_type": "stream",
     "text": [
      "DK_2 2016-12-01 00:00:00+01:00 2017-01-01 00:00:00+01:00\n"
     ]
    },
    {
     "name": "stderr",
     "output_type": "stream",
     "text": [
      "Years:  30%|███       | 3/10 [4:51:04<10:23:03, 5340.51s/it]"
     ]
    },
    {
     "name": "stdout",
     "output_type": "stream",
     "text": [
      "DK_2 2017-01-01 00:00:00+01:00 2017-02-01 00:00:00+01:00\n"
     ]
    },
    {
     "name": "stderr",
     "output_type": "stream",
     "text": []
    },
    {
     "name": "stdout",
     "output_type": "stream",
     "text": [
      "DK_2 2017-02-01 00:00:00+01:00 2017-03-01 00:00:00+01:00\n"
     ]
    },
    {
     "name": "stderr",
     "output_type": "stream",
     "text": [
      "Connection Error, retrying in 0 seconds\n"
     ]
    },
    {
     "name": "stdout",
     "output_type": "stream",
     "text": [
      "DK_2 2017-03-01 00:00:00+01:00 2017-04-01 00:00:00+02:00\n"
     ]
    },
    {
     "name": "stderr",
     "output_type": "stream",
     "text": []
    },
    {
     "name": "stdout",
     "output_type": "stream",
     "text": [
      "DK_2 2017-04-01 00:00:00+02:00 2017-05-01 00:00:00+02:00\n"
     ]
    },
    {
     "name": "stderr",
     "output_type": "stream",
     "text": []
    },
    {
     "name": "stdout",
     "output_type": "stream",
     "text": [
      "DK_2 2017-05-01 00:00:00+02:00 2017-06-01 00:00:00+02:00\n"
     ]
    },
    {
     "name": "stderr",
     "output_type": "stream",
     "text": []
    },
    {
     "name": "stdout",
     "output_type": "stream",
     "text": [
      "DK_2 2017-06-01 00:00:00+02:00 2017-07-01 00:00:00+02:00\n"
     ]
    },
    {
     "name": "stderr",
     "output_type": "stream",
     "text": []
    },
    {
     "name": "stdout",
     "output_type": "stream",
     "text": [
      "DK_2 2017-07-01 00:00:00+02:00 2017-08-01 00:00:00+02:00\n"
     ]
    },
    {
     "name": "stderr",
     "output_type": "stream",
     "text": []
    },
    {
     "name": "stdout",
     "output_type": "stream",
     "text": [
      "DK_2 2017-08-01 00:00:00+02:00 2017-09-01 00:00:00+02:00\n"
     ]
    },
    {
     "name": "stderr",
     "output_type": "stream",
     "text": []
    },
    {
     "name": "stdout",
     "output_type": "stream",
     "text": [
      "DK_2 2017-09-01 00:00:00+02:00 2017-10-01 00:00:00+02:00\n"
     ]
    },
    {
     "name": "stderr",
     "output_type": "stream",
     "text": []
    },
    {
     "name": "stdout",
     "output_type": "stream",
     "text": [
      "DK_2 2017-10-01 00:00:00+02:00 2017-11-01 00:00:00+01:00\n"
     ]
    },
    {
     "name": "stderr",
     "output_type": "stream",
     "text": []
    },
    {
     "name": "stdout",
     "output_type": "stream",
     "text": [
      "DK_2 2017-11-01 00:00:00+01:00 2017-12-01 00:00:00+01:00\n"
     ]
    },
    {
     "name": "stderr",
     "output_type": "stream",
     "text": []
    },
    {
     "name": "stdout",
     "output_type": "stream",
     "text": [
      "DK_2 2017-12-01 00:00:00+01:00 2018-01-01 00:00:00+01:00\n"
     ]
    },
    {
     "name": "stderr",
     "output_type": "stream",
     "text": [
      "Years:  40%|████      | 4/10 [6:11:17<8:33:13, 5132.22s/it] "
     ]
    },
    {
     "name": "stdout",
     "output_type": "stream",
     "text": [
      "DK_2 2018-01-01 00:00:00+01:00 2018-02-01 00:00:00+01:00\n"
     ]
    },
    {
     "name": "stderr",
     "output_type": "stream",
     "text": []
    },
    {
     "name": "stdout",
     "output_type": "stream",
     "text": [
      "DK_2 2018-02-01 00:00:00+01:00 2018-03-01 00:00:00+01:00\n"
     ]
    },
    {
     "name": "stderr",
     "output_type": "stream",
     "text": []
    },
    {
     "name": "stdout",
     "output_type": "stream",
     "text": [
      "DK_2 2018-03-01 00:00:00+01:00 2018-04-01 00:00:00+02:00\n"
     ]
    },
    {
     "name": "stderr",
     "output_type": "stream",
     "text": []
    },
    {
     "name": "stdout",
     "output_type": "stream",
     "text": [
      "DK_2 2018-04-01 00:00:00+02:00 2018-05-01 00:00:00+02:00\n"
     ]
    },
    {
     "name": "stderr",
     "output_type": "stream",
     "text": []
    },
    {
     "name": "stdout",
     "output_type": "stream",
     "text": [
      "DK_2 2018-05-01 00:00:00+02:00 2018-06-01 00:00:00+02:00\n"
     ]
    },
    {
     "name": "stderr",
     "output_type": "stream",
     "text": []
    },
    {
     "name": "stdout",
     "output_type": "stream",
     "text": [
      "DK_2 2018-06-01 00:00:00+02:00 2018-07-01 00:00:00+02:00\n"
     ]
    },
    {
     "name": "stderr",
     "output_type": "stream",
     "text": []
    },
    {
     "name": "stdout",
     "output_type": "stream",
     "text": [
      "DK_2 2018-07-01 00:00:00+02:00 2018-08-01 00:00:00+02:00\n"
     ]
    },
    {
     "name": "stderr",
     "output_type": "stream",
     "text": []
    },
    {
     "name": "stdout",
     "output_type": "stream",
     "text": [
      "DK_2 2018-08-01 00:00:00+02:00 2018-09-01 00:00:00+02:00\n"
     ]
    },
    {
     "name": "stderr",
     "output_type": "stream",
     "text": [
      "Connection Error, retrying in 0 seconds\n"
     ]
    },
    {
     "name": "stdout",
     "output_type": "stream",
     "text": [
      "DK_2 2018-09-01 00:00:00+02:00 2018-10-01 00:00:00+02:00\n"
     ]
    },
    {
     "name": "stderr",
     "output_type": "stream",
     "text": []
    },
    {
     "name": "stdout",
     "output_type": "stream",
     "text": [
      "DK_2 2018-10-01 00:00:00+02:00 2018-11-01 00:00:00+01:00\n"
     ]
    },
    {
     "name": "stderr",
     "output_type": "stream",
     "text": []
    },
    {
     "name": "stdout",
     "output_type": "stream",
     "text": [
      "DK_2 2018-11-01 00:00:00+01:00 2018-12-01 00:00:00+01:00\n"
     ]
    },
    {
     "name": "stderr",
     "output_type": "stream",
     "text": [
      "Connection Error, retrying in 0 seconds\n",
      "Connection Error, retrying in 0 seconds\n"
     ]
    },
    {
     "name": "stdout",
     "output_type": "stream",
     "text": [
      "DK_2 2018-12-01 00:00:00+01:00 2019-01-01 00:00:00+01:00\n"
     ]
    },
    {
     "name": "stderr",
     "output_type": "stream",
     "text": [
      "Years:  50%|█████     | 5/10 [7:43:29<7:19:42, 5276.42s/it]"
     ]
    },
    {
     "name": "stdout",
     "output_type": "stream",
     "text": [
      "DK_2 2019-01-01 00:00:00+01:00 2019-02-01 00:00:00+01:00\n"
     ]
    },
    {
     "name": "stderr",
     "output_type": "stream",
     "text": []
    },
    {
     "name": "stdout",
     "output_type": "stream",
     "text": [
      "DK_2 2019-02-01 00:00:00+01:00 2019-03-01 00:00:00+01:00\n"
     ]
    },
    {
     "name": "stderr",
     "output_type": "stream",
     "text": []
    },
    {
     "name": "stdout",
     "output_type": "stream",
     "text": [
      "DK_2 2019-03-01 00:00:00+01:00 2019-04-01 00:00:00+02:00\n"
     ]
    },
    {
     "name": "stderr",
     "output_type": "stream",
     "text": []
    },
    {
     "name": "stdout",
     "output_type": "stream",
     "text": [
      "DK_2 2019-04-01 00:00:00+02:00 2019-05-01 00:00:00+02:00\n"
     ]
    },
    {
     "name": "stderr",
     "output_type": "stream",
     "text": []
    },
    {
     "name": "stdout",
     "output_type": "stream",
     "text": [
      "DK_2 2019-05-01 00:00:00+02:00 2019-06-01 00:00:00+02:00\n"
     ]
    },
    {
     "name": "stderr",
     "output_type": "stream",
     "text": []
    },
    {
     "name": "stdout",
     "output_type": "stream",
     "text": [
      "DK_2 2019-06-01 00:00:00+02:00 2019-07-01 00:00:00+02:00\n"
     ]
    },
    {
     "name": "stderr",
     "output_type": "stream",
     "text": []
    },
    {
     "name": "stdout",
     "output_type": "stream",
     "text": [
      "DK_2 2019-07-01 00:00:00+02:00 2019-08-01 00:00:00+02:00\n"
     ]
    },
    {
     "name": "stderr",
     "output_type": "stream",
     "text": []
    },
    {
     "name": "stdout",
     "output_type": "stream",
     "text": [
      "DK_2 2019-08-01 00:00:00+02:00 2019-09-01 00:00:00+02:00\n"
     ]
    },
    {
     "name": "stderr",
     "output_type": "stream",
     "text": []
    },
    {
     "name": "stdout",
     "output_type": "stream",
     "text": [
      "DK_2 2019-09-01 00:00:00+02:00 2019-10-01 00:00:00+02:00\n"
     ]
    },
    {
     "name": "stderr",
     "output_type": "stream",
     "text": []
    },
    {
     "name": "stdout",
     "output_type": "stream",
     "text": [
      "DK_2 2019-10-01 00:00:00+02:00 2019-11-01 00:00:00+01:00\n"
     ]
    },
    {
     "name": "stderr",
     "output_type": "stream",
     "text": []
    },
    {
     "name": "stdout",
     "output_type": "stream",
     "text": [
      "DK_2 2019-11-01 00:00:00+01:00 2019-12-01 00:00:00+01:00\n"
     ]
    },
    {
     "name": "stderr",
     "output_type": "stream",
     "text": []
    },
    {
     "name": "stdout",
     "output_type": "stream",
     "text": [
      "DK_2 2019-12-01 00:00:00+01:00 2020-01-01 00:00:00+01:00\n"
     ]
    },
    {
     "name": "stderr",
     "output_type": "stream",
     "text": [
      "Years:  60%|██████    | 6/10 [8:55:59<5:30:45, 4961.46s/it]"
     ]
    },
    {
     "name": "stdout",
     "output_type": "stream",
     "text": [
      "DK_2 2020-01-01 00:00:00+01:00 2020-02-01 00:00:00+01:00\n"
     ]
    },
    {
     "name": "stderr",
     "output_type": "stream",
     "text": []
    },
    {
     "name": "stdout",
     "output_type": "stream",
     "text": [
      "DK_2 2020-02-01 00:00:00+01:00 2020-03-01 00:00:00+01:00\n"
     ]
    },
    {
     "name": "stderr",
     "output_type": "stream",
     "text": []
    },
    {
     "name": "stdout",
     "output_type": "stream",
     "text": [
      "DK_2 2020-03-01 00:00:00+01:00 2020-04-01 00:00:00+02:00\n"
     ]
    },
    {
     "name": "stderr",
     "output_type": "stream",
     "text": []
    },
    {
     "name": "stdout",
     "output_type": "stream",
     "text": [
      "DK_2 2020-04-01 00:00:00+02:00 2020-05-01 00:00:00+02:00\n"
     ]
    },
    {
     "name": "stderr",
     "output_type": "stream",
     "text": []
    },
    {
     "name": "stdout",
     "output_type": "stream",
     "text": [
      "DK_2 2020-05-01 00:00:00+02:00 2020-06-01 00:00:00+02:00\n"
     ]
    },
    {
     "name": "stderr",
     "output_type": "stream",
     "text": []
    },
    {
     "name": "stdout",
     "output_type": "stream",
     "text": [
      "DK_2 2020-06-01 00:00:00+02:00 2020-07-01 00:00:00+02:00\n"
     ]
    },
    {
     "name": "stderr",
     "output_type": "stream",
     "text": []
    },
    {
     "name": "stdout",
     "output_type": "stream",
     "text": [
      "DK_2 2020-07-01 00:00:00+02:00 2020-08-01 00:00:00+02:00\n"
     ]
    },
    {
     "name": "stderr",
     "output_type": "stream",
     "text": []
    },
    {
     "name": "stdout",
     "output_type": "stream",
     "text": [
      "DK_2 2020-08-01 00:00:00+02:00 2020-09-01 00:00:00+02:00\n"
     ]
    },
    {
     "name": "stderr",
     "output_type": "stream",
     "text": []
    },
    {
     "name": "stdout",
     "output_type": "stream",
     "text": [
      "DK_2 2020-09-01 00:00:00+02:00 2020-10-01 00:00:00+02:00\n"
     ]
    },
    {
     "name": "stderr",
     "output_type": "stream",
     "text": []
    },
    {
     "name": "stdout",
     "output_type": "stream",
     "text": [
      "DK_2 2020-10-01 00:00:00+02:00 2020-11-01 00:00:00+01:00\n"
     ]
    },
    {
     "name": "stderr",
     "output_type": "stream",
     "text": []
    },
    {
     "name": "stdout",
     "output_type": "stream",
     "text": [
      "DK_2 2020-11-01 00:00:00+01:00 2020-12-01 00:00:00+01:00\n"
     ]
    },
    {
     "name": "stderr",
     "output_type": "stream",
     "text": [
      "Connection Error, retrying in 0 seconds\n"
     ]
    },
    {
     "name": "stdout",
     "output_type": "stream",
     "text": [
      "DK_2 2020-12-01 00:00:00+01:00 2021-01-01 00:00:00+01:00\n"
     ]
    },
    {
     "name": "stderr",
     "output_type": "stream",
     "text": [
      "Years:  70%|███████   | 7/10 [10:15:52<4:05:19, 4906.50s/it]"
     ]
    },
    {
     "name": "stdout",
     "output_type": "stream",
     "text": [
      "DK_2 2021-01-01 00:00:00+01:00 2021-02-01 00:00:00+01:00\n"
     ]
    },
    {
     "name": "stderr",
     "output_type": "stream",
     "text": []
    },
    {
     "name": "stdout",
     "output_type": "stream",
     "text": [
      "DK_2 2021-02-01 00:00:00+01:00 2021-03-01 00:00:00+01:00\n"
     ]
    },
    {
     "name": "stderr",
     "output_type": "stream",
     "text": []
    },
    {
     "name": "stdout",
     "output_type": "stream",
     "text": [
      "DK_2 2021-03-01 00:00:00+01:00 2021-04-01 00:00:00+02:00\n"
     ]
    },
    {
     "name": "stderr",
     "output_type": "stream",
     "text": []
    },
    {
     "name": "stdout",
     "output_type": "stream",
     "text": [
      "DK_2 2021-04-01 00:00:00+02:00 2021-05-01 00:00:00+02:00\n"
     ]
    },
    {
     "name": "stderr",
     "output_type": "stream",
     "text": []
    },
    {
     "name": "stdout",
     "output_type": "stream",
     "text": [
      "DK_2 2021-05-01 00:00:00+02:00 2021-06-01 00:00:00+02:00\n"
     ]
    },
    {
     "name": "stderr",
     "output_type": "stream",
     "text": []
    },
    {
     "name": "stdout",
     "output_type": "stream",
     "text": [
      "DK_2 2021-06-01 00:00:00+02:00 2021-07-01 00:00:00+02:00\n"
     ]
    },
    {
     "name": "stderr",
     "output_type": "stream",
     "text": []
    },
    {
     "name": "stdout",
     "output_type": "stream",
     "text": [
      "DK_2 2021-07-01 00:00:00+02:00 2021-08-01 00:00:00+02:00\n"
     ]
    },
    {
     "name": "stderr",
     "output_type": "stream",
     "text": []
    },
    {
     "name": "stdout",
     "output_type": "stream",
     "text": [
      "DK_2 2021-08-01 00:00:00+02:00 2021-09-01 00:00:00+02:00\n"
     ]
    },
    {
     "name": "stderr",
     "output_type": "stream",
     "text": []
    },
    {
     "name": "stdout",
     "output_type": "stream",
     "text": [
      "DK_2 2021-09-01 00:00:00+02:00 2021-10-01 00:00:00+02:00\n"
     ]
    },
    {
     "name": "stderr",
     "output_type": "stream",
     "text": []
    },
    {
     "name": "stdout",
     "output_type": "stream",
     "text": [
      "DK_2 2021-10-01 00:00:00+02:00 2021-11-01 00:00:00+01:00\n"
     ]
    },
    {
     "name": "stderr",
     "output_type": "stream",
     "text": []
    },
    {
     "name": "stdout",
     "output_type": "stream",
     "text": [
      "DK_2 2021-11-01 00:00:00+01:00 2021-12-01 00:00:00+01:00\n"
     ]
    },
    {
     "name": "stderr",
     "output_type": "stream",
     "text": []
    },
    {
     "name": "stdout",
     "output_type": "stream",
     "text": [
      "DK_2 2021-12-01 00:00:00+01:00 2022-01-01 00:00:00+01:00\n"
     ]
    },
    {
     "name": "stderr",
     "output_type": "stream",
     "text": [
      "Years:  80%|████████  | 8/10 [11:29:10<2:38:09, 4744.74s/it]"
     ]
    },
    {
     "name": "stdout",
     "output_type": "stream",
     "text": [
      "DK_2 2022-01-01 00:00:00+01:00 2022-02-01 00:00:00+01:00\n"
     ]
    },
    {
     "name": "stderr",
     "output_type": "stream",
     "text": []
    },
    {
     "name": "stdout",
     "output_type": "stream",
     "text": [
      "DK_2 2022-02-01 00:00:00+01:00 2022-03-01 00:00:00+01:00\n"
     ]
    },
    {
     "name": "stderr",
     "output_type": "stream",
     "text": []
    },
    {
     "name": "stdout",
     "output_type": "stream",
     "text": [
      "DK_2 2022-03-01 00:00:00+01:00 2022-04-01 00:00:00+02:00\n"
     ]
    },
    {
     "name": "stderr",
     "output_type": "stream",
     "text": []
    },
    {
     "name": "stdout",
     "output_type": "stream",
     "text": [
      "DK_2 2022-04-01 00:00:00+02:00 2022-05-01 00:00:00+02:00\n"
     ]
    },
    {
     "name": "stderr",
     "output_type": "stream",
     "text": []
    },
    {
     "name": "stdout",
     "output_type": "stream",
     "text": [
      "DK_2 2022-05-01 00:00:00+02:00 2022-06-01 00:00:00+02:00\n"
     ]
    },
    {
     "name": "stderr",
     "output_type": "stream",
     "text": []
    },
    {
     "name": "stdout",
     "output_type": "stream",
     "text": [
      "DK_2 2022-06-01 00:00:00+02:00 2022-07-01 00:00:00+02:00\n"
     ]
    },
    {
     "name": "stderr",
     "output_type": "stream",
     "text": []
    },
    {
     "name": "stdout",
     "output_type": "stream",
     "text": [
      "DK_2 2022-07-01 00:00:00+02:00 2022-08-01 00:00:00+02:00\n"
     ]
    },
    {
     "name": "stderr",
     "output_type": "stream",
     "text": []
    },
    {
     "name": "stdout",
     "output_type": "stream",
     "text": [
      "DK_2 2022-08-01 00:00:00+02:00 2022-09-01 00:00:00+02:00\n"
     ]
    },
    {
     "name": "stderr",
     "output_type": "stream",
     "text": []
    },
    {
     "name": "stdout",
     "output_type": "stream",
     "text": [
      "DK_2 2022-09-01 00:00:00+02:00 2022-10-01 00:00:00+02:00\n"
     ]
    },
    {
     "name": "stderr",
     "output_type": "stream",
     "text": []
    },
    {
     "name": "stdout",
     "output_type": "stream",
     "text": [
      "DK_2 2022-10-01 00:00:00+02:00 2022-11-01 00:00:00+01:00\n"
     ]
    },
    {
     "name": "stderr",
     "output_type": "stream",
     "text": []
    },
    {
     "name": "stdout",
     "output_type": "stream",
     "text": [
      "DK_2 2022-11-01 00:00:00+01:00 2022-12-01 00:00:00+01:00\n"
     ]
    },
    {
     "name": "stderr",
     "output_type": "stream",
     "text": []
    },
    {
     "name": "stdout",
     "output_type": "stream",
     "text": [
      "DK_2 2022-12-01 00:00:00+01:00 2023-01-01 00:00:00+01:00\n"
     ]
    },
    {
     "name": "stderr",
     "output_type": "stream",
     "text": [
      "Years:  90%|█████████ | 9/10 [12:41:55<1:17:05, 4625.97s/it]"
     ]
    },
    {
     "name": "stdout",
     "output_type": "stream",
     "text": [
      "DK_2 2023-01-01 00:00:00+01:00 2023-02-01 00:00:00+01:00\n"
     ]
    },
    {
     "name": "stderr",
     "output_type": "stream",
     "text": []
    },
    {
     "name": "stdout",
     "output_type": "stream",
     "text": [
      "DK_2 2023-02-01 00:00:00+01:00 2023-03-01 00:00:00+01:00\n"
     ]
    },
    {
     "name": "stderr",
     "output_type": "stream",
     "text": []
    },
    {
     "name": "stdout",
     "output_type": "stream",
     "text": [
      "DK_2 2023-03-01 00:00:00+01:00 2023-04-01 00:00:00+02:00\n"
     ]
    },
    {
     "name": "stderr",
     "output_type": "stream",
     "text": []
    },
    {
     "name": "stdout",
     "output_type": "stream",
     "text": [
      "DK_2 2023-04-01 00:00:00+02:00 2023-05-01 00:00:00+02:00\n"
     ]
    },
    {
     "name": "stderr",
     "output_type": "stream",
     "text": []
    },
    {
     "name": "stdout",
     "output_type": "stream",
     "text": [
      "DK_2 2023-05-01 00:00:00+02:00 2023-06-01 00:00:00+02:00\n"
     ]
    },
    {
     "name": "stderr",
     "output_type": "stream",
     "text": []
    },
    {
     "name": "stdout",
     "output_type": "stream",
     "text": [
      "DK_2 2023-06-01 00:00:00+02:00 2023-07-01 00:00:00+02:00\n"
     ]
    },
    {
     "name": "stderr",
     "output_type": "stream",
     "text": []
    },
    {
     "name": "stdout",
     "output_type": "stream",
     "text": [
      "DK_2 2023-07-01 00:00:00+02:00 2023-08-01 00:00:00+02:00\n"
     ]
    },
    {
     "name": "stderr",
     "output_type": "stream",
     "text": []
    },
    {
     "name": "stdout",
     "output_type": "stream",
     "text": [
      "DK_2 2023-08-01 00:00:00+02:00 2023-09-01 00:00:00+02:00\n"
     ]
    },
    {
     "name": "stderr",
     "output_type": "stream",
     "text": []
    },
    {
     "name": "stdout",
     "output_type": "stream",
     "text": [
      "DK_2 2023-09-01 00:00:00+02:00 2023-10-01 00:00:00+02:00\n"
     ]
    },
    {
     "name": "stderr",
     "output_type": "stream",
     "text": [
      "Years: 100%|██████████| 10/10 [13:36:47<00:00, 4900.75s/it] \n"
     ]
    }
   ],
   "source": [
    "# Initialize an empty list to store the individual data frames\n",
    "for region in [\"DK_1\", \"DK_2\"]:\n",
    "    stop_loop = False\n",
    "    all_data = []\n",
    "    # Wrap your range with tqdm to create a progress bar\n",
    "    for start_year in tqdm(range(14, 24), desc=\"Years\"):\n",
    "        for start_month in tqdm(range(1, 13), desc=\"Months\", leave=False):  # leave=False will remove inner bar when done\n",
    "            if start_year == 23 and start_month == 10:\n",
    "                stop_loop = True  # Set the flag to True\n",
    "                break  # Break the inner loop\n",
    "\n",
    "\n",
    "            for attempt in range(3):\n",
    "                try:\n",
    "                    if start_month == 12:  # correction if start month is December\n",
    "                        end_month = 1\n",
    "                        end_year = start_year + 1\n",
    "                    else:\n",
    "                        end_month = start_month + 1\n",
    "                        end_year = start_year\n",
    "\n",
    "                    start_month_str = str(start_month).zfill(2)\n",
    "                    end_month_str = str(end_month).zfill(2)\n",
    "\n",
    "                    start_year_str = str(start_year).zfill(2)\n",
    "                    end_year_str = str(end_year).zfill(2)\n",
    "\n",
    "                    start = pd.Timestamp(f'20{start_year_str}{start_month_str}01', tz='Europe/Brussels')\n",
    "                    end = pd.Timestamp(f'20{end_year_str}{end_month_str}01', tz='Europe/Brussels')\n",
    "\n",
    "                    # Query and store the response\n",
    "                    response = client.query_generation_import(region, start=start, end=end)\n",
    "                    \n",
    "                    # Append the response DataFrame to all_data list\n",
    "                    all_data.append(response)\n",
    "                    print(region, start, end)\n",
    "                    # Sleep for 300 seconds (5 minutes) to avoid API rate limits\n",
    "                    time.sleep(350)\n",
    "                    break\n",
    "                except: \n",
    "                    if attempt < 2:\n",
    "                        time.sleep(350)\n",
    "\n",
    "            if stop_loop:  # Check the flag after the inner loop\n",
    "                break  # Break the outer loop if the flag is True\n",
    "            \n",
    "    # Concatenate all the data frames in the list into one long data frame\n",
    "    all_data_dict[f\"generation_import_{region}\"] = pd.concat(all_data)\n",
    "    all_data_dict[f\"generation_import_{region}\"].to_csv(f'{data_path}/ENTSO-E_generation_import_{region}.csv')"
   ]
  },
  {
   "cell_type": "markdown",
   "metadata": {},
   "source": [
    "prices"
   ]
  },
  {
   "cell_type": "code",
   "execution_count": 4,
   "metadata": {},
   "outputs": [
    {
     "name": "stderr",
     "output_type": "stream",
     "text": [
      "Years:   0%|          | 0/10 [00:00<?, ?it/s]"
     ]
    },
    {
     "name": "stderr",
     "output_type": "stream",
     "text": []
    },
    {
     "name": "stdout",
     "output_type": "stream",
     "text": [
      "DK_1 2014-12-01 00:00:00+01:00 2015-01-01 00:00:00+01:00\n"
     ]
    },
    {
     "name": "stderr",
     "output_type": "stream",
     "text": [
      "Years:  10%|█         | 1/10 [2:06:47<19:01:04, 7607.21s/it]"
     ]
    },
    {
     "name": "stdout",
     "output_type": "stream",
     "text": [
      "DK_1 2015-01-01 00:00:00+01:00 2015-02-01 00:00:00+01:00\n"
     ]
    },
    {
     "name": "stderr",
     "output_type": "stream",
     "text": []
    },
    {
     "name": "stdout",
     "output_type": "stream",
     "text": [
      "DK_1 2015-02-01 00:00:00+01:00 2015-03-01 00:00:00+01:00\n"
     ]
    },
    {
     "name": "stderr",
     "output_type": "stream",
     "text": []
    },
    {
     "name": "stdout",
     "output_type": "stream",
     "text": [
      "DK_1 2015-03-01 00:00:00+01:00 2015-04-01 00:00:00+02:00\n"
     ]
    },
    {
     "name": "stderr",
     "output_type": "stream",
     "text": []
    },
    {
     "name": "stdout",
     "output_type": "stream",
     "text": [
      "DK_1 2015-04-01 00:00:00+02:00 2015-05-01 00:00:00+02:00\n"
     ]
    },
    {
     "name": "stderr",
     "output_type": "stream",
     "text": []
    },
    {
     "name": "stdout",
     "output_type": "stream",
     "text": [
      "DK_1 2015-05-01 00:00:00+02:00 2015-06-01 00:00:00+02:00\n"
     ]
    },
    {
     "name": "stderr",
     "output_type": "stream",
     "text": []
    },
    {
     "name": "stdout",
     "output_type": "stream",
     "text": [
      "DK_1 2015-06-01 00:00:00+02:00 2015-07-01 00:00:00+02:00\n"
     ]
    },
    {
     "name": "stderr",
     "output_type": "stream",
     "text": []
    },
    {
     "name": "stdout",
     "output_type": "stream",
     "text": [
      "DK_1 2015-07-01 00:00:00+02:00 2015-08-01 00:00:00+02:00\n"
     ]
    },
    {
     "name": "stderr",
     "output_type": "stream",
     "text": []
    },
    {
     "name": "stdout",
     "output_type": "stream",
     "text": [
      "DK_1 2015-08-01 00:00:00+02:00 2015-09-01 00:00:00+02:00\n"
     ]
    },
    {
     "name": "stderr",
     "output_type": "stream",
     "text": []
    },
    {
     "name": "stdout",
     "output_type": "stream",
     "text": [
      "DK_1 2015-09-01 00:00:00+02:00 2015-10-01 00:00:00+02:00\n"
     ]
    },
    {
     "name": "stderr",
     "output_type": "stream",
     "text": []
    },
    {
     "name": "stdout",
     "output_type": "stream",
     "text": [
      "DK_1 2015-10-01 00:00:00+02:00 2015-11-01 00:00:00+01:00\n"
     ]
    },
    {
     "name": "stderr",
     "output_type": "stream",
     "text": []
    },
    {
     "name": "stdout",
     "output_type": "stream",
     "text": [
      "DK_1 2015-11-01 00:00:00+01:00 2015-12-01 00:00:00+01:00\n"
     ]
    },
    {
     "name": "stderr",
     "output_type": "stream",
     "text": []
    },
    {
     "name": "stdout",
     "output_type": "stream",
     "text": [
      "DK_1 2015-12-01 00:00:00+01:00 2016-01-01 00:00:00+01:00\n"
     ]
    },
    {
     "name": "stderr",
     "output_type": "stream",
     "text": [
      "Years:  20%|██        | 2/10 [3:13:09<12:09:57, 5474.71s/it]"
     ]
    },
    {
     "name": "stdout",
     "output_type": "stream",
     "text": [
      "DK_1 2016-01-01 00:00:00+01:00 2016-02-01 00:00:00+01:00\n"
     ]
    },
    {
     "name": "stderr",
     "output_type": "stream",
     "text": []
    },
    {
     "name": "stdout",
     "output_type": "stream",
     "text": [
      "DK_1 2016-02-01 00:00:00+01:00 2016-03-01 00:00:00+01:00\n"
     ]
    },
    {
     "name": "stderr",
     "output_type": "stream",
     "text": []
    },
    {
     "name": "stdout",
     "output_type": "stream",
     "text": [
      "DK_1 2016-03-01 00:00:00+01:00 2016-04-01 00:00:00+02:00\n"
     ]
    },
    {
     "name": "stderr",
     "output_type": "stream",
     "text": []
    },
    {
     "name": "stdout",
     "output_type": "stream",
     "text": [
      "DK_1 2016-04-01 00:00:00+02:00 2016-05-01 00:00:00+02:00\n"
     ]
    },
    {
     "name": "stderr",
     "output_type": "stream",
     "text": []
    },
    {
     "name": "stdout",
     "output_type": "stream",
     "text": [
      "DK_1 2016-05-01 00:00:00+02:00 2016-06-01 00:00:00+02:00\n"
     ]
    },
    {
     "name": "stderr",
     "output_type": "stream",
     "text": []
    },
    {
     "name": "stdout",
     "output_type": "stream",
     "text": [
      "DK_1 2016-06-01 00:00:00+02:00 2016-07-01 00:00:00+02:00\n"
     ]
    },
    {
     "name": "stderr",
     "output_type": "stream",
     "text": []
    },
    {
     "name": "stdout",
     "output_type": "stream",
     "text": [
      "DK_1 2016-07-01 00:00:00+02:00 2016-08-01 00:00:00+02:00\n"
     ]
    },
    {
     "name": "stderr",
     "output_type": "stream",
     "text": []
    },
    {
     "name": "stdout",
     "output_type": "stream",
     "text": [
      "DK_1 2016-08-01 00:00:00+02:00 2016-09-01 00:00:00+02:00\n"
     ]
    },
    {
     "name": "stderr",
     "output_type": "stream",
     "text": []
    },
    {
     "name": "stdout",
     "output_type": "stream",
     "text": [
      "DK_1 2016-09-01 00:00:00+02:00 2016-10-01 00:00:00+02:00\n"
     ]
    },
    {
     "name": "stderr",
     "output_type": "stream",
     "text": []
    },
    {
     "name": "stdout",
     "output_type": "stream",
     "text": [
      "DK_1 2016-10-01 00:00:00+02:00 2016-11-01 00:00:00+01:00\n"
     ]
    },
    {
     "name": "stderr",
     "output_type": "stream",
     "text": []
    },
    {
     "name": "stdout",
     "output_type": "stream",
     "text": [
      "DK_1 2016-11-01 00:00:00+01:00 2016-12-01 00:00:00+01:00\n"
     ]
    },
    {
     "name": "stderr",
     "output_type": "stream",
     "text": []
    },
    {
     "name": "stdout",
     "output_type": "stream",
     "text": [
      "DK_1 2016-12-01 00:00:00+01:00 2017-01-01 00:00:00+01:00\n"
     ]
    },
    {
     "name": "stderr",
     "output_type": "stream",
     "text": [
      "Years:  30%|███       | 3/10 [4:19:28<9:19:02, 4791.82s/it] "
     ]
    },
    {
     "name": "stdout",
     "output_type": "stream",
     "text": [
      "DK_1 2017-01-01 00:00:00+01:00 2017-02-01 00:00:00+01:00\n"
     ]
    },
    {
     "name": "stderr",
     "output_type": "stream",
     "text": []
    },
    {
     "name": "stdout",
     "output_type": "stream",
     "text": [
      "DK_1 2017-02-01 00:00:00+01:00 2017-03-01 00:00:00+01:00\n"
     ]
    },
    {
     "name": "stderr",
     "output_type": "stream",
     "text": []
    },
    {
     "name": "stdout",
     "output_type": "stream",
     "text": [
      "DK_1 2017-03-01 00:00:00+01:00 2017-04-01 00:00:00+02:00\n"
     ]
    },
    {
     "name": "stderr",
     "output_type": "stream",
     "text": []
    },
    {
     "name": "stdout",
     "output_type": "stream",
     "text": [
      "DK_1 2017-04-01 00:00:00+02:00 2017-05-01 00:00:00+02:00\n"
     ]
    },
    {
     "name": "stderr",
     "output_type": "stream",
     "text": []
    },
    {
     "name": "stdout",
     "output_type": "stream",
     "text": [
      "DK_1 2017-05-01 00:00:00+02:00 2017-06-01 00:00:00+02:00\n"
     ]
    },
    {
     "name": "stderr",
     "output_type": "stream",
     "text": []
    },
    {
     "name": "stdout",
     "output_type": "stream",
     "text": [
      "DK_1 2017-06-01 00:00:00+02:00 2017-07-01 00:00:00+02:00\n"
     ]
    },
    {
     "name": "stderr",
     "output_type": "stream",
     "text": []
    },
    {
     "name": "stdout",
     "output_type": "stream",
     "text": [
      "DK_1 2017-07-01 00:00:00+02:00 2017-08-01 00:00:00+02:00\n"
     ]
    },
    {
     "name": "stderr",
     "output_type": "stream",
     "text": []
    },
    {
     "name": "stdout",
     "output_type": "stream",
     "text": [
      "DK_1 2017-08-01 00:00:00+02:00 2017-09-01 00:00:00+02:00\n"
     ]
    },
    {
     "name": "stderr",
     "output_type": "stream",
     "text": []
    },
    {
     "name": "stdout",
     "output_type": "stream",
     "text": [
      "DK_1 2017-09-01 00:00:00+02:00 2017-10-01 00:00:00+02:00\n"
     ]
    },
    {
     "name": "stderr",
     "output_type": "stream",
     "text": []
    },
    {
     "name": "stdout",
     "output_type": "stream",
     "text": [
      "DK_1 2017-10-01 00:00:00+02:00 2017-11-01 00:00:00+01:00\n"
     ]
    },
    {
     "name": "stderr",
     "output_type": "stream",
     "text": []
    },
    {
     "name": "stdout",
     "output_type": "stream",
     "text": [
      "DK_1 2017-11-01 00:00:00+01:00 2017-12-01 00:00:00+01:00\n"
     ]
    },
    {
     "name": "stderr",
     "output_type": "stream",
     "text": []
    },
    {
     "name": "stdout",
     "output_type": "stream",
     "text": [
      "DK_1 2017-12-01 00:00:00+01:00 2018-01-01 00:00:00+01:00\n"
     ]
    },
    {
     "name": "stderr",
     "output_type": "stream",
     "text": [
      "Years:  40%|████      | 4/10 [5:25:48<7:27:07, 4471.25s/it]"
     ]
    },
    {
     "name": "stdout",
     "output_type": "stream",
     "text": [
      "DK_1 2018-01-01 00:00:00+01:00 2018-02-01 00:00:00+01:00\n"
     ]
    },
    {
     "name": "stderr",
     "output_type": "stream",
     "text": []
    },
    {
     "name": "stdout",
     "output_type": "stream",
     "text": [
      "DK_1 2018-02-01 00:00:00+01:00 2018-03-01 00:00:00+01:00\n"
     ]
    },
    {
     "name": "stderr",
     "output_type": "stream",
     "text": []
    },
    {
     "name": "stdout",
     "output_type": "stream",
     "text": [
      "DK_1 2018-03-01 00:00:00+01:00 2018-04-01 00:00:00+02:00\n"
     ]
    },
    {
     "name": "stderr",
     "output_type": "stream",
     "text": []
    },
    {
     "name": "stdout",
     "output_type": "stream",
     "text": [
      "DK_1 2018-04-01 00:00:00+02:00 2018-05-01 00:00:00+02:00\n"
     ]
    },
    {
     "name": "stderr",
     "output_type": "stream",
     "text": []
    },
    {
     "name": "stdout",
     "output_type": "stream",
     "text": [
      "DK_1 2018-05-01 00:00:00+02:00 2018-06-01 00:00:00+02:00\n"
     ]
    },
    {
     "name": "stderr",
     "output_type": "stream",
     "text": []
    },
    {
     "name": "stdout",
     "output_type": "stream",
     "text": [
      "DK_1 2018-06-01 00:00:00+02:00 2018-07-01 00:00:00+02:00\n"
     ]
    },
    {
     "name": "stderr",
     "output_type": "stream",
     "text": []
    },
    {
     "name": "stdout",
     "output_type": "stream",
     "text": [
      "DK_1 2018-07-01 00:00:00+02:00 2018-08-01 00:00:00+02:00\n"
     ]
    },
    {
     "name": "stderr",
     "output_type": "stream",
     "text": []
    },
    {
     "name": "stdout",
     "output_type": "stream",
     "text": [
      "DK_1 2018-08-01 00:00:00+02:00 2018-09-01 00:00:00+02:00\n"
     ]
    },
    {
     "name": "stderr",
     "output_type": "stream",
     "text": []
    },
    {
     "name": "stdout",
     "output_type": "stream",
     "text": [
      "DK_1 2018-09-01 00:00:00+02:00 2018-10-01 00:00:00+02:00\n"
     ]
    },
    {
     "name": "stderr",
     "output_type": "stream",
     "text": []
    },
    {
     "name": "stdout",
     "output_type": "stream",
     "text": [
      "DK_1 2018-10-01 00:00:00+02:00 2018-11-01 00:00:00+01:00\n"
     ]
    },
    {
     "name": "stderr",
     "output_type": "stream",
     "text": []
    },
    {
     "name": "stdout",
     "output_type": "stream",
     "text": [
      "DK_1 2018-11-01 00:00:00+01:00 2018-12-01 00:00:00+01:00\n"
     ]
    },
    {
     "name": "stderr",
     "output_type": "stream",
     "text": []
    },
    {
     "name": "stdout",
     "output_type": "stream",
     "text": [
      "DK_1 2018-12-01 00:00:00+01:00 2019-01-01 00:00:00+01:00\n"
     ]
    },
    {
     "name": "stderr",
     "output_type": "stream",
     "text": [
      "Years:  50%|█████     | 5/10 [6:32:12<5:57:57, 4295.51s/it]"
     ]
    },
    {
     "name": "stdout",
     "output_type": "stream",
     "text": [
      "DK_1 2019-01-01 00:00:00+01:00 2019-02-01 00:00:00+01:00\n"
     ]
    },
    {
     "name": "stderr",
     "output_type": "stream",
     "text": []
    },
    {
     "name": "stdout",
     "output_type": "stream",
     "text": [
      "DK_1 2019-02-01 00:00:00+01:00 2019-03-01 00:00:00+01:00\n"
     ]
    },
    {
     "name": "stderr",
     "output_type": "stream",
     "text": []
    },
    {
     "name": "stdout",
     "output_type": "stream",
     "text": [
      "DK_1 2019-03-01 00:00:00+01:00 2019-04-01 00:00:00+02:00\n"
     ]
    },
    {
     "name": "stderr",
     "output_type": "stream",
     "text": []
    },
    {
     "name": "stdout",
     "output_type": "stream",
     "text": [
      "DK_1 2019-04-01 00:00:00+02:00 2019-05-01 00:00:00+02:00\n"
     ]
    },
    {
     "name": "stderr",
     "output_type": "stream",
     "text": []
    },
    {
     "name": "stdout",
     "output_type": "stream",
     "text": [
      "DK_1 2019-05-01 00:00:00+02:00 2019-06-01 00:00:00+02:00\n"
     ]
    },
    {
     "name": "stderr",
     "output_type": "stream",
     "text": []
    },
    {
     "name": "stdout",
     "output_type": "stream",
     "text": [
      "DK_1 2019-06-01 00:00:00+02:00 2019-07-01 00:00:00+02:00\n"
     ]
    },
    {
     "name": "stderr",
     "output_type": "stream",
     "text": []
    },
    {
     "name": "stdout",
     "output_type": "stream",
     "text": [
      "DK_1 2019-07-01 00:00:00+02:00 2019-08-01 00:00:00+02:00\n"
     ]
    },
    {
     "name": "stderr",
     "output_type": "stream",
     "text": []
    },
    {
     "name": "stdout",
     "output_type": "stream",
     "text": [
      "DK_1 2019-08-01 00:00:00+02:00 2019-09-01 00:00:00+02:00\n"
     ]
    },
    {
     "name": "stderr",
     "output_type": "stream",
     "text": []
    },
    {
     "name": "stdout",
     "output_type": "stream",
     "text": [
      "DK_1 2019-09-01 00:00:00+02:00 2019-10-01 00:00:00+02:00\n"
     ]
    },
    {
     "name": "stderr",
     "output_type": "stream",
     "text": []
    },
    {
     "name": "stdout",
     "output_type": "stream",
     "text": [
      "DK_1 2019-10-01 00:00:00+02:00 2019-11-01 00:00:00+01:00\n"
     ]
    },
    {
     "name": "stderr",
     "output_type": "stream",
     "text": []
    },
    {
     "name": "stdout",
     "output_type": "stream",
     "text": [
      "DK_1 2019-11-01 00:00:00+01:00 2019-12-01 00:00:00+01:00\n"
     ]
    },
    {
     "name": "stderr",
     "output_type": "stream",
     "text": []
    },
    {
     "name": "stdout",
     "output_type": "stream",
     "text": [
      "DK_1 2019-12-01 00:00:00+01:00 2020-01-01 00:00:00+01:00\n"
     ]
    },
    {
     "name": "stderr",
     "output_type": "stream",
     "text": [
      "Years:  60%|██████    | 6/10 [7:38:49<4:39:36, 4194.14s/it]"
     ]
    },
    {
     "name": "stdout",
     "output_type": "stream",
     "text": [
      "DK_1 2020-01-01 00:00:00+01:00 2020-02-01 00:00:00+01:00\n"
     ]
    },
    {
     "name": "stderr",
     "output_type": "stream",
     "text": []
    },
    {
     "name": "stdout",
     "output_type": "stream",
     "text": [
      "DK_1 2020-02-01 00:00:00+01:00 2020-03-01 00:00:00+01:00\n"
     ]
    },
    {
     "name": "stderr",
     "output_type": "stream",
     "text": []
    },
    {
     "name": "stdout",
     "output_type": "stream",
     "text": [
      "DK_1 2020-03-01 00:00:00+01:00 2020-04-01 00:00:00+02:00\n"
     ]
    },
    {
     "name": "stderr",
     "output_type": "stream",
     "text": []
    },
    {
     "name": "stdout",
     "output_type": "stream",
     "text": [
      "DK_1 2020-04-01 00:00:00+02:00 2020-05-01 00:00:00+02:00\n"
     ]
    },
    {
     "name": "stderr",
     "output_type": "stream",
     "text": []
    },
    {
     "name": "stdout",
     "output_type": "stream",
     "text": [
      "DK_1 2020-05-01 00:00:00+02:00 2020-06-01 00:00:00+02:00\n"
     ]
    },
    {
     "name": "stderr",
     "output_type": "stream",
     "text": []
    },
    {
     "name": "stdout",
     "output_type": "stream",
     "text": [
      "DK_1 2020-06-01 00:00:00+02:00 2020-07-01 00:00:00+02:00\n"
     ]
    },
    {
     "name": "stderr",
     "output_type": "stream",
     "text": []
    },
    {
     "name": "stdout",
     "output_type": "stream",
     "text": [
      "DK_1 2020-07-01 00:00:00+02:00 2020-08-01 00:00:00+02:00\n"
     ]
    },
    {
     "name": "stderr",
     "output_type": "stream",
     "text": []
    },
    {
     "name": "stdout",
     "output_type": "stream",
     "text": [
      "DK_1 2020-08-01 00:00:00+02:00 2020-09-01 00:00:00+02:00\n"
     ]
    },
    {
     "name": "stderr",
     "output_type": "stream",
     "text": []
    },
    {
     "name": "stdout",
     "output_type": "stream",
     "text": [
      "DK_1 2020-09-01 00:00:00+02:00 2020-10-01 00:00:00+02:00\n"
     ]
    },
    {
     "name": "stderr",
     "output_type": "stream",
     "text": []
    },
    {
     "name": "stdout",
     "output_type": "stream",
     "text": [
      "DK_1 2020-10-01 00:00:00+02:00 2020-11-01 00:00:00+01:00\n"
     ]
    },
    {
     "name": "stderr",
     "output_type": "stream",
     "text": []
    },
    {
     "name": "stdout",
     "output_type": "stream",
     "text": [
      "DK_1 2020-11-01 00:00:00+01:00 2020-12-01 00:00:00+01:00\n"
     ]
    },
    {
     "name": "stderr",
     "output_type": "stream",
     "text": []
    },
    {
     "name": "stdout",
     "output_type": "stream",
     "text": [
      "DK_1 2020-12-01 00:00:00+01:00 2021-01-01 00:00:00+01:00\n"
     ]
    },
    {
     "name": "stderr",
     "output_type": "stream",
     "text": [
      "Years:  70%|███████   | 7/10 [8:45:10<3:26:13, 4124.56s/it]"
     ]
    },
    {
     "name": "stdout",
     "output_type": "stream",
     "text": [
      "DK_1 2021-01-01 00:00:00+01:00 2021-02-01 00:00:00+01:00\n"
     ]
    },
    {
     "name": "stderr",
     "output_type": "stream",
     "text": []
    },
    {
     "name": "stdout",
     "output_type": "stream",
     "text": [
      "DK_1 2021-02-01 00:00:00+01:00 2021-03-01 00:00:00+01:00\n"
     ]
    },
    {
     "name": "stderr",
     "output_type": "stream",
     "text": []
    },
    {
     "name": "stdout",
     "output_type": "stream",
     "text": [
      "DK_1 2021-03-01 00:00:00+01:00 2021-04-01 00:00:00+02:00\n"
     ]
    },
    {
     "name": "stderr",
     "output_type": "stream",
     "text": []
    },
    {
     "name": "stdout",
     "output_type": "stream",
     "text": [
      "DK_1 2021-04-01 00:00:00+02:00 2021-05-01 00:00:00+02:00\n"
     ]
    },
    {
     "name": "stderr",
     "output_type": "stream",
     "text": []
    },
    {
     "name": "stdout",
     "output_type": "stream",
     "text": [
      "DK_1 2021-05-01 00:00:00+02:00 2021-06-01 00:00:00+02:00\n"
     ]
    },
    {
     "name": "stderr",
     "output_type": "stream",
     "text": []
    },
    {
     "name": "stdout",
     "output_type": "stream",
     "text": [
      "DK_1 2021-06-01 00:00:00+02:00 2021-07-01 00:00:00+02:00\n"
     ]
    },
    {
     "name": "stderr",
     "output_type": "stream",
     "text": []
    },
    {
     "name": "stdout",
     "output_type": "stream",
     "text": [
      "DK_1 2021-07-01 00:00:00+02:00 2021-08-01 00:00:00+02:00\n"
     ]
    },
    {
     "name": "stderr",
     "output_type": "stream",
     "text": []
    },
    {
     "name": "stdout",
     "output_type": "stream",
     "text": [
      "DK_1 2021-08-01 00:00:00+02:00 2021-09-01 00:00:00+02:00\n"
     ]
    },
    {
     "name": "stderr",
     "output_type": "stream",
     "text": []
    },
    {
     "name": "stdout",
     "output_type": "stream",
     "text": [
      "DK_1 2021-09-01 00:00:00+02:00 2021-10-01 00:00:00+02:00\n"
     ]
    },
    {
     "name": "stderr",
     "output_type": "stream",
     "text": []
    },
    {
     "name": "stdout",
     "output_type": "stream",
     "text": [
      "DK_1 2021-10-01 00:00:00+02:00 2021-11-01 00:00:00+01:00\n"
     ]
    },
    {
     "name": "stderr",
     "output_type": "stream",
     "text": []
    },
    {
     "name": "stdout",
     "output_type": "stream",
     "text": [
      "DK_1 2021-11-01 00:00:00+01:00 2021-12-01 00:00:00+01:00\n"
     ]
    },
    {
     "name": "stderr",
     "output_type": "stream",
     "text": []
    },
    {
     "name": "stdout",
     "output_type": "stream",
     "text": [
      "DK_1 2021-12-01 00:00:00+01:00 2022-01-01 00:00:00+01:00\n"
     ]
    },
    {
     "name": "stderr",
     "output_type": "stream",
     "text": [
      "Years:  80%|████████  | 8/10 [9:51:43<2:16:05, 4082.75s/it]"
     ]
    },
    {
     "name": "stdout",
     "output_type": "stream",
     "text": [
      "DK_1 2022-01-01 00:00:00+01:00 2022-02-01 00:00:00+01:00\n"
     ]
    },
    {
     "name": "stderr",
     "output_type": "stream",
     "text": []
    },
    {
     "name": "stdout",
     "output_type": "stream",
     "text": [
      "DK_1 2022-02-01 00:00:00+01:00 2022-03-01 00:00:00+01:00\n"
     ]
    },
    {
     "name": "stderr",
     "output_type": "stream",
     "text": []
    },
    {
     "name": "stdout",
     "output_type": "stream",
     "text": [
      "DK_1 2022-03-01 00:00:00+01:00 2022-04-01 00:00:00+02:00\n"
     ]
    },
    {
     "name": "stderr",
     "output_type": "stream",
     "text": []
    },
    {
     "name": "stdout",
     "output_type": "stream",
     "text": [
      "DK_1 2022-04-01 00:00:00+02:00 2022-05-01 00:00:00+02:00\n"
     ]
    },
    {
     "name": "stderr",
     "output_type": "stream",
     "text": []
    },
    {
     "name": "stdout",
     "output_type": "stream",
     "text": [
      "DK_1 2022-05-01 00:00:00+02:00 2022-06-01 00:00:00+02:00\n"
     ]
    },
    {
     "name": "stderr",
     "output_type": "stream",
     "text": []
    },
    {
     "name": "stdout",
     "output_type": "stream",
     "text": [
      "DK_1 2022-06-01 00:00:00+02:00 2022-07-01 00:00:00+02:00\n"
     ]
    },
    {
     "name": "stderr",
     "output_type": "stream",
     "text": []
    },
    {
     "name": "stdout",
     "output_type": "stream",
     "text": [
      "DK_1 2022-07-01 00:00:00+02:00 2022-08-01 00:00:00+02:00\n"
     ]
    },
    {
     "name": "stderr",
     "output_type": "stream",
     "text": []
    },
    {
     "name": "stdout",
     "output_type": "stream",
     "text": [
      "DK_1 2022-08-01 00:00:00+02:00 2022-09-01 00:00:00+02:00\n"
     ]
    },
    {
     "name": "stderr",
     "output_type": "stream",
     "text": []
    },
    {
     "name": "stdout",
     "output_type": "stream",
     "text": [
      "DK_1 2022-09-01 00:00:00+02:00 2022-10-01 00:00:00+02:00\n"
     ]
    },
    {
     "name": "stderr",
     "output_type": "stream",
     "text": []
    },
    {
     "name": "stdout",
     "output_type": "stream",
     "text": [
      "DK_1 2022-10-01 00:00:00+02:00 2022-11-01 00:00:00+01:00\n"
     ]
    },
    {
     "name": "stderr",
     "output_type": "stream",
     "text": []
    },
    {
     "name": "stdout",
     "output_type": "stream",
     "text": [
      "DK_1 2022-11-01 00:00:00+01:00 2022-12-01 00:00:00+01:00\n"
     ]
    },
    {
     "name": "stderr",
     "output_type": "stream",
     "text": []
    },
    {
     "name": "stdout",
     "output_type": "stream",
     "text": [
      "DK_1 2022-12-01 00:00:00+01:00 2023-01-01 00:00:00+01:00\n"
     ]
    },
    {
     "name": "stderr",
     "output_type": "stream",
     "text": [
      "Years:  90%|█████████ | 9/10 [10:58:14<1:07:33, 4053.86s/it]"
     ]
    },
    {
     "name": "stdout",
     "output_type": "stream",
     "text": [
      "DK_1 2023-01-01 00:00:00+01:00 2023-02-01 00:00:00+01:00\n"
     ]
    },
    {
     "name": "stderr",
     "output_type": "stream",
     "text": []
    },
    {
     "name": "stdout",
     "output_type": "stream",
     "text": [
      "DK_1 2023-02-01 00:00:00+01:00 2023-03-01 00:00:00+01:00\n"
     ]
    },
    {
     "name": "stderr",
     "output_type": "stream",
     "text": []
    },
    {
     "name": "stdout",
     "output_type": "stream",
     "text": [
      "DK_1 2023-03-01 00:00:00+01:00 2023-04-01 00:00:00+02:00\n"
     ]
    },
    {
     "name": "stderr",
     "output_type": "stream",
     "text": []
    },
    {
     "name": "stdout",
     "output_type": "stream",
     "text": [
      "DK_1 2023-04-01 00:00:00+02:00 2023-05-01 00:00:00+02:00\n"
     ]
    },
    {
     "name": "stderr",
     "output_type": "stream",
     "text": []
    },
    {
     "name": "stdout",
     "output_type": "stream",
     "text": [
      "DK_1 2023-05-01 00:00:00+02:00 2023-06-01 00:00:00+02:00\n"
     ]
    },
    {
     "name": "stderr",
     "output_type": "stream",
     "text": []
    },
    {
     "name": "stdout",
     "output_type": "stream",
     "text": [
      "DK_1 2023-06-01 00:00:00+02:00 2023-07-01 00:00:00+02:00\n"
     ]
    },
    {
     "name": "stderr",
     "output_type": "stream",
     "text": []
    },
    {
     "name": "stdout",
     "output_type": "stream",
     "text": [
      "DK_1 2023-07-01 00:00:00+02:00 2023-08-01 00:00:00+02:00\n"
     ]
    },
    {
     "name": "stderr",
     "output_type": "stream",
     "text": []
    },
    {
     "name": "stdout",
     "output_type": "stream",
     "text": [
      "DK_1 2023-08-01 00:00:00+02:00 2023-09-01 00:00:00+02:00\n"
     ]
    },
    {
     "name": "stderr",
     "output_type": "stream",
     "text": []
    },
    {
     "name": "stdout",
     "output_type": "stream",
     "text": [
      "DK_1 2023-09-01 00:00:00+02:00 2023-10-01 00:00:00+02:00\n"
     ]
    },
    {
     "name": "stderr",
     "output_type": "stream",
     "text": [
      "Years: 100%|██████████| 10/10 [11:48:01<00:00, 4248.12s/it] \n",
      "Years:   0%|          | 0/10 [00:00<?, ?it/s]"
     ]
    },
    {
     "name": "stdout",
     "output_type": "stream",
     "text": [
      "DK_2 2014-12-01 00:00:00+01:00 2015-01-01 00:00:00+01:00\n"
     ]
    },
    {
     "name": "stderr",
     "output_type": "stream",
     "text": [
      "Years:  10%|█         | 1/10 [2:07:08<19:04:13, 7628.14s/it]"
     ]
    },
    {
     "name": "stdout",
     "output_type": "stream",
     "text": [
      "DK_2 2015-01-01 00:00:00+01:00 2015-02-01 00:00:00+01:00\n"
     ]
    },
    {
     "name": "stderr",
     "output_type": "stream",
     "text": []
    },
    {
     "name": "stdout",
     "output_type": "stream",
     "text": [
      "DK_2 2015-02-01 00:00:00+01:00 2015-03-01 00:00:00+01:00\n"
     ]
    },
    {
     "name": "stderr",
     "output_type": "stream",
     "text": []
    },
    {
     "name": "stdout",
     "output_type": "stream",
     "text": [
      "DK_2 2015-03-01 00:00:00+01:00 2015-04-01 00:00:00+02:00\n"
     ]
    },
    {
     "name": "stderr",
     "output_type": "stream",
     "text": []
    },
    {
     "name": "stdout",
     "output_type": "stream",
     "text": [
      "DK_2 2015-04-01 00:00:00+02:00 2015-05-01 00:00:00+02:00\n"
     ]
    },
    {
     "name": "stderr",
     "output_type": "stream",
     "text": []
    },
    {
     "name": "stdout",
     "output_type": "stream",
     "text": [
      "DK_2 2015-05-01 00:00:00+02:00 2015-06-01 00:00:00+02:00\n"
     ]
    },
    {
     "name": "stderr",
     "output_type": "stream",
     "text": []
    },
    {
     "name": "stdout",
     "output_type": "stream",
     "text": [
      "DK_2 2015-06-01 00:00:00+02:00 2015-07-01 00:00:00+02:00\n"
     ]
    },
    {
     "name": "stderr",
     "output_type": "stream",
     "text": []
    },
    {
     "name": "stdout",
     "output_type": "stream",
     "text": [
      "DK_2 2015-07-01 00:00:00+02:00 2015-08-01 00:00:00+02:00\n"
     ]
    },
    {
     "name": "stderr",
     "output_type": "stream",
     "text": []
    },
    {
     "name": "stdout",
     "output_type": "stream",
     "text": [
      "DK_2 2015-08-01 00:00:00+02:00 2015-09-01 00:00:00+02:00\n"
     ]
    },
    {
     "name": "stderr",
     "output_type": "stream",
     "text": []
    },
    {
     "name": "stdout",
     "output_type": "stream",
     "text": [
      "DK_2 2015-09-01 00:00:00+02:00 2015-10-01 00:00:00+02:00\n"
     ]
    },
    {
     "name": "stderr",
     "output_type": "stream",
     "text": []
    },
    {
     "name": "stdout",
     "output_type": "stream",
     "text": [
      "DK_2 2015-10-01 00:00:00+02:00 2015-11-01 00:00:00+01:00\n"
     ]
    },
    {
     "name": "stderr",
     "output_type": "stream",
     "text": []
    },
    {
     "name": "stdout",
     "output_type": "stream",
     "text": [
      "DK_2 2015-11-01 00:00:00+01:00 2015-12-01 00:00:00+01:00\n"
     ]
    },
    {
     "name": "stderr",
     "output_type": "stream",
     "text": []
    },
    {
     "name": "stdout",
     "output_type": "stream",
     "text": [
      "DK_2 2015-12-01 00:00:00+01:00 2016-01-01 00:00:00+01:00\n"
     ]
    },
    {
     "name": "stderr",
     "output_type": "stream",
     "text": [
      "Years:  20%|██        | 2/10 [3:13:37<12:11:41, 5487.65s/it]"
     ]
    },
    {
     "name": "stdout",
     "output_type": "stream",
     "text": [
      "DK_2 2016-01-01 00:00:00+01:00 2016-02-01 00:00:00+01:00\n"
     ]
    },
    {
     "name": "stderr",
     "output_type": "stream",
     "text": []
    },
    {
     "name": "stdout",
     "output_type": "stream",
     "text": [
      "DK_2 2016-02-01 00:00:00+01:00 2016-03-01 00:00:00+01:00\n"
     ]
    },
    {
     "name": "stderr",
     "output_type": "stream",
     "text": []
    },
    {
     "name": "stdout",
     "output_type": "stream",
     "text": [
      "DK_2 2016-03-01 00:00:00+01:00 2016-04-01 00:00:00+02:00\n"
     ]
    },
    {
     "name": "stderr",
     "output_type": "stream",
     "text": []
    },
    {
     "name": "stdout",
     "output_type": "stream",
     "text": [
      "DK_2 2016-04-01 00:00:00+02:00 2016-05-01 00:00:00+02:00\n"
     ]
    },
    {
     "name": "stderr",
     "output_type": "stream",
     "text": []
    },
    {
     "name": "stdout",
     "output_type": "stream",
     "text": [
      "DK_2 2016-05-01 00:00:00+02:00 2016-06-01 00:00:00+02:00\n"
     ]
    },
    {
     "name": "stderr",
     "output_type": "stream",
     "text": []
    },
    {
     "name": "stdout",
     "output_type": "stream",
     "text": [
      "DK_2 2016-06-01 00:00:00+02:00 2016-07-01 00:00:00+02:00\n"
     ]
    },
    {
     "name": "stderr",
     "output_type": "stream",
     "text": []
    },
    {
     "name": "stdout",
     "output_type": "stream",
     "text": [
      "DK_2 2016-07-01 00:00:00+02:00 2016-08-01 00:00:00+02:00\n"
     ]
    },
    {
     "name": "stderr",
     "output_type": "stream",
     "text": []
    },
    {
     "name": "stdout",
     "output_type": "stream",
     "text": [
      "DK_2 2016-08-01 00:00:00+02:00 2016-09-01 00:00:00+02:00\n"
     ]
    },
    {
     "name": "stderr",
     "output_type": "stream",
     "text": []
    },
    {
     "name": "stdout",
     "output_type": "stream",
     "text": [
      "DK_2 2016-09-01 00:00:00+02:00 2016-10-01 00:00:00+02:00\n"
     ]
    },
    {
     "name": "stderr",
     "output_type": "stream",
     "text": []
    },
    {
     "name": "stdout",
     "output_type": "stream",
     "text": [
      "DK_2 2016-10-01 00:00:00+02:00 2016-11-01 00:00:00+01:00\n"
     ]
    },
    {
     "name": "stderr",
     "output_type": "stream",
     "text": []
    },
    {
     "name": "stdout",
     "output_type": "stream",
     "text": [
      "DK_2 2016-11-01 00:00:00+01:00 2016-12-01 00:00:00+01:00\n"
     ]
    },
    {
     "name": "stderr",
     "output_type": "stream",
     "text": []
    },
    {
     "name": "stdout",
     "output_type": "stream",
     "text": [
      "DK_2 2016-12-01 00:00:00+01:00 2017-01-01 00:00:00+01:00\n"
     ]
    },
    {
     "name": "stderr",
     "output_type": "stream",
     "text": [
      "Years:  30%|███       | 3/10 [4:20:10<9:20:37, 4805.41s/it] "
     ]
    },
    {
     "name": "stdout",
     "output_type": "stream",
     "text": [
      "DK_2 2017-01-01 00:00:00+01:00 2017-02-01 00:00:00+01:00\n"
     ]
    },
    {
     "name": "stderr",
     "output_type": "stream",
     "text": []
    },
    {
     "name": "stdout",
     "output_type": "stream",
     "text": [
      "DK_2 2017-02-01 00:00:00+01:00 2017-03-01 00:00:00+01:00\n"
     ]
    },
    {
     "name": "stderr",
     "output_type": "stream",
     "text": []
    },
    {
     "name": "stdout",
     "output_type": "stream",
     "text": [
      "DK_2 2017-03-01 00:00:00+01:00 2017-04-01 00:00:00+02:00\n"
     ]
    },
    {
     "name": "stderr",
     "output_type": "stream",
     "text": []
    },
    {
     "name": "stdout",
     "output_type": "stream",
     "text": [
      "DK_2 2017-04-01 00:00:00+02:00 2017-05-01 00:00:00+02:00\n"
     ]
    },
    {
     "name": "stderr",
     "output_type": "stream",
     "text": []
    },
    {
     "name": "stdout",
     "output_type": "stream",
     "text": [
      "DK_2 2017-05-01 00:00:00+02:00 2017-06-01 00:00:00+02:00\n"
     ]
    },
    {
     "name": "stderr",
     "output_type": "stream",
     "text": []
    },
    {
     "name": "stdout",
     "output_type": "stream",
     "text": [
      "DK_2 2017-06-01 00:00:00+02:00 2017-07-01 00:00:00+02:00\n"
     ]
    },
    {
     "name": "stderr",
     "output_type": "stream",
     "text": []
    },
    {
     "name": "stdout",
     "output_type": "stream",
     "text": [
      "DK_2 2017-07-01 00:00:00+02:00 2017-08-01 00:00:00+02:00\n"
     ]
    },
    {
     "name": "stderr",
     "output_type": "stream",
     "text": []
    },
    {
     "name": "stdout",
     "output_type": "stream",
     "text": [
      "DK_2 2017-08-01 00:00:00+02:00 2017-09-01 00:00:00+02:00\n"
     ]
    },
    {
     "name": "stderr",
     "output_type": "stream",
     "text": []
    },
    {
     "name": "stdout",
     "output_type": "stream",
     "text": [
      "DK_2 2017-09-01 00:00:00+02:00 2017-10-01 00:00:00+02:00\n"
     ]
    },
    {
     "name": "stderr",
     "output_type": "stream",
     "text": []
    },
    {
     "name": "stdout",
     "output_type": "stream",
     "text": [
      "DK_2 2017-10-01 00:00:00+02:00 2017-11-01 00:00:00+01:00\n"
     ]
    },
    {
     "name": "stderr",
     "output_type": "stream",
     "text": []
    },
    {
     "name": "stdout",
     "output_type": "stream",
     "text": [
      "DK_2 2017-11-01 00:00:00+01:00 2017-12-01 00:00:00+01:00\n"
     ]
    },
    {
     "name": "stderr",
     "output_type": "stream",
     "text": []
    },
    {
     "name": "stdout",
     "output_type": "stream",
     "text": [
      "DK_2 2017-12-01 00:00:00+01:00 2018-01-01 00:00:00+01:00\n"
     ]
    },
    {
     "name": "stderr",
     "output_type": "stream",
     "text": [
      "Years:  40%|████      | 4/10 [5:29:07<7:34:08, 4541.48s/it]"
     ]
    },
    {
     "name": "stdout",
     "output_type": "stream",
     "text": [
      "DK_2 2018-01-01 00:00:00+01:00 2018-02-01 00:00:00+01:00\n"
     ]
    },
    {
     "name": "stderr",
     "output_type": "stream",
     "text": []
    },
    {
     "name": "stdout",
     "output_type": "stream",
     "text": [
      "DK_2 2018-02-01 00:00:00+01:00 2018-03-01 00:00:00+01:00\n"
     ]
    },
    {
     "name": "stderr",
     "output_type": "stream",
     "text": []
    },
    {
     "name": "stdout",
     "output_type": "stream",
     "text": [
      "DK_2 2018-03-01 00:00:00+01:00 2018-04-01 00:00:00+02:00\n"
     ]
    },
    {
     "name": "stderr",
     "output_type": "stream",
     "text": []
    },
    {
     "name": "stdout",
     "output_type": "stream",
     "text": [
      "DK_2 2018-04-01 00:00:00+02:00 2018-05-01 00:00:00+02:00\n"
     ]
    },
    {
     "name": "stderr",
     "output_type": "stream",
     "text": []
    },
    {
     "name": "stdout",
     "output_type": "stream",
     "text": [
      "DK_2 2018-05-01 00:00:00+02:00 2018-06-01 00:00:00+02:00\n"
     ]
    },
    {
     "name": "stderr",
     "output_type": "stream",
     "text": []
    },
    {
     "name": "stdout",
     "output_type": "stream",
     "text": [
      "DK_2 2018-06-01 00:00:00+02:00 2018-07-01 00:00:00+02:00\n"
     ]
    },
    {
     "name": "stderr",
     "output_type": "stream",
     "text": []
    },
    {
     "name": "stdout",
     "output_type": "stream",
     "text": [
      "DK_2 2018-07-01 00:00:00+02:00 2018-08-01 00:00:00+02:00\n"
     ]
    },
    {
     "name": "stderr",
     "output_type": "stream",
     "text": []
    },
    {
     "name": "stdout",
     "output_type": "stream",
     "text": [
      "DK_2 2018-08-01 00:00:00+02:00 2018-09-01 00:00:00+02:00\n"
     ]
    },
    {
     "name": "stderr",
     "output_type": "stream",
     "text": []
    },
    {
     "name": "stdout",
     "output_type": "stream",
     "text": [
      "DK_2 2018-09-01 00:00:00+02:00 2018-10-01 00:00:00+02:00\n"
     ]
    },
    {
     "name": "stderr",
     "output_type": "stream",
     "text": []
    },
    {
     "name": "stdout",
     "output_type": "stream",
     "text": [
      "DK_2 2018-10-01 00:00:00+02:00 2018-11-01 00:00:00+01:00\n"
     ]
    },
    {
     "name": "stderr",
     "output_type": "stream",
     "text": []
    },
    {
     "name": "stdout",
     "output_type": "stream",
     "text": [
      "DK_2 2018-11-01 00:00:00+01:00 2018-12-01 00:00:00+01:00\n"
     ]
    },
    {
     "name": "stderr",
     "output_type": "stream",
     "text": []
    },
    {
     "name": "stdout",
     "output_type": "stream",
     "text": [
      "DK_2 2018-12-01 00:00:00+01:00 2019-01-01 00:00:00+01:00\n"
     ]
    },
    {
     "name": "stderr",
     "output_type": "stream",
     "text": [
      "Years:  50%|█████     | 5/10 [6:35:35<6:01:49, 4341.88s/it]"
     ]
    },
    {
     "name": "stdout",
     "output_type": "stream",
     "text": [
      "DK_2 2019-01-01 00:00:00+01:00 2019-02-01 00:00:00+01:00\n"
     ]
    },
    {
     "name": "stderr",
     "output_type": "stream",
     "text": []
    },
    {
     "name": "stdout",
     "output_type": "stream",
     "text": [
      "DK_2 2019-02-01 00:00:00+01:00 2019-03-01 00:00:00+01:00\n"
     ]
    },
    {
     "name": "stderr",
     "output_type": "stream",
     "text": []
    },
    {
     "name": "stdout",
     "output_type": "stream",
     "text": [
      "DK_2 2019-03-01 00:00:00+01:00 2019-04-01 00:00:00+02:00\n"
     ]
    },
    {
     "name": "stderr",
     "output_type": "stream",
     "text": []
    },
    {
     "name": "stdout",
     "output_type": "stream",
     "text": [
      "DK_2 2019-04-01 00:00:00+02:00 2019-05-01 00:00:00+02:00\n"
     ]
    },
    {
     "name": "stderr",
     "output_type": "stream",
     "text": []
    },
    {
     "name": "stdout",
     "output_type": "stream",
     "text": [
      "DK_2 2019-05-01 00:00:00+02:00 2019-06-01 00:00:00+02:00\n"
     ]
    },
    {
     "name": "stderr",
     "output_type": "stream",
     "text": []
    },
    {
     "name": "stdout",
     "output_type": "stream",
     "text": [
      "DK_2 2019-06-01 00:00:00+02:00 2019-07-01 00:00:00+02:00\n"
     ]
    },
    {
     "name": "stderr",
     "output_type": "stream",
     "text": []
    },
    {
     "name": "stdout",
     "output_type": "stream",
     "text": [
      "DK_2 2019-07-01 00:00:00+02:00 2019-08-01 00:00:00+02:00\n"
     ]
    },
    {
     "name": "stderr",
     "output_type": "stream",
     "text": []
    },
    {
     "name": "stdout",
     "output_type": "stream",
     "text": [
      "DK_2 2019-08-01 00:00:00+02:00 2019-09-01 00:00:00+02:00\n"
     ]
    },
    {
     "name": "stderr",
     "output_type": "stream",
     "text": []
    },
    {
     "name": "stdout",
     "output_type": "stream",
     "text": [
      "DK_2 2019-09-01 00:00:00+02:00 2019-10-01 00:00:00+02:00\n"
     ]
    },
    {
     "name": "stderr",
     "output_type": "stream",
     "text": []
    },
    {
     "name": "stdout",
     "output_type": "stream",
     "text": [
      "DK_2 2019-10-01 00:00:00+02:00 2019-11-01 00:00:00+01:00\n"
     ]
    },
    {
     "name": "stderr",
     "output_type": "stream",
     "text": []
    },
    {
     "name": "stdout",
     "output_type": "stream",
     "text": [
      "DK_2 2019-11-01 00:00:00+01:00 2019-12-01 00:00:00+01:00\n"
     ]
    },
    {
     "name": "stderr",
     "output_type": "stream",
     "text": []
    },
    {
     "name": "stdout",
     "output_type": "stream",
     "text": [
      "DK_2 2019-12-01 00:00:00+01:00 2020-01-01 00:00:00+01:00\n"
     ]
    },
    {
     "name": "stderr",
     "output_type": "stream",
     "text": [
      "Years:  60%|██████    | 6/10 [7:42:18<4:41:46, 4226.59s/it]"
     ]
    },
    {
     "name": "stdout",
     "output_type": "stream",
     "text": [
      "DK_2 2020-01-01 00:00:00+01:00 2020-02-01 00:00:00+01:00\n"
     ]
    },
    {
     "name": "stderr",
     "output_type": "stream",
     "text": []
    },
    {
     "name": "stdout",
     "output_type": "stream",
     "text": [
      "DK_2 2020-02-01 00:00:00+01:00 2020-03-01 00:00:00+01:00\n"
     ]
    },
    {
     "name": "stderr",
     "output_type": "stream",
     "text": []
    },
    {
     "name": "stdout",
     "output_type": "stream",
     "text": [
      "DK_2 2020-03-01 00:00:00+01:00 2020-04-01 00:00:00+02:00\n"
     ]
    },
    {
     "name": "stderr",
     "output_type": "stream",
     "text": []
    },
    {
     "name": "stdout",
     "output_type": "stream",
     "text": [
      "DK_2 2020-04-01 00:00:00+02:00 2020-05-01 00:00:00+02:00\n"
     ]
    },
    {
     "name": "stderr",
     "output_type": "stream",
     "text": []
    },
    {
     "name": "stdout",
     "output_type": "stream",
     "text": [
      "DK_2 2020-05-01 00:00:00+02:00 2020-06-01 00:00:00+02:00\n"
     ]
    },
    {
     "name": "stderr",
     "output_type": "stream",
     "text": []
    },
    {
     "name": "stdout",
     "output_type": "stream",
     "text": [
      "DK_2 2020-06-01 00:00:00+02:00 2020-07-01 00:00:00+02:00\n"
     ]
    },
    {
     "name": "stderr",
     "output_type": "stream",
     "text": []
    },
    {
     "name": "stdout",
     "output_type": "stream",
     "text": [
      "DK_2 2020-07-01 00:00:00+02:00 2020-08-01 00:00:00+02:00\n"
     ]
    },
    {
     "name": "stderr",
     "output_type": "stream",
     "text": []
    },
    {
     "name": "stdout",
     "output_type": "stream",
     "text": [
      "DK_2 2020-08-01 00:00:00+02:00 2020-09-01 00:00:00+02:00\n"
     ]
    },
    {
     "name": "stderr",
     "output_type": "stream",
     "text": []
    },
    {
     "name": "stdout",
     "output_type": "stream",
     "text": [
      "DK_2 2020-09-01 00:00:00+02:00 2020-10-01 00:00:00+02:00\n"
     ]
    },
    {
     "name": "stderr",
     "output_type": "stream",
     "text": []
    },
    {
     "name": "stdout",
     "output_type": "stream",
     "text": [
      "DK_2 2020-10-01 00:00:00+02:00 2020-11-01 00:00:00+01:00\n"
     ]
    },
    {
     "name": "stderr",
     "output_type": "stream",
     "text": []
    },
    {
     "name": "stdout",
     "output_type": "stream",
     "text": [
      "DK_2 2020-11-01 00:00:00+01:00 2020-12-01 00:00:00+01:00\n"
     ]
    },
    {
     "name": "stderr",
     "output_type": "stream",
     "text": []
    },
    {
     "name": "stdout",
     "output_type": "stream",
     "text": [
      "DK_2 2020-12-01 00:00:00+01:00 2021-01-01 00:00:00+01:00\n"
     ]
    },
    {
     "name": "stderr",
     "output_type": "stream",
     "text": [
      "Years:  70%|███████   | 7/10 [8:49:01<3:27:40, 4153.54s/it]"
     ]
    },
    {
     "name": "stdout",
     "output_type": "stream",
     "text": [
      "DK_2 2021-01-01 00:00:00+01:00 2021-02-01 00:00:00+01:00\n"
     ]
    },
    {
     "name": "stderr",
     "output_type": "stream",
     "text": []
    },
    {
     "name": "stdout",
     "output_type": "stream",
     "text": [
      "DK_2 2021-02-01 00:00:00+01:00 2021-03-01 00:00:00+01:00\n"
     ]
    },
    {
     "name": "stderr",
     "output_type": "stream",
     "text": []
    },
    {
     "name": "stdout",
     "output_type": "stream",
     "text": [
      "DK_2 2021-03-01 00:00:00+01:00 2021-04-01 00:00:00+02:00\n"
     ]
    },
    {
     "name": "stderr",
     "output_type": "stream",
     "text": []
    },
    {
     "name": "stdout",
     "output_type": "stream",
     "text": [
      "DK_2 2021-04-01 00:00:00+02:00 2021-05-01 00:00:00+02:00\n"
     ]
    },
    {
     "name": "stderr",
     "output_type": "stream",
     "text": []
    },
    {
     "name": "stdout",
     "output_type": "stream",
     "text": [
      "DK_2 2021-05-01 00:00:00+02:00 2021-06-01 00:00:00+02:00\n"
     ]
    },
    {
     "name": "stderr",
     "output_type": "stream",
     "text": []
    },
    {
     "name": "stdout",
     "output_type": "stream",
     "text": [
      "DK_2 2021-06-01 00:00:00+02:00 2021-07-01 00:00:00+02:00\n"
     ]
    },
    {
     "name": "stderr",
     "output_type": "stream",
     "text": []
    },
    {
     "name": "stdout",
     "output_type": "stream",
     "text": [
      "DK_2 2021-07-01 00:00:00+02:00 2021-08-01 00:00:00+02:00\n"
     ]
    },
    {
     "name": "stderr",
     "output_type": "stream",
     "text": []
    },
    {
     "name": "stdout",
     "output_type": "stream",
     "text": [
      "DK_2 2021-08-01 00:00:00+02:00 2021-09-01 00:00:00+02:00\n"
     ]
    },
    {
     "name": "stderr",
     "output_type": "stream",
     "text": []
    },
    {
     "name": "stdout",
     "output_type": "stream",
     "text": [
      "DK_2 2021-09-01 00:00:00+02:00 2021-10-01 00:00:00+02:00\n"
     ]
    },
    {
     "name": "stderr",
     "output_type": "stream",
     "text": []
    },
    {
     "name": "stdout",
     "output_type": "stream",
     "text": [
      "DK_2 2021-10-01 00:00:00+02:00 2021-11-01 00:00:00+01:00\n"
     ]
    },
    {
     "name": "stderr",
     "output_type": "stream",
     "text": []
    },
    {
     "name": "stdout",
     "output_type": "stream",
     "text": [
      "DK_2 2021-11-01 00:00:00+01:00 2021-12-01 00:00:00+01:00\n"
     ]
    },
    {
     "name": "stderr",
     "output_type": "stream",
     "text": []
    },
    {
     "name": "stdout",
     "output_type": "stream",
     "text": [
      "DK_2 2021-12-01 00:00:00+01:00 2022-01-01 00:00:00+01:00\n"
     ]
    },
    {
     "name": "stderr",
     "output_type": "stream",
     "text": [
      "Years:  80%|████████  | 8/10 [9:56:17<2:17:12, 4116.04s/it]"
     ]
    },
    {
     "name": "stdout",
     "output_type": "stream",
     "text": [
      "DK_2 2022-01-01 00:00:00+01:00 2022-02-01 00:00:00+01:00\n"
     ]
    },
    {
     "name": "stderr",
     "output_type": "stream",
     "text": []
    },
    {
     "name": "stdout",
     "output_type": "stream",
     "text": [
      "DK_2 2022-02-01 00:00:00+01:00 2022-03-01 00:00:00+01:00\n"
     ]
    },
    {
     "name": "stderr",
     "output_type": "stream",
     "text": []
    },
    {
     "name": "stdout",
     "output_type": "stream",
     "text": [
      "DK_2 2022-03-01 00:00:00+01:00 2022-04-01 00:00:00+02:00\n"
     ]
    },
    {
     "name": "stderr",
     "output_type": "stream",
     "text": []
    },
    {
     "name": "stdout",
     "output_type": "stream",
     "text": [
      "DK_2 2022-04-01 00:00:00+02:00 2022-05-01 00:00:00+02:00\n"
     ]
    },
    {
     "name": "stderr",
     "output_type": "stream",
     "text": []
    },
    {
     "name": "stdout",
     "output_type": "stream",
     "text": [
      "DK_2 2022-05-01 00:00:00+02:00 2022-06-01 00:00:00+02:00\n"
     ]
    },
    {
     "name": "stderr",
     "output_type": "stream",
     "text": []
    },
    {
     "name": "stdout",
     "output_type": "stream",
     "text": [
      "DK_2 2022-06-01 00:00:00+02:00 2022-07-01 00:00:00+02:00\n"
     ]
    },
    {
     "name": "stderr",
     "output_type": "stream",
     "text": []
    },
    {
     "name": "stdout",
     "output_type": "stream",
     "text": [
      "DK_2 2022-07-01 00:00:00+02:00 2022-08-01 00:00:00+02:00\n"
     ]
    },
    {
     "name": "stderr",
     "output_type": "stream",
     "text": []
    },
    {
     "name": "stdout",
     "output_type": "stream",
     "text": [
      "DK_2 2022-08-01 00:00:00+02:00 2022-09-01 00:00:00+02:00\n"
     ]
    },
    {
     "name": "stderr",
     "output_type": "stream",
     "text": []
    },
    {
     "name": "stdout",
     "output_type": "stream",
     "text": [
      "DK_2 2022-09-01 00:00:00+02:00 2022-10-01 00:00:00+02:00\n"
     ]
    },
    {
     "name": "stderr",
     "output_type": "stream",
     "text": []
    },
    {
     "name": "stdout",
     "output_type": "stream",
     "text": [
      "DK_2 2022-10-01 00:00:00+02:00 2022-11-01 00:00:00+01:00\n"
     ]
    },
    {
     "name": "stderr",
     "output_type": "stream",
     "text": []
    },
    {
     "name": "stdout",
     "output_type": "stream",
     "text": [
      "DK_2 2022-11-01 00:00:00+01:00 2022-12-01 00:00:00+01:00\n"
     ]
    },
    {
     "name": "stderr",
     "output_type": "stream",
     "text": []
    },
    {
     "name": "stdout",
     "output_type": "stream",
     "text": [
      "DK_2 2022-12-01 00:00:00+01:00 2023-01-01 00:00:00+01:00\n"
     ]
    },
    {
     "name": "stderr",
     "output_type": "stream",
     "text": [
      "Years:  90%|█████████ | 9/10 [11:03:01<1:08:00, 4080.92s/it]"
     ]
    },
    {
     "name": "stdout",
     "output_type": "stream",
     "text": [
      "DK_2 2023-01-01 00:00:00+01:00 2023-02-01 00:00:00+01:00\n"
     ]
    },
    {
     "name": "stderr",
     "output_type": "stream",
     "text": []
    },
    {
     "name": "stdout",
     "output_type": "stream",
     "text": [
      "DK_2 2023-02-01 00:00:00+01:00 2023-03-01 00:00:00+01:00\n"
     ]
    },
    {
     "name": "stderr",
     "output_type": "stream",
     "text": []
    },
    {
     "name": "stdout",
     "output_type": "stream",
     "text": [
      "DK_2 2023-03-01 00:00:00+01:00 2023-04-01 00:00:00+02:00\n"
     ]
    },
    {
     "name": "stderr",
     "output_type": "stream",
     "text": []
    },
    {
     "name": "stdout",
     "output_type": "stream",
     "text": [
      "DK_2 2023-04-01 00:00:00+02:00 2023-05-01 00:00:00+02:00\n"
     ]
    },
    {
     "name": "stderr",
     "output_type": "stream",
     "text": []
    },
    {
     "name": "stdout",
     "output_type": "stream",
     "text": [
      "DK_2 2023-05-01 00:00:00+02:00 2023-06-01 00:00:00+02:00\n"
     ]
    },
    {
     "name": "stderr",
     "output_type": "stream",
     "text": []
    },
    {
     "name": "stdout",
     "output_type": "stream",
     "text": [
      "DK_2 2023-06-01 00:00:00+02:00 2023-07-01 00:00:00+02:00\n"
     ]
    },
    {
     "name": "stderr",
     "output_type": "stream",
     "text": []
    },
    {
     "name": "stdout",
     "output_type": "stream",
     "text": [
      "DK_2 2023-07-01 00:00:00+02:00 2023-08-01 00:00:00+02:00\n"
     ]
    },
    {
     "name": "stderr",
     "output_type": "stream",
     "text": []
    },
    {
     "name": "stdout",
     "output_type": "stream",
     "text": [
      "DK_2 2023-08-01 00:00:00+02:00 2023-09-01 00:00:00+02:00\n"
     ]
    },
    {
     "name": "stderr",
     "output_type": "stream",
     "text": []
    },
    {
     "name": "stdout",
     "output_type": "stream",
     "text": [
      "DK_2 2023-09-01 00:00:00+02:00 2023-10-01 00:00:00+02:00\n"
     ]
    },
    {
     "name": "stderr",
     "output_type": "stream",
     "text": [
      "Years: 100%|██████████| 10/10 [11:52:55<00:00, 4277.56s/it] \n"
     ]
    }
   ],
   "source": [
    "# Initialize an empty list to store the individual data frames\n",
    "for region in [\"DK_1\", \"DK_2\"]:\n",
    "    stop_loop = False\n",
    "    all_data = []\n",
    "    # Wrap your range with tqdm to create a progress bar\n",
    "    for start_year in tqdm(range(14, 24), desc=\"Years\"):\n",
    "        for start_month in tqdm(range(1, 13), desc=\"Months\", leave=False):  # leave=False will remove inner bar when done\n",
    "            if start_year == 23 and start_month == 10:\n",
    "                stop_loop = True  # Set the flag to True\n",
    "                break  # Break the inner loop\n",
    "\n",
    "            for attempt in range(3):\n",
    "                try:\n",
    "                    if start_month == 12:  # correction if start month is December\n",
    "                        end_month = 1\n",
    "                        end_year = start_year + 1\n",
    "                    else:\n",
    "                        end_month = start_month + 1\n",
    "                        end_year = start_year\n",
    "\n",
    "                    start_month_str = str(start_month).zfill(2)\n",
    "                    end_month_str = str(end_month).zfill(2)\n",
    "\n",
    "                    start_year_str = str(start_year).zfill(2)\n",
    "                    end_year_str = str(end_year).zfill(2)\n",
    "\n",
    "                    start = pd.Timestamp(f'20{start_year_str}{start_month_str}01', tz='Europe/Brussels')\n",
    "                    end = pd.Timestamp(f'20{end_year_str}{end_month_str}01', tz='Europe/Brussels')\n",
    "\n",
    "                    # Query and store the response\n",
    "                    response = client.query_day_ahead_prices(region, start=start, end=end)\n",
    "                    \n",
    "                    # Append the response DataFrame to all_data list\n",
    "                    all_data.append(response)\n",
    "                    print(region, start, end)\n",
    "                    # Sleep for 300 seconds (5 minutes) to avoid API rate limits\n",
    "                    time.sleep(330)\n",
    "                    break\n",
    "                except: \n",
    "                    if attempt < 2:\n",
    "                        time.sleep(330)\n",
    "\n",
    "            if stop_loop:  # Check the flag after the inner loop\n",
    "                break  # Break the outer loop if the flag is True\n",
    "            \n",
    "    # Concatenate all the data frames in the list into one long data frame\n",
    "    all_data_dict[f\"price_{region}\"] = pd.concat(all_data)\n",
    "    all_data_dict[f\"price_{region}\"].to_csv(f'{data_path}/ENTSO-E_price_{region}.csv')"
   ]
  },
  {
   "cell_type": "markdown",
   "metadata": {},
   "source": [
    "generation_forecast"
   ]
  },
  {
   "cell_type": "code",
   "execution_count": 5,
   "metadata": {},
   "outputs": [
    {
     "name": "stderr",
     "output_type": "stream",
     "text": [
      "Years:   0%|          | 0/10 [00:00<?, ?it/s]"
     ]
    },
    {
     "name": "stderr",
     "output_type": "stream",
     "text": []
    },
    {
     "name": "stdout",
     "output_type": "stream",
     "text": [
      "DK_1 2014-12-01 00:00:00+01:00 2015-01-01 00:00:00+01:00\n"
     ]
    },
    {
     "name": "stderr",
     "output_type": "stream",
     "text": [
      "Years:  10%|█         | 1/10 [2:07:36<19:08:28, 7656.49s/it]"
     ]
    },
    {
     "name": "stdout",
     "output_type": "stream",
     "text": [
      "DK_1 2015-01-01 00:00:00+01:00 2015-02-01 00:00:00+01:00\n"
     ]
    },
    {
     "name": "stderr",
     "output_type": "stream",
     "text": []
    },
    {
     "name": "stdout",
     "output_type": "stream",
     "text": [
      "DK_1 2015-02-01 00:00:00+01:00 2015-03-01 00:00:00+01:00\n"
     ]
    },
    {
     "name": "stderr",
     "output_type": "stream",
     "text": []
    },
    {
     "name": "stdout",
     "output_type": "stream",
     "text": [
      "DK_1 2015-03-01 00:00:00+01:00 2015-04-01 00:00:00+02:00\n"
     ]
    },
    {
     "name": "stderr",
     "output_type": "stream",
     "text": []
    },
    {
     "name": "stdout",
     "output_type": "stream",
     "text": [
      "DK_1 2015-04-01 00:00:00+02:00 2015-05-01 00:00:00+02:00\n"
     ]
    },
    {
     "name": "stderr",
     "output_type": "stream",
     "text": []
    },
    {
     "name": "stdout",
     "output_type": "stream",
     "text": [
      "DK_1 2015-05-01 00:00:00+02:00 2015-06-01 00:00:00+02:00\n"
     ]
    },
    {
     "name": "stderr",
     "output_type": "stream",
     "text": []
    },
    {
     "name": "stdout",
     "output_type": "stream",
     "text": [
      "DK_1 2015-06-01 00:00:00+02:00 2015-07-01 00:00:00+02:00\n"
     ]
    },
    {
     "name": "stderr",
     "output_type": "stream",
     "text": []
    },
    {
     "name": "stdout",
     "output_type": "stream",
     "text": [
      "DK_1 2015-07-01 00:00:00+02:00 2015-08-01 00:00:00+02:00\n"
     ]
    },
    {
     "name": "stderr",
     "output_type": "stream",
     "text": []
    },
    {
     "name": "stdout",
     "output_type": "stream",
     "text": [
      "DK_1 2015-08-01 00:00:00+02:00 2015-09-01 00:00:00+02:00\n"
     ]
    },
    {
     "name": "stderr",
     "output_type": "stream",
     "text": []
    },
    {
     "name": "stdout",
     "output_type": "stream",
     "text": [
      "DK_1 2015-09-01 00:00:00+02:00 2015-10-01 00:00:00+02:00\n"
     ]
    },
    {
     "name": "stderr",
     "output_type": "stream",
     "text": []
    },
    {
     "name": "stdout",
     "output_type": "stream",
     "text": [
      "DK_1 2015-10-01 00:00:00+02:00 2015-11-01 00:00:00+01:00\n"
     ]
    },
    {
     "name": "stderr",
     "output_type": "stream",
     "text": []
    },
    {
     "name": "stdout",
     "output_type": "stream",
     "text": [
      "DK_1 2015-11-01 00:00:00+01:00 2015-12-01 00:00:00+01:00\n"
     ]
    },
    {
     "name": "stderr",
     "output_type": "stream",
     "text": []
    },
    {
     "name": "stdout",
     "output_type": "stream",
     "text": [
      "DK_1 2015-12-01 00:00:00+01:00 2016-01-01 00:00:00+01:00\n"
     ]
    },
    {
     "name": "stderr",
     "output_type": "stream",
     "text": [
      "Years:  20%|██        | 2/10 [3:14:02<12:12:58, 5497.36s/it]"
     ]
    },
    {
     "name": "stdout",
     "output_type": "stream",
     "text": [
      "DK_1 2016-01-01 00:00:00+01:00 2016-02-01 00:00:00+01:00\n"
     ]
    },
    {
     "name": "stderr",
     "output_type": "stream",
     "text": []
    },
    {
     "name": "stdout",
     "output_type": "stream",
     "text": [
      "DK_1 2016-02-01 00:00:00+01:00 2016-03-01 00:00:00+01:00\n"
     ]
    },
    {
     "name": "stderr",
     "output_type": "stream",
     "text": []
    },
    {
     "name": "stdout",
     "output_type": "stream",
     "text": [
      "DK_1 2016-03-01 00:00:00+01:00 2016-04-01 00:00:00+02:00\n"
     ]
    },
    {
     "name": "stderr",
     "output_type": "stream",
     "text": []
    },
    {
     "name": "stdout",
     "output_type": "stream",
     "text": [
      "DK_1 2016-04-01 00:00:00+02:00 2016-05-01 00:00:00+02:00\n"
     ]
    },
    {
     "name": "stderr",
     "output_type": "stream",
     "text": []
    },
    {
     "name": "stdout",
     "output_type": "stream",
     "text": [
      "DK_1 2016-05-01 00:00:00+02:00 2016-06-01 00:00:00+02:00\n"
     ]
    },
    {
     "name": "stderr",
     "output_type": "stream",
     "text": []
    },
    {
     "name": "stdout",
     "output_type": "stream",
     "text": [
      "DK_1 2016-06-01 00:00:00+02:00 2016-07-01 00:00:00+02:00\n"
     ]
    },
    {
     "name": "stderr",
     "output_type": "stream",
     "text": []
    },
    {
     "name": "stdout",
     "output_type": "stream",
     "text": [
      "DK_1 2016-07-01 00:00:00+02:00 2016-08-01 00:00:00+02:00\n"
     ]
    },
    {
     "name": "stderr",
     "output_type": "stream",
     "text": []
    },
    {
     "name": "stdout",
     "output_type": "stream",
     "text": [
      "DK_1 2016-08-01 00:00:00+02:00 2016-09-01 00:00:00+02:00\n"
     ]
    },
    {
     "name": "stderr",
     "output_type": "stream",
     "text": []
    },
    {
     "name": "stdout",
     "output_type": "stream",
     "text": [
      "DK_1 2016-09-01 00:00:00+02:00 2016-10-01 00:00:00+02:00\n"
     ]
    },
    {
     "name": "stderr",
     "output_type": "stream",
     "text": []
    },
    {
     "name": "stdout",
     "output_type": "stream",
     "text": [
      "DK_1 2016-10-01 00:00:00+02:00 2016-11-01 00:00:00+01:00\n"
     ]
    },
    {
     "name": "stderr",
     "output_type": "stream",
     "text": []
    },
    {
     "name": "stdout",
     "output_type": "stream",
     "text": [
      "DK_1 2016-11-01 00:00:00+01:00 2016-12-01 00:00:00+01:00\n"
     ]
    },
    {
     "name": "stderr",
     "output_type": "stream",
     "text": []
    },
    {
     "name": "stdout",
     "output_type": "stream",
     "text": [
      "DK_1 2016-12-01 00:00:00+01:00 2017-01-01 00:00:00+01:00\n"
     ]
    },
    {
     "name": "stderr",
     "output_type": "stream",
     "text": [
      "Years:  30%|███       | 3/10 [4:20:25<9:20:39, 4805.70s/it] "
     ]
    },
    {
     "name": "stdout",
     "output_type": "stream",
     "text": [
      "DK_1 2017-01-01 00:00:00+01:00 2017-02-01 00:00:00+01:00\n"
     ]
    },
    {
     "name": "stderr",
     "output_type": "stream",
     "text": []
    },
    {
     "name": "stdout",
     "output_type": "stream",
     "text": [
      "DK_1 2017-02-01 00:00:00+01:00 2017-03-01 00:00:00+01:00\n"
     ]
    },
    {
     "name": "stderr",
     "output_type": "stream",
     "text": []
    },
    {
     "name": "stdout",
     "output_type": "stream",
     "text": [
      "DK_1 2017-03-01 00:00:00+01:00 2017-04-01 00:00:00+02:00\n"
     ]
    },
    {
     "name": "stderr",
     "output_type": "stream",
     "text": []
    },
    {
     "name": "stdout",
     "output_type": "stream",
     "text": [
      "DK_1 2017-04-01 00:00:00+02:00 2017-05-01 00:00:00+02:00\n"
     ]
    },
    {
     "name": "stderr",
     "output_type": "stream",
     "text": []
    },
    {
     "name": "stdout",
     "output_type": "stream",
     "text": [
      "DK_1 2017-05-01 00:00:00+02:00 2017-06-01 00:00:00+02:00\n"
     ]
    },
    {
     "name": "stderr",
     "output_type": "stream",
     "text": []
    },
    {
     "name": "stdout",
     "output_type": "stream",
     "text": [
      "DK_1 2017-06-01 00:00:00+02:00 2017-07-01 00:00:00+02:00\n"
     ]
    },
    {
     "name": "stderr",
     "output_type": "stream",
     "text": []
    },
    {
     "name": "stdout",
     "output_type": "stream",
     "text": [
      "DK_1 2017-07-01 00:00:00+02:00 2017-08-01 00:00:00+02:00\n"
     ]
    },
    {
     "name": "stderr",
     "output_type": "stream",
     "text": []
    },
    {
     "name": "stdout",
     "output_type": "stream",
     "text": [
      "DK_1 2017-08-01 00:00:00+02:00 2017-09-01 00:00:00+02:00\n"
     ]
    },
    {
     "name": "stderr",
     "output_type": "stream",
     "text": []
    },
    {
     "name": "stdout",
     "output_type": "stream",
     "text": [
      "DK_1 2017-09-01 00:00:00+02:00 2017-10-01 00:00:00+02:00\n"
     ]
    },
    {
     "name": "stderr",
     "output_type": "stream",
     "text": []
    },
    {
     "name": "stdout",
     "output_type": "stream",
     "text": [
      "DK_1 2017-10-01 00:00:00+02:00 2017-11-01 00:00:00+01:00\n"
     ]
    },
    {
     "name": "stderr",
     "output_type": "stream",
     "text": []
    },
    {
     "name": "stdout",
     "output_type": "stream",
     "text": [
      "DK_1 2017-11-01 00:00:00+01:00 2017-12-01 00:00:00+01:00\n"
     ]
    },
    {
     "name": "stderr",
     "output_type": "stream",
     "text": []
    },
    {
     "name": "stdout",
     "output_type": "stream",
     "text": [
      "DK_1 2017-12-01 00:00:00+01:00 2018-01-01 00:00:00+01:00\n"
     ]
    },
    {
     "name": "stderr",
     "output_type": "stream",
     "text": [
      "Years:  40%|████      | 4/10 [5:26:47<7:28:03, 4480.51s/it]"
     ]
    },
    {
     "name": "stdout",
     "output_type": "stream",
     "text": [
      "DK_1 2018-01-01 00:00:00+01:00 2018-02-01 00:00:00+01:00\n"
     ]
    },
    {
     "name": "stderr",
     "output_type": "stream",
     "text": []
    },
    {
     "name": "stdout",
     "output_type": "stream",
     "text": [
      "DK_1 2018-02-01 00:00:00+01:00 2018-03-01 00:00:00+01:00\n"
     ]
    },
    {
     "name": "stderr",
     "output_type": "stream",
     "text": []
    },
    {
     "name": "stdout",
     "output_type": "stream",
     "text": [
      "DK_1 2018-03-01 00:00:00+01:00 2018-04-01 00:00:00+02:00\n"
     ]
    },
    {
     "name": "stderr",
     "output_type": "stream",
     "text": []
    },
    {
     "name": "stdout",
     "output_type": "stream",
     "text": [
      "DK_1 2018-04-01 00:00:00+02:00 2018-05-01 00:00:00+02:00\n"
     ]
    },
    {
     "name": "stderr",
     "output_type": "stream",
     "text": []
    },
    {
     "name": "stdout",
     "output_type": "stream",
     "text": [
      "DK_1 2018-05-01 00:00:00+02:00 2018-06-01 00:00:00+02:00\n"
     ]
    },
    {
     "name": "stderr",
     "output_type": "stream",
     "text": []
    },
    {
     "name": "stdout",
     "output_type": "stream",
     "text": [
      "DK_1 2018-06-01 00:00:00+02:00 2018-07-01 00:00:00+02:00\n"
     ]
    },
    {
     "name": "stderr",
     "output_type": "stream",
     "text": []
    },
    {
     "name": "stdout",
     "output_type": "stream",
     "text": [
      "DK_1 2018-07-01 00:00:00+02:00 2018-08-01 00:00:00+02:00\n"
     ]
    },
    {
     "name": "stderr",
     "output_type": "stream",
     "text": []
    },
    {
     "name": "stdout",
     "output_type": "stream",
     "text": [
      "DK_1 2018-08-01 00:00:00+02:00 2018-09-01 00:00:00+02:00\n"
     ]
    },
    {
     "name": "stderr",
     "output_type": "stream",
     "text": []
    },
    {
     "name": "stdout",
     "output_type": "stream",
     "text": [
      "DK_1 2018-09-01 00:00:00+02:00 2018-10-01 00:00:00+02:00\n"
     ]
    },
    {
     "name": "stderr",
     "output_type": "stream",
     "text": []
    },
    {
     "name": "stdout",
     "output_type": "stream",
     "text": [
      "DK_1 2018-10-01 00:00:00+02:00 2018-11-01 00:00:00+01:00\n"
     ]
    },
    {
     "name": "stderr",
     "output_type": "stream",
     "text": []
    },
    {
     "name": "stdout",
     "output_type": "stream",
     "text": [
      "DK_1 2018-11-01 00:00:00+01:00 2018-12-01 00:00:00+01:00\n"
     ]
    },
    {
     "name": "stderr",
     "output_type": "stream",
     "text": []
    },
    {
     "name": "stdout",
     "output_type": "stream",
     "text": [
      "DK_1 2018-12-01 00:00:00+01:00 2019-01-01 00:00:00+01:00\n"
     ]
    },
    {
     "name": "stderr",
     "output_type": "stream",
     "text": [
      "Years:  50%|█████     | 5/10 [6:33:10<5:58:26, 4301.27s/it]"
     ]
    },
    {
     "name": "stdout",
     "output_type": "stream",
     "text": [
      "DK_1 2019-01-01 00:00:00+01:00 2019-02-01 00:00:00+01:00\n"
     ]
    },
    {
     "name": "stderr",
     "output_type": "stream",
     "text": []
    },
    {
     "name": "stdout",
     "output_type": "stream",
     "text": [
      "DK_1 2019-02-01 00:00:00+01:00 2019-03-01 00:00:00+01:00\n"
     ]
    },
    {
     "name": "stderr",
     "output_type": "stream",
     "text": []
    },
    {
     "name": "stdout",
     "output_type": "stream",
     "text": [
      "DK_1 2019-03-01 00:00:00+01:00 2019-04-01 00:00:00+02:00\n"
     ]
    },
    {
     "name": "stderr",
     "output_type": "stream",
     "text": []
    },
    {
     "name": "stdout",
     "output_type": "stream",
     "text": [
      "DK_1 2019-04-01 00:00:00+02:00 2019-05-01 00:00:00+02:00\n"
     ]
    },
    {
     "name": "stderr",
     "output_type": "stream",
     "text": []
    },
    {
     "name": "stdout",
     "output_type": "stream",
     "text": [
      "DK_1 2019-05-01 00:00:00+02:00 2019-06-01 00:00:00+02:00\n"
     ]
    },
    {
     "name": "stderr",
     "output_type": "stream",
     "text": []
    },
    {
     "name": "stdout",
     "output_type": "stream",
     "text": [
      "DK_1 2019-06-01 00:00:00+02:00 2019-07-01 00:00:00+02:00\n"
     ]
    },
    {
     "name": "stderr",
     "output_type": "stream",
     "text": []
    },
    {
     "name": "stdout",
     "output_type": "stream",
     "text": [
      "DK_1 2019-07-01 00:00:00+02:00 2019-08-01 00:00:00+02:00\n"
     ]
    },
    {
     "name": "stderr",
     "output_type": "stream",
     "text": []
    },
    {
     "name": "stdout",
     "output_type": "stream",
     "text": [
      "DK_1 2019-08-01 00:00:00+02:00 2019-09-01 00:00:00+02:00\n"
     ]
    },
    {
     "name": "stderr",
     "output_type": "stream",
     "text": []
    },
    {
     "name": "stdout",
     "output_type": "stream",
     "text": [
      "DK_1 2019-09-01 00:00:00+02:00 2019-10-01 00:00:00+02:00\n"
     ]
    },
    {
     "name": "stderr",
     "output_type": "stream",
     "text": []
    },
    {
     "name": "stdout",
     "output_type": "stream",
     "text": [
      "DK_1 2019-10-01 00:00:00+02:00 2019-11-01 00:00:00+01:00\n"
     ]
    },
    {
     "name": "stderr",
     "output_type": "stream",
     "text": []
    },
    {
     "name": "stdout",
     "output_type": "stream",
     "text": [
      "DK_1 2019-11-01 00:00:00+01:00 2019-12-01 00:00:00+01:00\n"
     ]
    },
    {
     "name": "stderr",
     "output_type": "stream",
     "text": []
    },
    {
     "name": "stdout",
     "output_type": "stream",
     "text": [
      "DK_1 2019-12-01 00:00:00+01:00 2020-01-01 00:00:00+01:00\n"
     ]
    },
    {
     "name": "stderr",
     "output_type": "stream",
     "text": [
      "Years:  60%|██████    | 6/10 [7:39:38<4:39:38, 4194.74s/it]"
     ]
    },
    {
     "name": "stdout",
     "output_type": "stream",
     "text": [
      "DK_1 2020-01-01 00:00:00+01:00 2020-02-01 00:00:00+01:00\n"
     ]
    },
    {
     "name": "stderr",
     "output_type": "stream",
     "text": []
    },
    {
     "name": "stdout",
     "output_type": "stream",
     "text": [
      "DK_1 2020-02-01 00:00:00+01:00 2020-03-01 00:00:00+01:00\n"
     ]
    },
    {
     "name": "stderr",
     "output_type": "stream",
     "text": []
    },
    {
     "name": "stdout",
     "output_type": "stream",
     "text": [
      "DK_1 2020-03-01 00:00:00+01:00 2020-04-01 00:00:00+02:00\n"
     ]
    },
    {
     "name": "stderr",
     "output_type": "stream",
     "text": []
    },
    {
     "name": "stdout",
     "output_type": "stream",
     "text": [
      "DK_1 2020-04-01 00:00:00+02:00 2020-05-01 00:00:00+02:00\n"
     ]
    },
    {
     "name": "stderr",
     "output_type": "stream",
     "text": []
    },
    {
     "name": "stdout",
     "output_type": "stream",
     "text": [
      "DK_1 2020-05-01 00:00:00+02:00 2020-06-01 00:00:00+02:00\n"
     ]
    },
    {
     "name": "stderr",
     "output_type": "stream",
     "text": []
    },
    {
     "name": "stdout",
     "output_type": "stream",
     "text": [
      "DK_1 2020-06-01 00:00:00+02:00 2020-07-01 00:00:00+02:00\n"
     ]
    },
    {
     "name": "stderr",
     "output_type": "stream",
     "text": []
    },
    {
     "name": "stdout",
     "output_type": "stream",
     "text": [
      "DK_1 2020-07-01 00:00:00+02:00 2020-08-01 00:00:00+02:00\n"
     ]
    },
    {
     "name": "stderr",
     "output_type": "stream",
     "text": []
    },
    {
     "name": "stdout",
     "output_type": "stream",
     "text": [
      "DK_1 2020-08-01 00:00:00+02:00 2020-09-01 00:00:00+02:00\n"
     ]
    },
    {
     "name": "stderr",
     "output_type": "stream",
     "text": []
    },
    {
     "name": "stdout",
     "output_type": "stream",
     "text": [
      "DK_1 2020-09-01 00:00:00+02:00 2020-10-01 00:00:00+02:00\n"
     ]
    },
    {
     "name": "stderr",
     "output_type": "stream",
     "text": []
    },
    {
     "name": "stdout",
     "output_type": "stream",
     "text": [
      "DK_1 2020-10-01 00:00:00+02:00 2020-11-01 00:00:00+01:00\n"
     ]
    },
    {
     "name": "stderr",
     "output_type": "stream",
     "text": []
    },
    {
     "name": "stdout",
     "output_type": "stream",
     "text": [
      "DK_1 2020-11-01 00:00:00+01:00 2020-12-01 00:00:00+01:00\n"
     ]
    },
    {
     "name": "stderr",
     "output_type": "stream",
     "text": []
    },
    {
     "name": "stdout",
     "output_type": "stream",
     "text": [
      "DK_1 2020-12-01 00:00:00+01:00 2021-01-01 00:00:00+01:00\n"
     ]
    },
    {
     "name": "stderr",
     "output_type": "stream",
     "text": [
      "Years:  70%|███████   | 7/10 [8:46:02<3:26:17, 4125.85s/it]"
     ]
    },
    {
     "name": "stdout",
     "output_type": "stream",
     "text": [
      "DK_1 2021-01-01 00:00:00+01:00 2021-02-01 00:00:00+01:00\n"
     ]
    },
    {
     "name": "stderr",
     "output_type": "stream",
     "text": []
    },
    {
     "name": "stdout",
     "output_type": "stream",
     "text": [
      "DK_1 2021-02-01 00:00:00+01:00 2021-03-01 00:00:00+01:00\n"
     ]
    },
    {
     "name": "stderr",
     "output_type": "stream",
     "text": []
    },
    {
     "name": "stdout",
     "output_type": "stream",
     "text": [
      "DK_1 2021-03-01 00:00:00+01:00 2021-04-01 00:00:00+02:00\n"
     ]
    },
    {
     "name": "stderr",
     "output_type": "stream",
     "text": []
    },
    {
     "name": "stdout",
     "output_type": "stream",
     "text": [
      "DK_1 2021-04-01 00:00:00+02:00 2021-05-01 00:00:00+02:00\n"
     ]
    },
    {
     "name": "stderr",
     "output_type": "stream",
     "text": []
    },
    {
     "name": "stdout",
     "output_type": "stream",
     "text": [
      "DK_1 2021-05-01 00:00:00+02:00 2021-06-01 00:00:00+02:00\n"
     ]
    },
    {
     "name": "stderr",
     "output_type": "stream",
     "text": []
    },
    {
     "name": "stdout",
     "output_type": "stream",
     "text": [
      "DK_1 2021-06-01 00:00:00+02:00 2021-07-01 00:00:00+02:00\n"
     ]
    },
    {
     "name": "stderr",
     "output_type": "stream",
     "text": []
    },
    {
     "name": "stdout",
     "output_type": "stream",
     "text": [
      "DK_1 2021-07-01 00:00:00+02:00 2021-08-01 00:00:00+02:00\n"
     ]
    },
    {
     "name": "stderr",
     "output_type": "stream",
     "text": []
    },
    {
     "name": "stdout",
     "output_type": "stream",
     "text": [
      "DK_1 2021-08-01 00:00:00+02:00 2021-09-01 00:00:00+02:00\n"
     ]
    },
    {
     "name": "stderr",
     "output_type": "stream",
     "text": []
    },
    {
     "name": "stdout",
     "output_type": "stream",
     "text": [
      "DK_1 2021-09-01 00:00:00+02:00 2021-10-01 00:00:00+02:00\n"
     ]
    },
    {
     "name": "stderr",
     "output_type": "stream",
     "text": []
    },
    {
     "name": "stdout",
     "output_type": "stream",
     "text": [
      "DK_1 2021-10-01 00:00:00+02:00 2021-11-01 00:00:00+01:00\n"
     ]
    },
    {
     "name": "stderr",
     "output_type": "stream",
     "text": []
    },
    {
     "name": "stdout",
     "output_type": "stream",
     "text": [
      "DK_1 2021-11-01 00:00:00+01:00 2021-12-01 00:00:00+01:00\n"
     ]
    },
    {
     "name": "stderr",
     "output_type": "stream",
     "text": []
    },
    {
     "name": "stdout",
     "output_type": "stream",
     "text": [
      "DK_1 2021-12-01 00:00:00+01:00 2022-01-01 00:00:00+01:00\n"
     ]
    },
    {
     "name": "stderr",
     "output_type": "stream",
     "text": [
      "Years:  80%|████████  | 8/10 [9:52:29<2:16:03, 4081.61s/it]"
     ]
    },
    {
     "name": "stdout",
     "output_type": "stream",
     "text": [
      "DK_1 2022-01-01 00:00:00+01:00 2022-02-01 00:00:00+01:00\n"
     ]
    },
    {
     "name": "stderr",
     "output_type": "stream",
     "text": []
    },
    {
     "name": "stdout",
     "output_type": "stream",
     "text": [
      "DK_1 2022-02-01 00:00:00+01:00 2022-03-01 00:00:00+01:00\n"
     ]
    },
    {
     "name": "stderr",
     "output_type": "stream",
     "text": []
    },
    {
     "name": "stdout",
     "output_type": "stream",
     "text": [
      "DK_1 2022-03-01 00:00:00+01:00 2022-04-01 00:00:00+02:00\n"
     ]
    },
    {
     "name": "stderr",
     "output_type": "stream",
     "text": []
    },
    {
     "name": "stdout",
     "output_type": "stream",
     "text": [
      "DK_1 2022-04-01 00:00:00+02:00 2022-05-01 00:00:00+02:00\n"
     ]
    },
    {
     "name": "stderr",
     "output_type": "stream",
     "text": []
    },
    {
     "name": "stdout",
     "output_type": "stream",
     "text": [
      "DK_1 2022-05-01 00:00:00+02:00 2022-06-01 00:00:00+02:00\n"
     ]
    },
    {
     "name": "stderr",
     "output_type": "stream",
     "text": []
    },
    {
     "name": "stdout",
     "output_type": "stream",
     "text": [
      "DK_1 2022-06-01 00:00:00+02:00 2022-07-01 00:00:00+02:00\n"
     ]
    },
    {
     "name": "stderr",
     "output_type": "stream",
     "text": []
    },
    {
     "name": "stdout",
     "output_type": "stream",
     "text": [
      "DK_1 2022-07-01 00:00:00+02:00 2022-08-01 00:00:00+02:00\n"
     ]
    },
    {
     "name": "stderr",
     "output_type": "stream",
     "text": []
    },
    {
     "name": "stdout",
     "output_type": "stream",
     "text": [
      "DK_1 2022-08-01 00:00:00+02:00 2022-09-01 00:00:00+02:00\n"
     ]
    },
    {
     "name": "stderr",
     "output_type": "stream",
     "text": []
    },
    {
     "name": "stdout",
     "output_type": "stream",
     "text": [
      "DK_1 2022-09-01 00:00:00+02:00 2022-10-01 00:00:00+02:00\n"
     ]
    },
    {
     "name": "stderr",
     "output_type": "stream",
     "text": []
    },
    {
     "name": "stdout",
     "output_type": "stream",
     "text": [
      "DK_1 2022-10-01 00:00:00+02:00 2022-11-01 00:00:00+01:00\n"
     ]
    },
    {
     "name": "stderr",
     "output_type": "stream",
     "text": []
    },
    {
     "name": "stdout",
     "output_type": "stream",
     "text": [
      "DK_1 2022-11-01 00:00:00+01:00 2022-12-01 00:00:00+01:00\n"
     ]
    },
    {
     "name": "stderr",
     "output_type": "stream",
     "text": []
    },
    {
     "name": "stdout",
     "output_type": "stream",
     "text": [
      "DK_1 2022-12-01 00:00:00+01:00 2023-01-01 00:00:00+01:00\n"
     ]
    },
    {
     "name": "stderr",
     "output_type": "stream",
     "text": [
      "Years:  90%|█████████ | 9/10 [10:58:51<1:07:30, 4050.48s/it]"
     ]
    },
    {
     "name": "stdout",
     "output_type": "stream",
     "text": [
      "DK_1 2023-01-01 00:00:00+01:00 2023-02-01 00:00:00+01:00\n"
     ]
    },
    {
     "name": "stderr",
     "output_type": "stream",
     "text": []
    },
    {
     "name": "stdout",
     "output_type": "stream",
     "text": [
      "DK_1 2023-02-01 00:00:00+01:00 2023-03-01 00:00:00+01:00\n"
     ]
    },
    {
     "name": "stderr",
     "output_type": "stream",
     "text": []
    },
    {
     "name": "stdout",
     "output_type": "stream",
     "text": [
      "DK_1 2023-03-01 00:00:00+01:00 2023-04-01 00:00:00+02:00\n"
     ]
    },
    {
     "name": "stderr",
     "output_type": "stream",
     "text": []
    },
    {
     "name": "stdout",
     "output_type": "stream",
     "text": [
      "DK_1 2023-04-01 00:00:00+02:00 2023-05-01 00:00:00+02:00\n"
     ]
    },
    {
     "name": "stderr",
     "output_type": "stream",
     "text": []
    },
    {
     "name": "stdout",
     "output_type": "stream",
     "text": [
      "DK_1 2023-05-01 00:00:00+02:00 2023-06-01 00:00:00+02:00\n"
     ]
    },
    {
     "name": "stderr",
     "output_type": "stream",
     "text": []
    },
    {
     "name": "stdout",
     "output_type": "stream",
     "text": [
      "DK_1 2023-06-01 00:00:00+02:00 2023-07-01 00:00:00+02:00\n"
     ]
    },
    {
     "name": "stderr",
     "output_type": "stream",
     "text": []
    },
    {
     "name": "stdout",
     "output_type": "stream",
     "text": [
      "DK_1 2023-07-01 00:00:00+02:00 2023-08-01 00:00:00+02:00\n"
     ]
    },
    {
     "name": "stderr",
     "output_type": "stream",
     "text": []
    },
    {
     "name": "stdout",
     "output_type": "stream",
     "text": [
      "DK_1 2023-08-01 00:00:00+02:00 2023-09-01 00:00:00+02:00\n"
     ]
    },
    {
     "name": "stderr",
     "output_type": "stream",
     "text": []
    },
    {
     "name": "stdout",
     "output_type": "stream",
     "text": [
      "DK_1 2023-09-01 00:00:00+02:00 2023-10-01 00:00:00+02:00\n"
     ]
    },
    {
     "name": "stderr",
     "output_type": "stream",
     "text": [
      "Years: 100%|██████████| 10/10 [11:48:42<00:00, 4252.20s/it] \n",
      "Years:   0%|          | 0/10 [00:00<?, ?it/s]"
     ]
    },
    {
     "name": "stdout",
     "output_type": "stream",
     "text": [
      "DK_2 2014-12-01 00:00:00+01:00 2015-01-01 00:00:00+01:00\n"
     ]
    },
    {
     "name": "stderr",
     "output_type": "stream",
     "text": [
      "Years:  10%|█         | 1/10 [2:07:04<19:03:40, 7624.50s/it]"
     ]
    },
    {
     "name": "stdout",
     "output_type": "stream",
     "text": [
      "DK_2 2015-01-01 00:00:00+01:00 2015-02-01 00:00:00+01:00\n"
     ]
    },
    {
     "name": "stderr",
     "output_type": "stream",
     "text": []
    },
    {
     "name": "stdout",
     "output_type": "stream",
     "text": [
      "DK_2 2015-02-01 00:00:00+01:00 2015-03-01 00:00:00+01:00\n"
     ]
    },
    {
     "name": "stderr",
     "output_type": "stream",
     "text": []
    },
    {
     "name": "stdout",
     "output_type": "stream",
     "text": [
      "DK_2 2015-03-01 00:00:00+01:00 2015-04-01 00:00:00+02:00\n"
     ]
    },
    {
     "name": "stderr",
     "output_type": "stream",
     "text": []
    },
    {
     "name": "stdout",
     "output_type": "stream",
     "text": [
      "DK_2 2015-04-01 00:00:00+02:00 2015-05-01 00:00:00+02:00\n"
     ]
    },
    {
     "name": "stderr",
     "output_type": "stream",
     "text": []
    },
    {
     "name": "stdout",
     "output_type": "stream",
     "text": [
      "DK_2 2015-05-01 00:00:00+02:00 2015-06-01 00:00:00+02:00\n"
     ]
    },
    {
     "name": "stderr",
     "output_type": "stream",
     "text": []
    },
    {
     "name": "stdout",
     "output_type": "stream",
     "text": [
      "DK_2 2015-06-01 00:00:00+02:00 2015-07-01 00:00:00+02:00\n"
     ]
    },
    {
     "name": "stderr",
     "output_type": "stream",
     "text": []
    },
    {
     "name": "stdout",
     "output_type": "stream",
     "text": [
      "DK_2 2015-07-01 00:00:00+02:00 2015-08-01 00:00:00+02:00\n"
     ]
    },
    {
     "name": "stderr",
     "output_type": "stream",
     "text": []
    },
    {
     "name": "stdout",
     "output_type": "stream",
     "text": [
      "DK_2 2015-08-01 00:00:00+02:00 2015-09-01 00:00:00+02:00\n"
     ]
    },
    {
     "name": "stderr",
     "output_type": "stream",
     "text": []
    },
    {
     "name": "stdout",
     "output_type": "stream",
     "text": [
      "DK_2 2015-09-01 00:00:00+02:00 2015-10-01 00:00:00+02:00\n"
     ]
    },
    {
     "name": "stderr",
     "output_type": "stream",
     "text": []
    },
    {
     "name": "stdout",
     "output_type": "stream",
     "text": [
      "DK_2 2015-10-01 00:00:00+02:00 2015-11-01 00:00:00+01:00\n"
     ]
    },
    {
     "name": "stderr",
     "output_type": "stream",
     "text": []
    },
    {
     "name": "stdout",
     "output_type": "stream",
     "text": [
      "DK_2 2015-11-01 00:00:00+01:00 2015-12-01 00:00:00+01:00\n"
     ]
    },
    {
     "name": "stderr",
     "output_type": "stream",
     "text": []
    },
    {
     "name": "stdout",
     "output_type": "stream",
     "text": [
      "DK_2 2015-12-01 00:00:00+01:00 2016-01-01 00:00:00+01:00\n"
     ]
    },
    {
     "name": "stderr",
     "output_type": "stream",
     "text": [
      "Years:  20%|██        | 2/10 [3:13:46<12:12:28, 5493.62s/it]"
     ]
    },
    {
     "name": "stdout",
     "output_type": "stream",
     "text": [
      "DK_2 2016-01-01 00:00:00+01:00 2016-02-01 00:00:00+01:00\n"
     ]
    },
    {
     "name": "stderr",
     "output_type": "stream",
     "text": []
    },
    {
     "name": "stdout",
     "output_type": "stream",
     "text": [
      "DK_2 2016-02-01 00:00:00+01:00 2016-03-01 00:00:00+01:00\n"
     ]
    },
    {
     "name": "stderr",
     "output_type": "stream",
     "text": []
    },
    {
     "name": "stdout",
     "output_type": "stream",
     "text": [
      "DK_2 2016-03-01 00:00:00+01:00 2016-04-01 00:00:00+02:00\n"
     ]
    },
    {
     "name": "stderr",
     "output_type": "stream",
     "text": []
    },
    {
     "name": "stdout",
     "output_type": "stream",
     "text": [
      "DK_2 2016-04-01 00:00:00+02:00 2016-05-01 00:00:00+02:00\n"
     ]
    },
    {
     "name": "stderr",
     "output_type": "stream",
     "text": []
    },
    {
     "name": "stdout",
     "output_type": "stream",
     "text": [
      "DK_2 2016-05-01 00:00:00+02:00 2016-06-01 00:00:00+02:00\n"
     ]
    },
    {
     "name": "stderr",
     "output_type": "stream",
     "text": []
    },
    {
     "name": "stdout",
     "output_type": "stream",
     "text": [
      "DK_2 2016-06-01 00:00:00+02:00 2016-07-01 00:00:00+02:00\n"
     ]
    },
    {
     "name": "stderr",
     "output_type": "stream",
     "text": []
    },
    {
     "name": "stdout",
     "output_type": "stream",
     "text": [
      "DK_2 2016-07-01 00:00:00+02:00 2016-08-01 00:00:00+02:00\n"
     ]
    },
    {
     "name": "stderr",
     "output_type": "stream",
     "text": []
    },
    {
     "name": "stdout",
     "output_type": "stream",
     "text": [
      "DK_2 2016-08-01 00:00:00+02:00 2016-09-01 00:00:00+02:00\n"
     ]
    },
    {
     "name": "stderr",
     "output_type": "stream",
     "text": []
    },
    {
     "name": "stdout",
     "output_type": "stream",
     "text": [
      "DK_2 2016-09-01 00:00:00+02:00 2016-10-01 00:00:00+02:00\n"
     ]
    },
    {
     "name": "stderr",
     "output_type": "stream",
     "text": []
    },
    {
     "name": "stdout",
     "output_type": "stream",
     "text": [
      "DK_2 2016-10-01 00:00:00+02:00 2016-11-01 00:00:00+01:00\n"
     ]
    },
    {
     "name": "stderr",
     "output_type": "stream",
     "text": []
    },
    {
     "name": "stdout",
     "output_type": "stream",
     "text": [
      "DK_2 2016-11-01 00:00:00+01:00 2016-12-01 00:00:00+01:00\n"
     ]
    },
    {
     "name": "stderr",
     "output_type": "stream",
     "text": []
    },
    {
     "name": "stdout",
     "output_type": "stream",
     "text": [
      "DK_2 2016-12-01 00:00:00+01:00 2017-01-01 00:00:00+01:00\n"
     ]
    },
    {
     "name": "stderr",
     "output_type": "stream",
     "text": [
      "Years:  30%|███       | 3/10 [4:20:27<9:21:25, 4812.19s/it] "
     ]
    },
    {
     "name": "stdout",
     "output_type": "stream",
     "text": [
      "DK_2 2017-01-01 00:00:00+01:00 2017-02-01 00:00:00+01:00\n"
     ]
    },
    {
     "name": "stderr",
     "output_type": "stream",
     "text": []
    },
    {
     "name": "stdout",
     "output_type": "stream",
     "text": [
      "DK_2 2017-02-01 00:00:00+01:00 2017-03-01 00:00:00+01:00\n"
     ]
    },
    {
     "name": "stderr",
     "output_type": "stream",
     "text": []
    },
    {
     "name": "stdout",
     "output_type": "stream",
     "text": [
      "DK_2 2017-03-01 00:00:00+01:00 2017-04-01 00:00:00+02:00\n"
     ]
    },
    {
     "name": "stderr",
     "output_type": "stream",
     "text": []
    },
    {
     "name": "stdout",
     "output_type": "stream",
     "text": [
      "DK_2 2017-04-01 00:00:00+02:00 2017-05-01 00:00:00+02:00\n"
     ]
    },
    {
     "name": "stderr",
     "output_type": "stream",
     "text": []
    },
    {
     "name": "stdout",
     "output_type": "stream",
     "text": [
      "DK_2 2017-05-01 00:00:00+02:00 2017-06-01 00:00:00+02:00\n"
     ]
    },
    {
     "name": "stderr",
     "output_type": "stream",
     "text": []
    },
    {
     "name": "stdout",
     "output_type": "stream",
     "text": [
      "DK_2 2017-06-01 00:00:00+02:00 2017-07-01 00:00:00+02:00\n"
     ]
    },
    {
     "name": "stderr",
     "output_type": "stream",
     "text": []
    },
    {
     "name": "stdout",
     "output_type": "stream",
     "text": [
      "DK_2 2017-07-01 00:00:00+02:00 2017-08-01 00:00:00+02:00\n"
     ]
    },
    {
     "name": "stderr",
     "output_type": "stream",
     "text": []
    },
    {
     "name": "stdout",
     "output_type": "stream",
     "text": [
      "DK_2 2017-08-01 00:00:00+02:00 2017-09-01 00:00:00+02:00\n"
     ]
    },
    {
     "name": "stderr",
     "output_type": "stream",
     "text": []
    },
    {
     "name": "stdout",
     "output_type": "stream",
     "text": [
      "DK_2 2017-09-01 00:00:00+02:00 2017-10-01 00:00:00+02:00\n"
     ]
    },
    {
     "name": "stderr",
     "output_type": "stream",
     "text": []
    },
    {
     "name": "stdout",
     "output_type": "stream",
     "text": [
      "DK_2 2017-10-01 00:00:00+02:00 2017-11-01 00:00:00+01:00\n"
     ]
    },
    {
     "name": "stderr",
     "output_type": "stream",
     "text": []
    },
    {
     "name": "stdout",
     "output_type": "stream",
     "text": [
      "DK_2 2017-11-01 00:00:00+01:00 2017-12-01 00:00:00+01:00\n"
     ]
    },
    {
     "name": "stderr",
     "output_type": "stream",
     "text": []
    },
    {
     "name": "stdout",
     "output_type": "stream",
     "text": [
      "DK_2 2017-12-01 00:00:00+01:00 2018-01-01 00:00:00+01:00\n"
     ]
    },
    {
     "name": "stderr",
     "output_type": "stream",
     "text": [
      "Years:  40%|████      | 4/10 [5:27:02<7:28:56, 4489.42s/it]"
     ]
    },
    {
     "name": "stdout",
     "output_type": "stream",
     "text": [
      "DK_2 2018-01-01 00:00:00+01:00 2018-02-01 00:00:00+01:00\n"
     ]
    },
    {
     "name": "stderr",
     "output_type": "stream",
     "text": []
    },
    {
     "name": "stdout",
     "output_type": "stream",
     "text": [
      "DK_2 2018-02-01 00:00:00+01:00 2018-03-01 00:00:00+01:00\n"
     ]
    },
    {
     "name": "stderr",
     "output_type": "stream",
     "text": []
    },
    {
     "name": "stdout",
     "output_type": "stream",
     "text": [
      "DK_2 2018-03-01 00:00:00+01:00 2018-04-01 00:00:00+02:00\n"
     ]
    },
    {
     "name": "stderr",
     "output_type": "stream",
     "text": []
    },
    {
     "name": "stdout",
     "output_type": "stream",
     "text": [
      "DK_2 2018-04-01 00:00:00+02:00 2018-05-01 00:00:00+02:00\n"
     ]
    },
    {
     "name": "stderr",
     "output_type": "stream",
     "text": []
    },
    {
     "name": "stdout",
     "output_type": "stream",
     "text": [
      "DK_2 2018-05-01 00:00:00+02:00 2018-06-01 00:00:00+02:00\n"
     ]
    },
    {
     "name": "stderr",
     "output_type": "stream",
     "text": []
    },
    {
     "name": "stdout",
     "output_type": "stream",
     "text": [
      "DK_2 2018-06-01 00:00:00+02:00 2018-07-01 00:00:00+02:00\n"
     ]
    },
    {
     "name": "stderr",
     "output_type": "stream",
     "text": []
    },
    {
     "name": "stdout",
     "output_type": "stream",
     "text": [
      "DK_2 2018-07-01 00:00:00+02:00 2018-08-01 00:00:00+02:00\n"
     ]
    },
    {
     "name": "stderr",
     "output_type": "stream",
     "text": []
    },
    {
     "name": "stdout",
     "output_type": "stream",
     "text": [
      "DK_2 2018-08-01 00:00:00+02:00 2018-09-01 00:00:00+02:00\n"
     ]
    },
    {
     "name": "stderr",
     "output_type": "stream",
     "text": []
    },
    {
     "name": "stdout",
     "output_type": "stream",
     "text": [
      "DK_2 2018-09-01 00:00:00+02:00 2018-10-01 00:00:00+02:00\n"
     ]
    },
    {
     "name": "stderr",
     "output_type": "stream",
     "text": []
    },
    {
     "name": "stdout",
     "output_type": "stream",
     "text": [
      "DK_2 2018-10-01 00:00:00+02:00 2018-11-01 00:00:00+01:00\n"
     ]
    },
    {
     "name": "stderr",
     "output_type": "stream",
     "text": []
    },
    {
     "name": "stdout",
     "output_type": "stream",
     "text": [
      "DK_2 2018-11-01 00:00:00+01:00 2018-12-01 00:00:00+01:00\n"
     ]
    },
    {
     "name": "stderr",
     "output_type": "stream",
     "text": []
    },
    {
     "name": "stdout",
     "output_type": "stream",
     "text": [
      "DK_2 2018-12-01 00:00:00+01:00 2019-01-01 00:00:00+01:00\n"
     ]
    },
    {
     "name": "stderr",
     "output_type": "stream",
     "text": [
      "Years:  50%|█████     | 5/10 [6:33:44<5:59:27, 4313.58s/it]"
     ]
    },
    {
     "name": "stdout",
     "output_type": "stream",
     "text": [
      "DK_2 2019-01-01 00:00:00+01:00 2019-02-01 00:00:00+01:00\n"
     ]
    },
    {
     "name": "stderr",
     "output_type": "stream",
     "text": []
    },
    {
     "name": "stdout",
     "output_type": "stream",
     "text": [
      "DK_2 2019-02-01 00:00:00+01:00 2019-03-01 00:00:00+01:00\n"
     ]
    },
    {
     "name": "stderr",
     "output_type": "stream",
     "text": []
    },
    {
     "name": "stdout",
     "output_type": "stream",
     "text": [
      "DK_2 2019-03-01 00:00:00+01:00 2019-04-01 00:00:00+02:00\n"
     ]
    },
    {
     "name": "stderr",
     "output_type": "stream",
     "text": []
    },
    {
     "name": "stdout",
     "output_type": "stream",
     "text": [
      "DK_2 2019-04-01 00:00:00+02:00 2019-05-01 00:00:00+02:00\n"
     ]
    },
    {
     "name": "stderr",
     "output_type": "stream",
     "text": []
    },
    {
     "name": "stdout",
     "output_type": "stream",
     "text": [
      "DK_2 2019-05-01 00:00:00+02:00 2019-06-01 00:00:00+02:00\n"
     ]
    },
    {
     "name": "stderr",
     "output_type": "stream",
     "text": []
    },
    {
     "name": "stdout",
     "output_type": "stream",
     "text": [
      "DK_2 2019-06-01 00:00:00+02:00 2019-07-01 00:00:00+02:00\n"
     ]
    },
    {
     "name": "stderr",
     "output_type": "stream",
     "text": []
    },
    {
     "name": "stdout",
     "output_type": "stream",
     "text": [
      "DK_2 2019-07-01 00:00:00+02:00 2019-08-01 00:00:00+02:00\n"
     ]
    },
    {
     "name": "stderr",
     "output_type": "stream",
     "text": []
    },
    {
     "name": "stdout",
     "output_type": "stream",
     "text": [
      "DK_2 2019-08-01 00:00:00+02:00 2019-09-01 00:00:00+02:00\n"
     ]
    },
    {
     "name": "stderr",
     "output_type": "stream",
     "text": []
    },
    {
     "name": "stdout",
     "output_type": "stream",
     "text": [
      "DK_2 2019-09-01 00:00:00+02:00 2019-10-01 00:00:00+02:00\n"
     ]
    },
    {
     "name": "stderr",
     "output_type": "stream",
     "text": []
    },
    {
     "name": "stdout",
     "output_type": "stream",
     "text": [
      "DK_2 2019-10-01 00:00:00+02:00 2019-11-01 00:00:00+01:00\n"
     ]
    },
    {
     "name": "stderr",
     "output_type": "stream",
     "text": []
    },
    {
     "name": "stdout",
     "output_type": "stream",
     "text": [
      "DK_2 2019-11-01 00:00:00+01:00 2019-12-01 00:00:00+01:00\n"
     ]
    },
    {
     "name": "stderr",
     "output_type": "stream",
     "text": []
    },
    {
     "name": "stdout",
     "output_type": "stream",
     "text": [
      "DK_2 2019-12-01 00:00:00+01:00 2020-01-01 00:00:00+01:00\n"
     ]
    },
    {
     "name": "stderr",
     "output_type": "stream",
     "text": [
      "Years:  60%|██████    | 6/10 [7:40:13<4:40:13, 4203.44s/it]"
     ]
    },
    {
     "name": "stdout",
     "output_type": "stream",
     "text": [
      "DK_2 2020-01-01 00:00:00+01:00 2020-02-01 00:00:00+01:00\n"
     ]
    },
    {
     "name": "stderr",
     "output_type": "stream",
     "text": []
    },
    {
     "name": "stdout",
     "output_type": "stream",
     "text": [
      "DK_2 2020-02-01 00:00:00+01:00 2020-03-01 00:00:00+01:00\n"
     ]
    },
    {
     "name": "stderr",
     "output_type": "stream",
     "text": []
    },
    {
     "name": "stdout",
     "output_type": "stream",
     "text": [
      "DK_2 2020-03-01 00:00:00+01:00 2020-04-01 00:00:00+02:00\n"
     ]
    },
    {
     "name": "stderr",
     "output_type": "stream",
     "text": []
    },
    {
     "name": "stdout",
     "output_type": "stream",
     "text": [
      "DK_2 2020-04-01 00:00:00+02:00 2020-05-01 00:00:00+02:00\n"
     ]
    },
    {
     "name": "stderr",
     "output_type": "stream",
     "text": []
    },
    {
     "name": "stdout",
     "output_type": "stream",
     "text": [
      "DK_2 2020-05-01 00:00:00+02:00 2020-06-01 00:00:00+02:00\n"
     ]
    },
    {
     "name": "stderr",
     "output_type": "stream",
     "text": []
    },
    {
     "name": "stdout",
     "output_type": "stream",
     "text": [
      "DK_2 2020-06-01 00:00:00+02:00 2020-07-01 00:00:00+02:00\n"
     ]
    },
    {
     "name": "stderr",
     "output_type": "stream",
     "text": []
    },
    {
     "name": "stdout",
     "output_type": "stream",
     "text": [
      "DK_2 2020-07-01 00:00:00+02:00 2020-08-01 00:00:00+02:00\n"
     ]
    },
    {
     "name": "stderr",
     "output_type": "stream",
     "text": []
    },
    {
     "name": "stdout",
     "output_type": "stream",
     "text": [
      "DK_2 2020-08-01 00:00:00+02:00 2020-09-01 00:00:00+02:00\n"
     ]
    },
    {
     "name": "stderr",
     "output_type": "stream",
     "text": []
    },
    {
     "name": "stdout",
     "output_type": "stream",
     "text": [
      "DK_2 2020-09-01 00:00:00+02:00 2020-10-01 00:00:00+02:00\n"
     ]
    },
    {
     "name": "stderr",
     "output_type": "stream",
     "text": []
    },
    {
     "name": "stdout",
     "output_type": "stream",
     "text": [
      "DK_2 2020-10-01 00:00:00+02:00 2020-11-01 00:00:00+01:00\n"
     ]
    },
    {
     "name": "stderr",
     "output_type": "stream",
     "text": []
    },
    {
     "name": "stdout",
     "output_type": "stream",
     "text": [
      "DK_2 2020-11-01 00:00:00+01:00 2020-12-01 00:00:00+01:00\n"
     ]
    },
    {
     "name": "stderr",
     "output_type": "stream",
     "text": []
    },
    {
     "name": "stdout",
     "output_type": "stream",
     "text": [
      "DK_2 2020-12-01 00:00:00+01:00 2021-01-01 00:00:00+01:00\n"
     ]
    },
    {
     "name": "stderr",
     "output_type": "stream",
     "text": [
      "Years:  70%|███████   | 7/10 [8:46:42<3:26:40, 4133.36s/it]"
     ]
    },
    {
     "name": "stdout",
     "output_type": "stream",
     "text": [
      "DK_2 2021-01-01 00:00:00+01:00 2021-02-01 00:00:00+01:00\n"
     ]
    },
    {
     "name": "stderr",
     "output_type": "stream",
     "text": [
      "Connection Error, retrying in 0 seconds\n"
     ]
    },
    {
     "name": "stdout",
     "output_type": "stream",
     "text": [
      "DK_2 2021-02-01 00:00:00+01:00 2021-03-01 00:00:00+01:00\n"
     ]
    },
    {
     "name": "stderr",
     "output_type": "stream",
     "text": []
    },
    {
     "name": "stdout",
     "output_type": "stream",
     "text": [
      "DK_2 2021-03-01 00:00:00+01:00 2021-04-01 00:00:00+02:00\n"
     ]
    },
    {
     "name": "stderr",
     "output_type": "stream",
     "text": []
    },
    {
     "name": "stdout",
     "output_type": "stream",
     "text": [
      "DK_2 2021-04-01 00:00:00+02:00 2021-05-01 00:00:00+02:00\n"
     ]
    },
    {
     "name": "stderr",
     "output_type": "stream",
     "text": []
    },
    {
     "name": "stdout",
     "output_type": "stream",
     "text": [
      "DK_2 2021-05-01 00:00:00+02:00 2021-06-01 00:00:00+02:00\n"
     ]
    },
    {
     "name": "stderr",
     "output_type": "stream",
     "text": []
    },
    {
     "name": "stdout",
     "output_type": "stream",
     "text": [
      "DK_2 2021-06-01 00:00:00+02:00 2021-07-01 00:00:00+02:00\n"
     ]
    },
    {
     "name": "stderr",
     "output_type": "stream",
     "text": []
    },
    {
     "name": "stdout",
     "output_type": "stream",
     "text": [
      "DK_2 2021-07-01 00:00:00+02:00 2021-08-01 00:00:00+02:00\n"
     ]
    },
    {
     "name": "stderr",
     "output_type": "stream",
     "text": []
    },
    {
     "name": "stdout",
     "output_type": "stream",
     "text": [
      "DK_2 2021-08-01 00:00:00+02:00 2021-09-01 00:00:00+02:00\n"
     ]
    },
    {
     "name": "stderr",
     "output_type": "stream",
     "text": []
    },
    {
     "name": "stdout",
     "output_type": "stream",
     "text": [
      "DK_2 2021-09-01 00:00:00+02:00 2021-10-01 00:00:00+02:00\n"
     ]
    },
    {
     "name": "stderr",
     "output_type": "stream",
     "text": []
    },
    {
     "name": "stdout",
     "output_type": "stream",
     "text": [
      "DK_2 2021-10-01 00:00:00+02:00 2021-11-01 00:00:00+01:00\n"
     ]
    },
    {
     "name": "stderr",
     "output_type": "stream",
     "text": []
    },
    {
     "name": "stdout",
     "output_type": "stream",
     "text": [
      "DK_2 2021-11-01 00:00:00+01:00 2021-12-01 00:00:00+01:00\n"
     ]
    },
    {
     "name": "stderr",
     "output_type": "stream",
     "text": []
    },
    {
     "name": "stdout",
     "output_type": "stream",
     "text": [
      "DK_2 2021-12-01 00:00:00+01:00 2022-01-01 00:00:00+01:00\n"
     ]
    },
    {
     "name": "stderr",
     "output_type": "stream",
     "text": [
      "Years:  80%|████████  | 8/10 [10:02:29<2:22:09, 4264.92s/it]"
     ]
    },
    {
     "name": "stdout",
     "output_type": "stream",
     "text": [
      "DK_2 2022-01-01 00:00:00+01:00 2022-02-01 00:00:00+01:00\n"
     ]
    },
    {
     "name": "stderr",
     "output_type": "stream",
     "text": []
    },
    {
     "name": "stdout",
     "output_type": "stream",
     "text": [
      "DK_2 2022-02-01 00:00:00+01:00 2022-03-01 00:00:00+01:00\n"
     ]
    },
    {
     "name": "stderr",
     "output_type": "stream",
     "text": []
    },
    {
     "name": "stdout",
     "output_type": "stream",
     "text": [
      "DK_2 2022-03-01 00:00:00+01:00 2022-04-01 00:00:00+02:00\n"
     ]
    },
    {
     "name": "stderr",
     "output_type": "stream",
     "text": []
    },
    {
     "name": "stdout",
     "output_type": "stream",
     "text": [
      "DK_2 2022-04-01 00:00:00+02:00 2022-05-01 00:00:00+02:00\n"
     ]
    },
    {
     "name": "stderr",
     "output_type": "stream",
     "text": []
    },
    {
     "name": "stdout",
     "output_type": "stream",
     "text": [
      "DK_2 2022-05-01 00:00:00+02:00 2022-06-01 00:00:00+02:00\n"
     ]
    },
    {
     "name": "stderr",
     "output_type": "stream",
     "text": []
    },
    {
     "name": "stdout",
     "output_type": "stream",
     "text": [
      "DK_2 2022-06-01 00:00:00+02:00 2022-07-01 00:00:00+02:00\n"
     ]
    },
    {
     "name": "stderr",
     "output_type": "stream",
     "text": []
    },
    {
     "name": "stdout",
     "output_type": "stream",
     "text": [
      "DK_2 2022-07-01 00:00:00+02:00 2022-08-01 00:00:00+02:00\n"
     ]
    },
    {
     "name": "stderr",
     "output_type": "stream",
     "text": []
    },
    {
     "name": "stdout",
     "output_type": "stream",
     "text": [
      "DK_2 2022-08-01 00:00:00+02:00 2022-09-01 00:00:00+02:00\n"
     ]
    },
    {
     "name": "stderr",
     "output_type": "stream",
     "text": []
    },
    {
     "name": "stdout",
     "output_type": "stream",
     "text": [
      "DK_2 2022-09-01 00:00:00+02:00 2022-10-01 00:00:00+02:00\n"
     ]
    },
    {
     "name": "stderr",
     "output_type": "stream",
     "text": []
    },
    {
     "name": "stdout",
     "output_type": "stream",
     "text": [
      "DK_2 2022-10-01 00:00:00+02:00 2022-11-01 00:00:00+01:00\n"
     ]
    },
    {
     "name": "stderr",
     "output_type": "stream",
     "text": []
    },
    {
     "name": "stdout",
     "output_type": "stream",
     "text": [
      "DK_2 2022-11-01 00:00:00+01:00 2022-12-01 00:00:00+01:00\n"
     ]
    },
    {
     "name": "stderr",
     "output_type": "stream",
     "text": []
    },
    {
     "name": "stdout",
     "output_type": "stream",
     "text": [
      "DK_2 2022-12-01 00:00:00+01:00 2023-01-01 00:00:00+01:00\n"
     ]
    },
    {
     "name": "stderr",
     "output_type": "stream",
     "text": [
      "Years:  90%|█████████ | 9/10 [11:09:05<1:09:40, 4180.80s/it]"
     ]
    },
    {
     "name": "stdout",
     "output_type": "stream",
     "text": [
      "DK_2 2023-01-01 00:00:00+01:00 2023-02-01 00:00:00+01:00\n"
     ]
    },
    {
     "name": "stderr",
     "output_type": "stream",
     "text": []
    },
    {
     "name": "stdout",
     "output_type": "stream",
     "text": [
      "DK_2 2023-02-01 00:00:00+01:00 2023-03-01 00:00:00+01:00\n"
     ]
    },
    {
     "name": "stderr",
     "output_type": "stream",
     "text": []
    },
    {
     "name": "stdout",
     "output_type": "stream",
     "text": [
      "DK_2 2023-03-01 00:00:00+01:00 2023-04-01 00:00:00+02:00\n"
     ]
    },
    {
     "name": "stderr",
     "output_type": "stream",
     "text": []
    },
    {
     "name": "stdout",
     "output_type": "stream",
     "text": [
      "DK_2 2023-04-01 00:00:00+02:00 2023-05-01 00:00:00+02:00\n"
     ]
    },
    {
     "name": "stderr",
     "output_type": "stream",
     "text": []
    },
    {
     "name": "stdout",
     "output_type": "stream",
     "text": [
      "DK_2 2023-05-01 00:00:00+02:00 2023-06-01 00:00:00+02:00\n"
     ]
    },
    {
     "name": "stderr",
     "output_type": "stream",
     "text": []
    },
    {
     "name": "stdout",
     "output_type": "stream",
     "text": [
      "DK_2 2023-06-01 00:00:00+02:00 2023-07-01 00:00:00+02:00\n"
     ]
    },
    {
     "name": "stderr",
     "output_type": "stream",
     "text": []
    },
    {
     "name": "stdout",
     "output_type": "stream",
     "text": [
      "DK_2 2023-07-01 00:00:00+02:00 2023-08-01 00:00:00+02:00\n"
     ]
    },
    {
     "name": "stderr",
     "output_type": "stream",
     "text": []
    },
    {
     "name": "stdout",
     "output_type": "stream",
     "text": [
      "DK_2 2023-08-01 00:00:00+02:00 2023-09-01 00:00:00+02:00\n"
     ]
    },
    {
     "name": "stderr",
     "output_type": "stream",
     "text": []
    },
    {
     "name": "stdout",
     "output_type": "stream",
     "text": [
      "DK_2 2023-09-01 00:00:00+02:00 2023-10-01 00:00:00+02:00\n"
     ]
    },
    {
     "name": "stderr",
     "output_type": "stream",
     "text": [
      "Years: 100%|██████████| 10/10 [11:59:46<00:00, 4318.60s/it] \n"
     ]
    }
   ],
   "source": [
    "# Initialize an empty list to store the individual data frames\n",
    "for region in [\"DK_1\", \"DK_2\"]:\n",
    "    stop_loop = False\n",
    "    all_data = []\n",
    "    # Wrap your range with tqdm to create a progress bar\n",
    "    for start_year in tqdm(range(14, 24), desc=\"Years\"):\n",
    "        for start_month in tqdm(range(1, 13), desc=\"Months\", leave=False):  # leave=False will remove inner bar when done\n",
    "            if start_year == 23 and start_month == 10:\n",
    "                stop_loop = True  # Set the flag to True\n",
    "                break  # Break the inner loop\n",
    "\n",
    "            for attempt in range(3):\n",
    "                try:\n",
    "                    if start_month == 12:  # correction if start month is December\n",
    "                        end_month = 1\n",
    "                        end_year = start_year + 1\n",
    "                    else:\n",
    "                        end_month = start_month + 1\n",
    "                        end_year = start_year\n",
    "\n",
    "                    start_month_str = str(start_month).zfill(2)\n",
    "                    end_month_str = str(end_month).zfill(2)\n",
    "\n",
    "                    start_year_str = str(start_year).zfill(2)\n",
    "                    end_year_str = str(end_year).zfill(2)\n",
    "\n",
    "                    start = pd.Timestamp(f'20{start_year_str}{start_month_str}01', tz='Europe/Brussels')\n",
    "                    end = pd.Timestamp(f'20{end_year_str}{end_month_str}01', tz='Europe/Brussels')\n",
    "\n",
    "                    # Query and store the response\n",
    "                    response = client.query_generation_forecast(region, start=start, end=end)\n",
    "                    \n",
    "                    # Append the response DataFrame to all_data list\n",
    "                    all_data.append(response)\n",
    "                    print(region, start, end)\n",
    "                    # Sleep for 300 seconds (5 minutes) to avoid API rate limits\n",
    "                    time.sleep(330)\n",
    "                    break\n",
    "                except: \n",
    "                    if attempt < 2:\n",
    "                        time.sleep(330)\n",
    "\n",
    "            if stop_loop:  # Check the flag after the inner loop\n",
    "                break  # Break the outer loop if the flag is True\n",
    "            \n",
    "    # Concatenate all the data frames in the list into one long data frame\n",
    "    all_data_dict[f\"for_generation_{region}\"] = pd.concat(all_data)\n",
    "    all_data_dict[f\"for_generation_{region}\"].to_csv(f'{data_path}/ENTSO-E_for_generation_{region}.csv')"
   ]
  }
 ],
 "metadata": {
  "kernelspec": {
   "display_name": "base",
   "language": "python",
   "name": "python3"
  },
  "language_info": {
   "codemirror_mode": {
    "name": "ipython",
    "version": 3
   },
   "file_extension": ".py",
   "mimetype": "text/x-python",
   "name": "python",
   "nbconvert_exporter": "python",
   "pygments_lexer": "ipython3",
   "version": "3.11.3"
  },
  "orig_nbformat": 4
 },
 "nbformat": 4,
 "nbformat_minor": 2
}
