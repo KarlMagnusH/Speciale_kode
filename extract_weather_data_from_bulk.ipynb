{
 "cells": [
  {
   "cell_type": "code",
   "execution_count": 1,
   "metadata": {},
   "outputs": [],
   "source": [
    "import pandas as pd\n",
    "import numpy as np\n",
    "import zipfile\n",
    "import os\n",
    "import json\n",
    "import shutil\n",
    "from datetime import datetime, timedelta\n",
    "import glob\n",
    "import re\n",
    "from tqdm import tqdm"
   ]
  },
  {
   "cell_type": "code",
   "execution_count": 2,
   "metadata": {},
   "outputs": [],
   "source": [
    "def file_path(file_name, file_format, base_path=None, folder_name=None):\n",
    "    '''function that defines the filepath that is sent into load_data'''\n",
    "    if base_path is None:\n",
    "        base_path = r\"/Users/magnushovmand/Dropbox/UNI/Speciale\"  # Default base_path\n",
    "    if folder_name is None:\n",
    "        folder_name = \"\"  # Default folder_name\n",
    "    file = f\"{file_name}.{file_format}\"\n",
    "    path = os.path.join(base_path, folder_name, file)\n",
    "    return path\n",
    "\n",
    "def open_file_lines(file_path):\n",
    "    '''opens the file wanted to extract data from'''\n",
    "    with open(file_path, 'r') as file:\n",
    "        return file.readlines()\n",
    "\n",
    "def get_zip_files(directory_path):\n",
    "    '''extracts the name and the path of all zip files'''\n",
    "    # Use glob to find all the zip files in the given directory\n",
    "    zip_files = glob.glob(os.path.join(directory_path, '*.zip'))\n",
    "    \n",
    "    return zip_files\n",
    "\n",
    "def main(directory_path):\n",
    "    '''extracts weather data from the bulk extraction zip file and return the wanted variables to json files\n",
    "    Each years data is extracted to its own json file \n",
    "    \n",
    "    args: \n",
    "        - directory_path: path to the directory where the zip files can be found\n",
    "\n",
    "    return:\n",
    "        - return none, but save the data into json files. One file for each year\n",
    "    '''\n",
    "    # Step 1: Unzip the ZIP file\n",
    "    for zip_file in tqdm(get_zip_files(directory_path), desc=\"Processing ZIP files\"):\n",
    "        # Create a directory to extract the files to\n",
    "        extract_path = os.path.join(directory_path, os.path.basename(zip_file)[:-4])\n",
    "        with zipfile.ZipFile(zip_file, 'r') as zip_ref:\n",
    "            zip_ref.extractall(extract_path) # Extract to the specified directory\n",
    "\n",
    "            # Step 2: Process each txt file\n",
    "            parameters_wanted = [\"temp_mean_past1h\", \"wind_dir_past1h\", \"wind_speed_past1h\", \"sun_last1h_glob\"]\n",
    "            result = {}\n",
    "            total_files = sum([len(files) for _, _, files in os.walk(extract_path) if any(file_name.endswith('.txt') for file_name in files)])# Get the total number of files for the progress bar\n",
    "            with tqdm(total=total_files, desc=f\"Processing {zip_file}\") as pbar:\n",
    "                for root, _, files in os.walk(extract_path): # Change zip_file to extract_path\n",
    "                    for file_name in files:\n",
    "                        if file_name.endswith('.txt'):\n",
    "                            txt_file_path = os.path.join(root, file_name)\n",
    "                            txt_file = open_file_lines(txt_file_path)\n",
    "                            \n",
    "                            for line in txt_file: #The files do not have proper json format though the individual lines does. We therefore only load the lines as json\n",
    "                                try:\n",
    "                                    item = json.loads(line)\n",
    "                                except json.JSONDecodeError:\n",
    "                                    print(f\"Error decoding line: {line}\") #line for debugging problematic lines in the txt files\n",
    "                                    continue\n",
    "\n",
    "                                if item['geometry'] is not None:\n",
    "                                    coordinates = item['geometry']['coordinates']\n",
    "                                else:\n",
    "                                    coordinates = item['properties']['stationId']\n",
    "                                coordinates_key = str(coordinates)\n",
    "\n",
    "                                    # Correcting the time\n",
    "                                observed_time = item['properties']['observed']\n",
    "                                observed_time_dt = datetime.strptime(observed_time, '%Y-%m-%dT%H:%M:%SZ')\n",
    "                                observed_time_dt -= timedelta(hours=1)\n",
    "\n",
    "                                    # Convert the corrected datetime object back to a string\n",
    "                                corrected_observed_time = observed_time_dt.strftime('%Y-%m-%d-%H')\n",
    "\n",
    "                                parameter_id = item['properties']['parameterId']\n",
    "                                station_id = item['properties']['stationId']\n",
    "                                value = item['properties']['value']\n",
    "                                \n",
    "                                if parameter_id not in parameters_wanted:\n",
    "                                    continue\n",
    "        \n",
    "                                if coordinates_key not in result:\n",
    "                                    result[coordinates_key] = {\"stationId\": station_id, \"Data\": {}}\n",
    "                                    \n",
    "                                if corrected_observed_time not in result[coordinates_key][\"Data\"]:\n",
    "                                    result[coordinates_key][\"Data\"][corrected_observed_time] = {}\n",
    "                                    \n",
    "                                result[coordinates_key][\"Data\"][corrected_observed_time][parameter_id] = value\n",
    "                            pbar.update(1) #updates the progress bar\n",
    "\n",
    "        year = re.search(r'\\b\\d{4}\\b', zip_file).group() # extracting year from the path\n",
    "\n",
    "        file_saved_to = file_path(f\"weather_data_{year}\", \"json\", base_path=directory_path, folder_name=None)\n",
    "        # Save to JSON\n",
    "        with open(file_saved_to, 'w') as json_file:\n",
    "            json.dump(result, json_file, indent=4)\n",
    "\n",
    "        # Step 3: Delete the folder with the data\n",
    "        shutil.rmtree(extract_path) # Remove the directory with extracted data to save space. Each zip file contains about 10-15 GB data\n",
    "\n",
    "        print(f\"The dataset for {year} is done. It contains data for {len(result)} weather station. The data is saved to {file_saved_to}\")"
   ]
  },
  {
   "cell_type": "code",
   "execution_count": 3,
   "metadata": {},
   "outputs": [
    {
     "name": "stderr",
     "output_type": "stream",
     "text": [
      "Processing ZIP files:   0%|          | 0/2 [00:00<?, ?it/s]"
     ]
    },
    {
     "name": "stderr",
     "output_type": "stream",
     "text": [
      "Processing /Users/magnushovmand/Desktop/2022.zip: 100%|██████████| 365/365 [1:04:23<00:00, 10.58s/it]\n",
      "Processing ZIP files:  50%|█████     | 1/2 [1:08:26<1:08:26, 4106.05s/it]"
     ]
    },
    {
     "name": "stdout",
     "output_type": "stream",
     "text": [
      "Processed 68 files and saved to /Users/magnushovmand/Desktop/weather_data_2022.json\n"
     ]
    },
    {
     "name": "stderr",
     "output_type": "stream",
     "text": [
      "Processing /Users/magnushovmand/Desktop/2023.zip: 100%|██████████| 236/236 [34:49<00:00,  8.85s/it]\n",
      "Processing ZIP files: 100%|██████████| 2/2 [1:45:18<00:00, 3159.12s/it]  "
     ]
    },
    {
     "name": "stdout",
     "output_type": "stream",
     "text": [
      "Processed 68 files and saved to /Users/magnushovmand/Desktop/weather_data_2023.json\n"
     ]
    },
    {
     "name": "stderr",
     "output_type": "stream",
     "text": [
      "\n"
     ]
    }
   ],
   "source": [
    "# zip_path = 'path/to/your.zip' # Provide the path to your ZIP file\n",
    "# output_json = 'output.json' # Output JSON file name\n",
    "main(\"/Users/magnushovmand/Desktop\")"
   ]
  }
 ],
 "metadata": {
  "kernelspec": {
   "display_name": "base",
   "language": "python",
   "name": "python3"
  },
  "language_info": {
   "codemirror_mode": {
    "name": "ipython",
    "version": 3
   },
   "file_extension": ".py",
   "mimetype": "text/x-python",
   "name": "python",
   "nbconvert_exporter": "python",
   "pygments_lexer": "ipython3",
   "version": "3.11.3"
  },
  "orig_nbformat": 4
 },
 "nbformat": 4,
 "nbformat_minor": 2
}
